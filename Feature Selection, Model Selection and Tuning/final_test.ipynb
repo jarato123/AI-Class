{
 "cells": [
  {
   "cell_type": "code",
   "execution_count": 18,
   "metadata": {},
   "outputs": [
    {
     "name": "stdout",
     "output_type": "stream",
     "text": [
      "The nb_black extension is already loaded. To reload it, use:\n",
      "  %reload_ext nb_black\n"
     ]
    },
    {
     "data": {
      "application/javascript": "\n            setTimeout(function() {\n                var nbb_cell_id = 18;\n                var nbb_unformatted_code = \"# To help with reading and manipulating data\\nimport pandas as pd\\nimport numpy as np\\n\\n# To help with data visualization\\n%matplotlib inline\\nimport matplotlib.pyplot as plt\\nimport seaborn as sns\\n\\n# To be used for missing value imputation\\nfrom sklearn.impute import SimpleImputer\\n\\n# To help with model building\\nfrom sklearn.linear_model import LogisticRegression\\nfrom sklearn.tree import DecisionTreeClassifier\\nfrom sklearn.ensemble import (\\n    AdaBoostClassifier,\\n    GradientBoostingClassifier,\\n    RandomForestClassifier,\\n    BaggingClassifier,\\n)\\nfrom xgboost import XGBClassifier\\n\\n# To get different metric scores, and split data\\nfrom sklearn import metrics\\nfrom sklearn.model_selection import train_test_split, StratifiedKFold, cross_val_score\\nfrom sklearn.metrics import (\\n    f1_score,\\n    accuracy_score,\\n    recall_score,\\n    precision_score,\\n    confusion_matrix,\\n    roc_auc_score,\\n    plot_confusion_matrix,\\n)\\n\\n# To be used for data scaling and one hot encoding\\nfrom sklearn.preprocessing import StandardScaler, MinMaxScaler, OneHotEncoder\\n\\n# To be used for tuning the model\\nfrom sklearn.model_selection import GridSearchCV, RandomizedSearchCV\\n\\n# To be used for creating pipelines and personalizing them\\nfrom sklearn.pipeline import Pipeline\\nfrom sklearn.compose import ColumnTransformer\\n\\n# To define maximum number of columns to be displayed in a dataframe\\npd.set_option(\\\"display.max_columns\\\", None)\\n\\n# To supress scientific notations for a dataframe\\npd.set_option(\\\"display.float_format\\\", lambda x: \\\"%.3f\\\" % x)\\n\\n# To supress warnings\\nimport warnings\\n\\nwarnings.filterwarnings(\\\"ignore\\\")\\n\\n# This will help in making the Python code more structured automatically (good coding practice)\\n%load_ext nb_black\";\n                var nbb_formatted_code = \"# To help with reading and manipulating data\\nimport pandas as pd\\nimport numpy as np\\n\\n# To help with data visualization\\n%matplotlib inline\\nimport matplotlib.pyplot as plt\\nimport seaborn as sns\\n\\n# To be used for missing value imputation\\nfrom sklearn.impute import SimpleImputer\\n\\n# To help with model building\\nfrom sklearn.linear_model import LogisticRegression\\nfrom sklearn.tree import DecisionTreeClassifier\\nfrom sklearn.ensemble import (\\n    AdaBoostClassifier,\\n    GradientBoostingClassifier,\\n    RandomForestClassifier,\\n    BaggingClassifier,\\n)\\nfrom xgboost import XGBClassifier\\n\\n# To get different metric scores, and split data\\nfrom sklearn import metrics\\nfrom sklearn.model_selection import train_test_split, StratifiedKFold, cross_val_score\\nfrom sklearn.metrics import (\\n    f1_score,\\n    accuracy_score,\\n    recall_score,\\n    precision_score,\\n    confusion_matrix,\\n    roc_auc_score,\\n    plot_confusion_matrix,\\n)\\n\\n# To be used for data scaling and one hot encoding\\nfrom sklearn.preprocessing import StandardScaler, MinMaxScaler, OneHotEncoder\\n\\n# To be used for tuning the model\\nfrom sklearn.model_selection import GridSearchCV, RandomizedSearchCV\\n\\n# To be used for creating pipelines and personalizing them\\nfrom sklearn.pipeline import Pipeline\\nfrom sklearn.compose import ColumnTransformer\\n\\n# To define maximum number of columns to be displayed in a dataframe\\npd.set_option(\\\"display.max_columns\\\", None)\\n\\n# To supress scientific notations for a dataframe\\npd.set_option(\\\"display.float_format\\\", lambda x: \\\"%.3f\\\" % x)\\n\\n# To supress warnings\\nimport warnings\\n\\nwarnings.filterwarnings(\\\"ignore\\\")\\n\\n# This will help in making the Python code more structured automatically (good coding practice)\\n%load_ext nb_black\";\n                var nbb_cells = Jupyter.notebook.get_cells();\n                for (var i = 0; i < nbb_cells.length; ++i) {\n                    if (nbb_cells[i].input_prompt_number == nbb_cell_id) {\n                        if (nbb_cells[i].get_text() == nbb_unformatted_code) {\n                             nbb_cells[i].set_text(nbb_formatted_code);\n                        }\n                        break;\n                    }\n                }\n            }, 500);\n            ",
      "text/plain": [
       "<IPython.core.display.Javascript object>"
      ]
     },
     "metadata": {},
     "output_type": "display_data"
    }
   ],
   "source": [
    "# To help with reading and manipulating data\n",
    "import pandas as pd\n",
    "import numpy as np\n",
    "\n",
    "# To help with data visualization\n",
    "%matplotlib inline\n",
    "import matplotlib.pyplot as plt\n",
    "import seaborn as sns\n",
    "\n",
    "# To be used for missing value imputation\n",
    "from sklearn.impute import SimpleImputer\n",
    "\n",
    "# To help with model building\n",
    "from sklearn.linear_model import LogisticRegression\n",
    "from sklearn.tree import DecisionTreeClassifier\n",
    "from sklearn.ensemble import (\n",
    "    AdaBoostClassifier,\n",
    "    GradientBoostingClassifier,\n",
    "    RandomForestClassifier,\n",
    "    BaggingClassifier,\n",
    ")\n",
    "from xgboost import XGBClassifier\n",
    "\n",
    "# To get different metric scores, and split data\n",
    "from sklearn import metrics\n",
    "from sklearn.model_selection import train_test_split, StratifiedKFold, cross_val_score\n",
    "from sklearn.metrics import (\n",
    "    f1_score,\n",
    "    accuracy_score,\n",
    "    recall_score,\n",
    "    precision_score,\n",
    "    confusion_matrix,\n",
    "    roc_auc_score,\n",
    "    plot_confusion_matrix,\n",
    ")\n",
    "\n",
    "# To be used for data scaling and one hot encoding\n",
    "from sklearn.preprocessing import StandardScaler, MinMaxScaler, OneHotEncoder\n",
    "\n",
    "# To be used for tuning the model\n",
    "from sklearn.model_selection import GridSearchCV, RandomizedSearchCV\n",
    "\n",
    "# To be used for creating pipelines and personalizing them\n",
    "from sklearn.pipeline import Pipeline\n",
    "from sklearn.compose import ColumnTransformer\n",
    "\n",
    "# To define maximum number of columns to be displayed in a dataframe\n",
    "pd.set_option(\"display.max_columns\", None)\n",
    "\n",
    "# To supress scientific notations for a dataframe\n",
    "pd.set_option(\"display.float_format\", lambda x: \"%.3f\" % x)\n",
    "\n",
    "# To supress warnings\n",
    "import warnings\n",
    "\n",
    "warnings.filterwarnings(\"ignore\")\n",
    "\n",
    "# This will help in making the Python code more structured automatically (good coding practice)\n",
    "%load_ext nb_black"
   ]
  },
  {
   "cell_type": "code",
   "execution_count": 19,
   "metadata": {},
   "outputs": [
    {
     "data": {
      "application/javascript": "\n            setTimeout(function() {\n                var nbb_cell_id = 19;\n                var nbb_unformatted_code = \"df = pd.read_csv(\\\"Cardiac.csv\\\")\";\n                var nbb_formatted_code = \"df = pd.read_csv(\\\"Cardiac.csv\\\")\";\n                var nbb_cells = Jupyter.notebook.get_cells();\n                for (var i = 0; i < nbb_cells.length; ++i) {\n                    if (nbb_cells[i].input_prompt_number == nbb_cell_id) {\n                        if (nbb_cells[i].get_text() == nbb_unformatted_code) {\n                             nbb_cells[i].set_text(nbb_formatted_code);\n                        }\n                        break;\n                    }\n                }\n            }, 500);\n            ",
      "text/plain": [
       "<IPython.core.display.Javascript object>"
      ]
     },
     "metadata": {},
     "output_type": "display_data"
    }
   ],
   "source": [
    "df = pd.read_csv(\"Cardiac.csv\")"
   ]
  },
  {
   "cell_type": "code",
   "execution_count": 20,
   "metadata": {},
   "outputs": [
    {
     "data": {
      "text/plain": [
       "(889, 13)"
      ]
     },
     "execution_count": 20,
     "metadata": {},
     "output_type": "execute_result"
    },
    {
     "data": {
      "application/javascript": "\n            setTimeout(function() {\n                var nbb_cell_id = 20;\n                var nbb_unformatted_code = \"df.shape\";\n                var nbb_formatted_code = \"df.shape\";\n                var nbb_cells = Jupyter.notebook.get_cells();\n                for (var i = 0; i < nbb_cells.length; ++i) {\n                    if (nbb_cells[i].input_prompt_number == nbb_cell_id) {\n                        if (nbb_cells[i].get_text() == nbb_unformatted_code) {\n                             nbb_cells[i].set_text(nbb_formatted_code);\n                        }\n                        break;\n                    }\n                }\n            }, 500);\n            ",
      "text/plain": [
       "<IPython.core.display.Javascript object>"
      ]
     },
     "metadata": {},
     "output_type": "display_data"
    }
   ],
   "source": [
    "df.shape"
   ]
  },
  {
   "cell_type": "code",
   "execution_count": 21,
   "metadata": {},
   "outputs": [
    {
     "name": "stdout",
     "output_type": "stream",
     "text": [
      "<class 'pandas.core.frame.DataFrame'>\n",
      "RangeIndex: 889 entries, 0 to 888\n",
      "Data columns (total 13 columns):\n",
      " #   Column                           Non-Null Count  Dtype \n",
      "---  ------                           --------------  ----- \n",
      " 0   Gender                           889 non-null    object\n",
      " 1   Chain_smoker                     889 non-null    int64 \n",
      " 2   Consumes_other_tobacco_products  889 non-null    int64 \n",
      " 3   HighBP                           889 non-null    int64 \n",
      " 4   Obese                            889 non-null    int64 \n",
      " 5   Diabetes                         889 non-null    int64 \n",
      " 6   Metabolic_syndrome               889 non-null    int64 \n",
      " 7   Use_of_stimulant_drugs           889 non-null    int64 \n",
      " 8   Family_history                   889 non-null    int64 \n",
      " 9   History_of_preeclampsia          889 non-null    int64 \n",
      " 10  CABG_history                     889 non-null    int64 \n",
      " 11  Respiratory_illness              889 non-null    int64 \n",
      " 12  UnderRisk                        889 non-null    object\n",
      "dtypes: int64(11), object(2)\n",
      "memory usage: 90.4+ KB\n"
     ]
    },
    {
     "data": {
      "application/javascript": "\n            setTimeout(function() {\n                var nbb_cell_id = 21;\n                var nbb_unformatted_code = \"df.info()\";\n                var nbb_formatted_code = \"df.info()\";\n                var nbb_cells = Jupyter.notebook.get_cells();\n                for (var i = 0; i < nbb_cells.length; ++i) {\n                    if (nbb_cells[i].input_prompt_number == nbb_cell_id) {\n                        if (nbb_cells[i].get_text() == nbb_unformatted_code) {\n                             nbb_cells[i].set_text(nbb_formatted_code);\n                        }\n                        break;\n                    }\n                }\n            }, 500);\n            ",
      "text/plain": [
       "<IPython.core.display.Javascript object>"
      ]
     },
     "metadata": {},
     "output_type": "display_data"
    }
   ],
   "source": [
    "df.info()"
   ]
  },
  {
   "cell_type": "code",
   "execution_count": 22,
   "metadata": {},
   "outputs": [
    {
     "data": {
      "text/html": [
       "<div>\n",
       "<style scoped>\n",
       "    .dataframe tbody tr th:only-of-type {\n",
       "        vertical-align: middle;\n",
       "    }\n",
       "\n",
       "    .dataframe tbody tr th {\n",
       "        vertical-align: top;\n",
       "    }\n",
       "\n",
       "    .dataframe thead th {\n",
       "        text-align: right;\n",
       "    }\n",
       "</style>\n",
       "<table border=\"1\" class=\"dataframe\">\n",
       "  <thead>\n",
       "    <tr style=\"text-align: right;\">\n",
       "      <th></th>\n",
       "      <th>Gender</th>\n",
       "      <th>Chain_smoker</th>\n",
       "      <th>Consumes_other_tobacco_products</th>\n",
       "      <th>HighBP</th>\n",
       "      <th>Obese</th>\n",
       "      <th>Diabetes</th>\n",
       "      <th>Metabolic_syndrome</th>\n",
       "      <th>Use_of_stimulant_drugs</th>\n",
       "      <th>Family_history</th>\n",
       "      <th>History_of_preeclampsia</th>\n",
       "      <th>CABG_history</th>\n",
       "      <th>Respiratory_illness</th>\n",
       "      <th>UnderRisk</th>\n",
       "    </tr>\n",
       "  </thead>\n",
       "  <tbody>\n",
       "    <tr>\n",
       "      <th>879</th>\n",
       "      <td>Female</td>\n",
       "      <td>1</td>\n",
       "      <td>0</td>\n",
       "      <td>0</td>\n",
       "      <td>1</td>\n",
       "      <td>0</td>\n",
       "      <td>0</td>\n",
       "      <td>0</td>\n",
       "      <td>0</td>\n",
       "      <td>0</td>\n",
       "      <td>0</td>\n",
       "      <td>0</td>\n",
       "      <td>no</td>\n",
       "    </tr>\n",
       "    <tr>\n",
       "      <th>445</th>\n",
       "      <td>Male</td>\n",
       "      <td>0</td>\n",
       "      <td>1</td>\n",
       "      <td>0</td>\n",
       "      <td>1</td>\n",
       "      <td>0</td>\n",
       "      <td>0</td>\n",
       "      <td>0</td>\n",
       "      <td>1</td>\n",
       "      <td>0</td>\n",
       "      <td>0</td>\n",
       "      <td>0</td>\n",
       "      <td>no</td>\n",
       "    </tr>\n",
       "    <tr>\n",
       "      <th>154</th>\n",
       "      <td>Male</td>\n",
       "      <td>0</td>\n",
       "      <td>1</td>\n",
       "      <td>0</td>\n",
       "      <td>1</td>\n",
       "      <td>0</td>\n",
       "      <td>0</td>\n",
       "      <td>0</td>\n",
       "      <td>1</td>\n",
       "      <td>0</td>\n",
       "      <td>0</td>\n",
       "      <td>0</td>\n",
       "      <td>no</td>\n",
       "    </tr>\n",
       "    <tr>\n",
       "      <th>351</th>\n",
       "      <td>Male</td>\n",
       "      <td>0</td>\n",
       "      <td>1</td>\n",
       "      <td>0</td>\n",
       "      <td>0</td>\n",
       "      <td>0</td>\n",
       "      <td>0</td>\n",
       "      <td>1</td>\n",
       "      <td>1</td>\n",
       "      <td>0</td>\n",
       "      <td>0</td>\n",
       "      <td>0</td>\n",
       "      <td>no</td>\n",
       "    </tr>\n",
       "    <tr>\n",
       "      <th>304</th>\n",
       "      <td>Male</td>\n",
       "      <td>0</td>\n",
       "      <td>1</td>\n",
       "      <td>0</td>\n",
       "      <td>1</td>\n",
       "      <td>0</td>\n",
       "      <td>0</td>\n",
       "      <td>0</td>\n",
       "      <td>1</td>\n",
       "      <td>0</td>\n",
       "      <td>0</td>\n",
       "      <td>0</td>\n",
       "      <td>no</td>\n",
       "    </tr>\n",
       "  </tbody>\n",
       "</table>\n",
       "</div>"
      ],
      "text/plain": [
       "     Gender  Chain_smoker  Consumes_other_tobacco_products  HighBP  Obese  \\\n",
       "879  Female             1                                0       0      1   \n",
       "445    Male             0                                1       0      1   \n",
       "154    Male             0                                1       0      1   \n",
       "351    Male             0                                1       0      0   \n",
       "304    Male             0                                1       0      1   \n",
       "\n",
       "     Diabetes  Metabolic_syndrome  Use_of_stimulant_drugs  Family_history  \\\n",
       "879         0                   0                       0               0   \n",
       "445         0                   0                       0               1   \n",
       "154         0                   0                       0               1   \n",
       "351         0                   0                       1               1   \n",
       "304         0                   0                       0               1   \n",
       "\n",
       "     History_of_preeclampsia  CABG_history  Respiratory_illness UnderRisk  \n",
       "879                        0             0                    0        no  \n",
       "445                        0             0                    0        no  \n",
       "154                        0             0                    0        no  \n",
       "351                        0             0                    0        no  \n",
       "304                        0             0                    0        no  "
      ]
     },
     "execution_count": 22,
     "metadata": {},
     "output_type": "execute_result"
    },
    {
     "data": {
      "application/javascript": "\n            setTimeout(function() {\n                var nbb_cell_id = 22;\n                var nbb_unformatted_code = \"df.sample(5)\";\n                var nbb_formatted_code = \"df.sample(5)\";\n                var nbb_cells = Jupyter.notebook.get_cells();\n                for (var i = 0; i < nbb_cells.length; ++i) {\n                    if (nbb_cells[i].input_prompt_number == nbb_cell_id) {\n                        if (nbb_cells[i].get_text() == nbb_unformatted_code) {\n                             nbb_cells[i].set_text(nbb_formatted_code);\n                        }\n                        break;\n                    }\n                }\n            }, 500);\n            ",
      "text/plain": [
       "<IPython.core.display.Javascript object>"
      ]
     },
     "metadata": {},
     "output_type": "display_data"
    }
   ],
   "source": [
    "df.sample(5)"
   ]
  },
  {
   "cell_type": "code",
   "execution_count": 23,
   "metadata": {},
   "outputs": [
    {
     "data": {
      "text/plain": [
       "789"
      ]
     },
     "execution_count": 23,
     "metadata": {},
     "output_type": "execute_result"
    },
    {
     "data": {
      "application/javascript": "\n            setTimeout(function() {\n                var nbb_cell_id = 23;\n                var nbb_unformatted_code = \"df.duplicated().sum()\";\n                var nbb_formatted_code = \"df.duplicated().sum()\";\n                var nbb_cells = Jupyter.notebook.get_cells();\n                for (var i = 0; i < nbb_cells.length; ++i) {\n                    if (nbb_cells[i].input_prompt_number == nbb_cell_id) {\n                        if (nbb_cells[i].get_text() == nbb_unformatted_code) {\n                             nbb_cells[i].set_text(nbb_formatted_code);\n                        }\n                        break;\n                    }\n                }\n            }, 500);\n            ",
      "text/plain": [
       "<IPython.core.display.Javascript object>"
      ]
     },
     "metadata": {},
     "output_type": "display_data"
    }
   ],
   "source": [
    "df.duplicated().sum()"
   ]
  },
  {
   "cell_type": "code",
   "execution_count": 24,
   "metadata": {},
   "outputs": [
    {
     "data": {
      "text/plain": [
       "Gender                            0.000\n",
       "Chain_smoker                      0.000\n",
       "Consumes_other_tobacco_products   0.000\n",
       "HighBP                            0.000\n",
       "Obese                             0.000\n",
       "Diabetes                          0.000\n",
       "Metabolic_syndrome                0.000\n",
       "Use_of_stimulant_drugs            0.000\n",
       "Family_history                    0.000\n",
       "History_of_preeclampsia           0.000\n",
       "CABG_history                      0.000\n",
       "Respiratory_illness               0.000\n",
       "UnderRisk                         0.000\n",
       "dtype: float64"
      ]
     },
     "execution_count": 24,
     "metadata": {},
     "output_type": "execute_result"
    },
    {
     "data": {
      "application/javascript": "\n            setTimeout(function() {\n                var nbb_cell_id = 24;\n                var nbb_unformatted_code = \"round(df.isnull().sum() / df.isnull().count() * 100, 2)\";\n                var nbb_formatted_code = \"round(df.isnull().sum() / df.isnull().count() * 100, 2)\";\n                var nbb_cells = Jupyter.notebook.get_cells();\n                for (var i = 0; i < nbb_cells.length; ++i) {\n                    if (nbb_cells[i].input_prompt_number == nbb_cell_id) {\n                        if (nbb_cells[i].get_text() == nbb_unformatted_code) {\n                             nbb_cells[i].set_text(nbb_formatted_code);\n                        }\n                        break;\n                    }\n                }\n            }, 500);\n            ",
      "text/plain": [
       "<IPython.core.display.Javascript object>"
      ]
     },
     "metadata": {},
     "output_type": "display_data"
    }
   ],
   "source": [
    "round(df.isnull().sum() / df.isnull().count() * 100, 2)"
   ]
  },
  {
   "cell_type": "code",
   "execution_count": 25,
   "metadata": {},
   "outputs": [
    {
     "data": {
      "text/plain": [
       "Gender                             0\n",
       "Chain_smoker                       0\n",
       "Consumes_other_tobacco_products    0\n",
       "HighBP                             0\n",
       "Obese                              0\n",
       "Diabetes                           0\n",
       "Metabolic_syndrome                 0\n",
       "Use_of_stimulant_drugs             0\n",
       "Family_history                     0\n",
       "History_of_preeclampsia            0\n",
       "CABG_history                       0\n",
       "Respiratory_illness                0\n",
       "UnderRisk                          0\n",
       "dtype: int64"
      ]
     },
     "execution_count": 25,
     "metadata": {},
     "output_type": "execute_result"
    },
    {
     "data": {
      "application/javascript": "\n            setTimeout(function() {\n                var nbb_cell_id = 25;\n                var nbb_unformatted_code = \"df.isna().sum()\";\n                var nbb_formatted_code = \"df.isna().sum()\";\n                var nbb_cells = Jupyter.notebook.get_cells();\n                for (var i = 0; i < nbb_cells.length; ++i) {\n                    if (nbb_cells[i].input_prompt_number == nbb_cell_id) {\n                        if (nbb_cells[i].get_text() == nbb_unformatted_code) {\n                             nbb_cells[i].set_text(nbb_formatted_code);\n                        }\n                        break;\n                    }\n                }\n            }, 500);\n            ",
      "text/plain": [
       "<IPython.core.display.Javascript object>"
      ]
     },
     "metadata": {},
     "output_type": "display_data"
    }
   ],
   "source": [
    "df.isna().sum()"
   ]
  },
  {
   "cell_type": "code",
   "execution_count": 26,
   "metadata": {},
   "outputs": [
    {
     "data": {
      "text/plain": [
       "Gender                             3\n",
       "Chain_smoker                       2\n",
       "Consumes_other_tobacco_products    2\n",
       "HighBP                             2\n",
       "Obese                              2\n",
       "Diabetes                           2\n",
       "Metabolic_syndrome                 2\n",
       "Use_of_stimulant_drugs             2\n",
       "Family_history                     2\n",
       "History_of_preeclampsia            2\n",
       "CABG_history                       2\n",
       "Respiratory_illness                2\n",
       "UnderRisk                          2\n",
       "dtype: int64"
      ]
     },
     "execution_count": 26,
     "metadata": {},
     "output_type": "execute_result"
    },
    {
     "data": {
      "application/javascript": "\n            setTimeout(function() {\n                var nbb_cell_id = 26;\n                var nbb_unformatted_code = \"df.nunique()\";\n                var nbb_formatted_code = \"df.nunique()\";\n                var nbb_cells = Jupyter.notebook.get_cells();\n                for (var i = 0; i < nbb_cells.length; ++i) {\n                    if (nbb_cells[i].input_prompt_number == nbb_cell_id) {\n                        if (nbb_cells[i].get_text() == nbb_unformatted_code) {\n                             nbb_cells[i].set_text(nbb_formatted_code);\n                        }\n                        break;\n                    }\n                }\n            }, 500);\n            ",
      "text/plain": [
       "<IPython.core.display.Javascript object>"
      ]
     },
     "metadata": {},
     "output_type": "display_data"
    }
   ],
   "source": [
    "df.nunique()"
   ]
  },
  {
   "cell_type": "code",
   "execution_count": 27,
   "metadata": {},
   "outputs": [
    {
     "data": {
      "text/plain": [
       "Male      607\n",
       "Female    256\n",
       "Other      26\n",
       "Name: Gender, dtype: int64"
      ]
     },
     "execution_count": 27,
     "metadata": {},
     "output_type": "execute_result"
    },
    {
     "data": {
      "application/javascript": "\n            setTimeout(function() {\n                var nbb_cell_id = 27;\n                var nbb_unformatted_code = \"df['Gender'].value_counts()\";\n                var nbb_formatted_code = \"df[\\\"Gender\\\"].value_counts()\";\n                var nbb_cells = Jupyter.notebook.get_cells();\n                for (var i = 0; i < nbb_cells.length; ++i) {\n                    if (nbb_cells[i].input_prompt_number == nbb_cell_id) {\n                        if (nbb_cells[i].get_text() == nbb_unformatted_code) {\n                             nbb_cells[i].set_text(nbb_formatted_code);\n                        }\n                        break;\n                    }\n                }\n            }, 500);\n            ",
      "text/plain": [
       "<IPython.core.display.Javascript object>"
      ]
     },
     "metadata": {},
     "output_type": "display_data"
    }
   ],
   "source": [
    "df['Gender'].value_counts()"
   ]
  },
  {
   "cell_type": "code",
   "execution_count": 75,
   "metadata": {},
   "outputs": [
    {
     "data": {
      "text/plain": [
       "0    782\n",
       "1    107\n",
       "Name: Chain_smoker, dtype: int64"
      ]
     },
     "execution_count": 75,
     "metadata": {},
     "output_type": "execute_result"
    },
    {
     "data": {
      "application/javascript": "\n            setTimeout(function() {\n                var nbb_cell_id = 75;\n                var nbb_unformatted_code = \"df['Chain_smoker'].value_counts()\";\n                var nbb_formatted_code = \"df[\\\"Chain_smoker\\\"].value_counts()\";\n                var nbb_cells = Jupyter.notebook.get_cells();\n                for (var i = 0; i < nbb_cells.length; ++i) {\n                    if (nbb_cells[i].input_prompt_number == nbb_cell_id) {\n                        if (nbb_cells[i].get_text() == nbb_unformatted_code) {\n                             nbb_cells[i].set_text(nbb_formatted_code);\n                        }\n                        break;\n                    }\n                }\n            }, 500);\n            ",
      "text/plain": [
       "<IPython.core.display.Javascript object>"
      ]
     },
     "metadata": {},
     "output_type": "display_data"
    }
   ],
   "source": [
    "df['Chain_smoker'].value_counts()"
   ]
  },
  {
   "cell_type": "code",
   "execution_count": 28,
   "metadata": {},
   "outputs": [
    {
     "data": {
      "image/png": "[encoded data removed]",
      "text/plain": [
       "<Figure size 1440x720 with 2 Axes>"
      ]
     },
     "metadata": {
      "needs_background": "light"
     },
     "output_type": "display_data"
    },
    {
     "data": {
      "application/javascript": "\n            setTimeout(function() {\n                var nbb_cell_id = 28;\n                var nbb_unformatted_code = \"# Generating the lower half a heatmap only\\ncorr = df.corr()\\nmask = np.triu(np.ones_like(corr, dtype=bool))\\nplt.figure(figsize=(20,10))\\nsns.heatmap(corr, mask=mask, center=0, annot=True, fmt='.2f', square=True, cmap='CMRmap_r')\\nplt.show()\";\n                var nbb_formatted_code = \"# Generating the lower half a heatmap only\\ncorr = df.corr()\\nmask = np.triu(np.ones_like(corr, dtype=bool))\\nplt.figure(figsize=(20, 10))\\nsns.heatmap(\\n    corr, mask=mask, center=0, annot=True, fmt=\\\".2f\\\", square=True, cmap=\\\"CMRmap_r\\\"\\n)\\nplt.show()\";\n                var nbb_cells = Jupyter.notebook.get_cells();\n                for (var i = 0; i < nbb_cells.length; ++i) {\n                    if (nbb_cells[i].input_prompt_number == nbb_cell_id) {\n                        if (nbb_cells[i].get_text() == nbb_unformatted_code) {\n                             nbb_cells[i].set_text(nbb_formatted_code);\n                        }\n                        break;\n                    }\n                }\n            }, 500);\n            ",
      "text/plain": [
       "<IPython.core.display.Javascript object>"
      ]
     },
     "metadata": {},
     "output_type": "display_data"
    }
   ],
   "source": [
    "# Generating the lower half a heatmap only\n",
    "corr = df.corr()\n",
    "mask = np.triu(np.ones_like(corr, dtype=bool))\n",
    "plt.figure(figsize=(20,10))\n",
    "sns.heatmap(corr, mask=mask, center=0, annot=True, fmt='.2f', square=True, cmap='CMRmap_r')\n",
    "plt.show()"
   ]
  },
  {
   "cell_type": "code",
   "execution_count": 29,
   "metadata": {},
   "outputs": [
    {
     "data": {
      "application/javascript": "\n            setTimeout(function() {\n                var nbb_cell_id = 29;\n                var nbb_unformatted_code = \"X = df.drop([\\\"UnderRisk\\\"], axis=1)\\ny = df[\\\"UnderRisk\\\"]\";\n                var nbb_formatted_code = \"X = df.drop([\\\"UnderRisk\\\"], axis=1)\\ny = df[\\\"UnderRisk\\\"]\";\n                var nbb_cells = Jupyter.notebook.get_cells();\n                for (var i = 0; i < nbb_cells.length; ++i) {\n                    if (nbb_cells[i].input_prompt_number == nbb_cell_id) {\n                        if (nbb_cells[i].get_text() == nbb_unformatted_code) {\n                             nbb_cells[i].set_text(nbb_formatted_code);\n                        }\n                        break;\n                    }\n                }\n            }, 500);\n            ",
      "text/plain": [
       "<IPython.core.display.Javascript object>"
      ]
     },
     "metadata": {},
     "output_type": "display_data"
    }
   ],
   "source": [
    "X = df.drop([\"UnderRisk\"], axis=1)\n",
    "y = df[\"UnderRisk\"]"
   ]
  },
  {
   "cell_type": "code",
   "execution_count": 31,
   "metadata": {},
   "outputs": [
    {
     "name": "stdout",
     "output_type": "stream",
     "text": [
      "(533, 12) (178, 12) (178, 12)\n"
     ]
    },
    {
     "data": {
      "application/javascript": "\n            setTimeout(function() {\n                var nbb_cell_id = 31;\n                var nbb_unformatted_code = \"# Splitting data into training, validation and test sets:\\n# first we split data into 2 parts, say temporary and test\\n\\nX_temp, X_test, y_temp, y_test = train_test_split(\\n    X, y, test_size=0.2, random_state=1, stratify=y\\n)\\n\\n# then we split the temporary set into train and validation\\n\\nX_train, X_val, y_train, y_val = train_test_split(\\n    X_temp, y_temp, test_size=0.25, random_state=1, stratify=y_temp\\n)\\nprint(X_train.shape, X_val.shape, X_test.shape)\";\n                var nbb_formatted_code = \"# Splitting data into training, validation and test sets:\\n# first we split data into 2 parts, say temporary and test\\n\\nX_temp, X_test, y_temp, y_test = train_test_split(\\n    X, y, test_size=0.2, random_state=1, stratify=y\\n)\\n\\n# then we split the temporary set into train and validation\\n\\nX_train, X_val, y_train, y_val = train_test_split(\\n    X_temp, y_temp, test_size=0.25, random_state=1, stratify=y_temp\\n)\\nprint(X_train.shape, X_val.shape, X_test.shape)\";\n                var nbb_cells = Jupyter.notebook.get_cells();\n                for (var i = 0; i < nbb_cells.length; ++i) {\n                    if (nbb_cells[i].input_prompt_number == nbb_cell_id) {\n                        if (nbb_cells[i].get_text() == nbb_unformatted_code) {\n                             nbb_cells[i].set_text(nbb_formatted_code);\n                        }\n                        break;\n                    }\n                }\n            }, 500);\n            ",
      "text/plain": [
       "<IPython.core.display.Javascript object>"
      ]
     },
     "metadata": {},
     "output_type": "display_data"
    }
   ],
   "source": [
    "# Splitting data into training, validation and test sets:\n",
    "# first we split data into 2 parts, say temporary and test\n",
    "\n",
    "X_temp, X_test, y_temp, y_test = train_test_split(\n",
    "    X, y, test_size=0.2, random_state=1, stratify=y\n",
    ")\n",
    "\n",
    "# then we split the temporary set into train and validation\n",
    "\n",
    "X_train, X_val, y_train, y_val = train_test_split(\n",
    "    X_temp, y_temp, test_size=0.25, random_state=1, stratify=y_temp\n",
    ")\n",
    "print(X_train.shape, X_val.shape, X_test.shape)"
   ]
  },
  {
   "cell_type": "code",
   "execution_count": 76,
   "metadata": {},
   "outputs": [
    {
     "data": {
      "text/plain": [
       "0    471\n",
       "1     62\n",
       "Name: Chain_smoker, dtype: int64"
      ]
     },
     "execution_count": 76,
     "metadata": {},
     "output_type": "execute_result"
    },
    {
     "data": {
      "application/javascript": "\n            setTimeout(function() {\n                var nbb_cell_id = 76;\n                var nbb_unformatted_code = \"X_train['Chain_smoker'].value_counts()\";\n                var nbb_formatted_code = \"X_train[\\\"Chain_smoker\\\"].value_counts()\";\n                var nbb_cells = Jupyter.notebook.get_cells();\n                for (var i = 0; i < nbb_cells.length; ++i) {\n                    if (nbb_cells[i].input_prompt_number == nbb_cell_id) {\n                        if (nbb_cells[i].get_text() == nbb_unformatted_code) {\n                             nbb_cells[i].set_text(nbb_formatted_code);\n                        }\n                        break;\n                    }\n                }\n            }, 500);\n            ",
      "text/plain": [
       "<IPython.core.display.Javascript object>"
      ]
     },
     "metadata": {},
     "output_type": "display_data"
    }
   ],
   "source": [
    "X_train['Chain_smoker'].value_counts()"
   ]
  },
  {
   "cell_type": "code",
   "execution_count": 33,
   "metadata": {},
   "outputs": [
    {
     "data": {
      "application/javascript": "\n            setTimeout(function() {\n                var nbb_cell_id = 33;\n                var nbb_unformatted_code = \"X_train = pd.get_dummies(data=X_train, drop_first=True)\\nX_val = pd.get_dummies(data=X_val, drop_first=True)\\nX_test = pd.get_dummies(data=X_test, drop_first=True)\";\n                var nbb_formatted_code = \"X_train = pd.get_dummies(data=X_train, drop_first=True)\\nX_val = pd.get_dummies(data=X_val, drop_first=True)\\nX_test = pd.get_dummies(data=X_test, drop_first=True)\";\n                var nbb_cells = Jupyter.notebook.get_cells();\n                for (var i = 0; i < nbb_cells.length; ++i) {\n                    if (nbb_cells[i].input_prompt_number == nbb_cell_id) {\n                        if (nbb_cells[i].get_text() == nbb_unformatted_code) {\n                             nbb_cells[i].set_text(nbb_formatted_code);\n                        }\n                        break;\n                    }\n                }\n            }, 500);\n            ",
      "text/plain": [
       "<IPython.core.display.Javascript object>"
      ]
     },
     "metadata": {},
     "output_type": "display_data"
    }
   ],
   "source": [
    "X_train = pd.get_dummies(data=X_train, drop_first=True)\n",
    "X_val = pd.get_dummies(data=X_val, drop_first=True)\n",
    "X_test = pd.get_dummies(data=X_test, drop_first=True)"
   ]
  },
  {
   "cell_type": "code",
   "execution_count": 43,
   "metadata": {},
   "outputs": [
    {
     "data": {
      "application/javascript": "\n            setTimeout(function() {\n                var nbb_cell_id = 43;\n                var nbb_unformatted_code = \"y_train = pd.get_dummies(data=y_train, drop_first=True)\\ny_val = pd.get_dummies(data=y_val, drop_first=True)\\ny_test = pd.get_dummies(data=y_test, drop_first=True)\";\n                var nbb_formatted_code = \"y_train = pd.get_dummies(data=y_train, drop_first=True)\\ny_val = pd.get_dummies(data=y_val, drop_first=True)\\ny_test = pd.get_dummies(data=y_test, drop_first=True)\";\n                var nbb_cells = Jupyter.notebook.get_cells();\n                for (var i = 0; i < nbb_cells.length; ++i) {\n                    if (nbb_cells[i].input_prompt_number == nbb_cell_id) {\n                        if (nbb_cells[i].get_text() == nbb_unformatted_code) {\n                             nbb_cells[i].set_text(nbb_formatted_code);\n                        }\n                        break;\n                    }\n                }\n            }, 500);\n            ",
      "text/plain": [
       "<IPython.core.display.Javascript object>"
      ]
     },
     "metadata": {},
     "output_type": "display_data"
    }
   ],
   "source": [
    "y_train = pd.get_dummies(data=y_train, drop_first=True)\n",
    "y_val = pd.get_dummies(data=y_val, drop_first=True)\n",
    "y_test = pd.get_dummies(data=y_test, drop_first=True)"
   ]
  },
  {
   "cell_type": "code",
   "execution_count": 44,
   "metadata": {},
   "outputs": [
    {
     "name": "stdout",
     "output_type": "stream",
     "text": [
      "\n",
      "Cross-Validation Performance:\n",
      "\n",
      "Bagging: 14.94071146245059\n",
      "Random forest: 12.33201581027668\n",
      "GBM: 7.865612648221345\n",
      "Adaboost: 6.996047430830039\n",
      "Xgboost: 2.648221343873518\n",
      "dtree: 3.517786561264822\n",
      "\n",
      "Validation Performance:\n",
      "\n",
      "Bagging: 0.13157894736842105\n",
      "Random forest: 0.10526315789473684\n",
      "GBM: 0.05263157894736842\n",
      "Adaboost: 0.07894736842105263\n",
      "Xgboost: 0.05263157894736842\n",
      "dtree: 0.10526315789473684\n"
     ]
    },
    {
     "data": {
      "application/javascript": "\n            setTimeout(function() {\n                var nbb_cell_id = 44;\n                var nbb_unformatted_code = \"models = []  # Empty list to store all the models\\n\\n# Appending models into the list\\nmodels.append((\\\"Bagging\\\", BaggingClassifier(random_state=1)))\\nmodels.append((\\\"Random forest\\\", RandomForestClassifier(random_state=1)))\\nmodels.append((\\\"GBM\\\", GradientBoostingClassifier(random_state=1)))\\nmodels.append((\\\"Adaboost\\\", AdaBoostClassifier(random_state=1)))\\nmodels.append((\\\"Xgboost\\\", XGBClassifier(random_state=1, eval_metric=\\\"logloss\\\")))\\nmodels.append((\\\"dtree\\\", DecisionTreeClassifier(random_state=1)))\\n\\nresults = []  # Empty list to store all model's CV scores\\nnames = []  # Empty list to store name of the models\\nscore = []\\n# loop through all models to get the mean cross validated score\\nprint(\\\"\\\\n\\\" \\\"Cross-Validation Performance:\\\" \\\"\\\\n\\\")\\nfor name, model in models:\\n    scoring = \\\"recall\\\"\\n    kfold = StratifiedKFold(\\n        n_splits=5, shuffle=True, random_state=1\\n    )  # Setting number of splits equal to 5\\n    cv_result = cross_val_score(\\n        estimator=model, X=X_train, y=y_train, scoring=scoring, cv=kfold\\n    )\\n    results.append(cv_result)\\n    names.append(name)\\n    print(\\\"{}: {}\\\".format(name, cv_result.mean() * 100))\\n\\nprint(\\\"\\\\n\\\" \\\"Validation Performance:\\\" \\\"\\\\n\\\")\\n\\nfor name, model in models:\\n    model.fit(X_train, y_train)\\n    scores = recall_score(y_val, model.predict(X_val))\\n    score.append(scores)\\n    print(\\\"{}: {}\\\".format(name, scores))\";\n                var nbb_formatted_code = \"models = []  # Empty list to store all the models\\n\\n# Appending models into the list\\nmodels.append((\\\"Bagging\\\", BaggingClassifier(random_state=1)))\\nmodels.append((\\\"Random forest\\\", RandomForestClassifier(random_state=1)))\\nmodels.append((\\\"GBM\\\", GradientBoostingClassifier(random_state=1)))\\nmodels.append((\\\"Adaboost\\\", AdaBoostClassifier(random_state=1)))\\nmodels.append((\\\"Xgboost\\\", XGBClassifier(random_state=1, eval_metric=\\\"logloss\\\")))\\nmodels.append((\\\"dtree\\\", DecisionTreeClassifier(random_state=1)))\\n\\nresults = []  # Empty list to store all model's CV scores\\nnames = []  # Empty list to store name of the models\\nscore = []\\n# loop through all models to get the mean cross validated score\\nprint(\\\"\\\\n\\\" \\\"Cross-Validation Performance:\\\" \\\"\\\\n\\\")\\nfor name, model in models:\\n    scoring = \\\"recall\\\"\\n    kfold = StratifiedKFold(\\n        n_splits=5, shuffle=True, random_state=1\\n    )  # Setting number of splits equal to 5\\n    cv_result = cross_val_score(\\n        estimator=model, X=X_train, y=y_train, scoring=scoring, cv=kfold\\n    )\\n    results.append(cv_result)\\n    names.append(name)\\n    print(\\\"{}: {}\\\".format(name, cv_result.mean() * 100))\\n\\nprint(\\\"\\\\n\\\" \\\"Validation Performance:\\\" \\\"\\\\n\\\")\\n\\nfor name, model in models:\\n    model.fit(X_train, y_train)\\n    scores = recall_score(y_val, model.predict(X_val))\\n    score.append(scores)\\n    print(\\\"{}: {}\\\".format(name, scores))\";\n                var nbb_cells = Jupyter.notebook.get_cells();\n                for (var i = 0; i < nbb_cells.length; ++i) {\n                    if (nbb_cells[i].input_prompt_number == nbb_cell_id) {\n                        if (nbb_cells[i].get_text() == nbb_unformatted_code) {\n                             nbb_cells[i].set_text(nbb_formatted_code);\n                        }\n                        break;\n                    }\n                }\n            }, 500);\n            ",
      "text/plain": [
       "<IPython.core.display.Javascript object>"
      ]
     },
     "metadata": {},
     "output_type": "display_data"
    }
   ],
   "source": [
    "models = []  # Empty list to store all the models\n",
    "\n",
    "# Appending models into the list\n",
    "models.append((\"Bagging\", BaggingClassifier(random_state=1)))\n",
    "models.append((\"Random forest\", RandomForestClassifier(random_state=1)))\n",
    "models.append((\"GBM\", GradientBoostingClassifier(random_state=1)))\n",
    "models.append((\"Adaboost\", AdaBoostClassifier(random_state=1)))\n",
    "models.append((\"Xgboost\", XGBClassifier(random_state=1, eval_metric=\"logloss\")))\n",
    "models.append((\"dtree\", DecisionTreeClassifier(random_state=1)))\n",
    "\n",
    "results = []  # Empty list to store all model's CV scores\n",
    "names = []  # Empty list to store name of the models\n",
    "score = []\n",
    "# loop through all models to get the mean cross validated score\n",
    "print(\"\\n\" \"Cross-Validation Performance:\" \"\\n\")\n",
    "for name, model in models:\n",
    "    scoring = \"recall\"\n",
    "    kfold = StratifiedKFold(\n",
    "        n_splits=5, shuffle=True, random_state=1\n",
    "    )  # Setting number of splits equal to 5\n",
    "    cv_result = cross_val_score(\n",
    "        estimator=model, X=X_train, y=y_train, scoring=scoring, cv=kfold\n",
    "    )\n",
    "    results.append(cv_result)\n",
    "    names.append(name)\n",
    "    print(\"{}: {}\".format(name, cv_result.mean() * 100))\n",
    "\n",
    "print(\"\\n\" \"Validation Performance:\" \"\\n\")\n",
    "\n",
    "for name, model in models:\n",
    "    model.fit(X_train, y_train)\n",
    "    scores = recall_score(y_val, model.predict(X_val))\n",
    "    score.append(scores)\n",
    "    print(\"{}: {}\".format(name, scores))"
   ]
  },
  {
   "cell_type": "code",
   "execution_count": 46,
   "metadata": {},
   "outputs": [
    {
     "data": {
      "image/png": "[encoded data removed]",
      "text/plain": [
       "<Figure size 432x288 with 1 Axes>"
      ]
     },
     "metadata": {
      "needs_background": "light"
     },
     "output_type": "display_data"
    },
    {
     "data": {
      "application/javascript": "\n            setTimeout(function() {\n                var nbb_cell_id = 46;\n                var nbb_unformatted_code = \"# Plotting boxplots for CV scores of all models defined above\\nfig = plt.figure()\\n\\nfig.suptitle(\\\"Algorithm Comparison\\\")\\nax = fig.add_subplot(111)\\n\\nplt.boxplot(results)\\nax.set_xticklabels(names)\\n\\nplt.show()\";\n                var nbb_formatted_code = \"# Plotting boxplots for CV scores of all models defined above\\nfig = plt.figure()\\n\\nfig.suptitle(\\\"Algorithm Comparison\\\")\\nax = fig.add_subplot(111)\\n\\nplt.boxplot(results)\\nax.set_xticklabels(names)\\n\\nplt.show()\";\n                var nbb_cells = Jupyter.notebook.get_cells();\n                for (var i = 0; i < nbb_cells.length; ++i) {\n                    if (nbb_cells[i].input_prompt_number == nbb_cell_id) {\n                        if (nbb_cells[i].get_text() == nbb_unformatted_code) {\n                             nbb_cells[i].set_text(nbb_formatted_code);\n                        }\n                        break;\n                    }\n                }\n            }, 500);\n            ",
      "text/plain": [
       "<IPython.core.display.Javascript object>"
      ]
     },
     "metadata": {},
     "output_type": "display_data"
    }
   ],
   "source": [
    "# Plotting boxplots for CV scores of all models defined above\n",
    "fig = plt.figure()\n",
    "\n",
    "fig.suptitle(\"Algorithm Comparison\")\n",
    "ax = fig.add_subplot(111)\n",
    "\n",
    "plt.boxplot(results)\n",
    "ax.set_xticklabels(names)\n",
    "\n",
    "plt.show()"
   ]
  },
  {
   "cell_type": "code",
   "execution_count": 47,
   "metadata": {},
   "outputs": [
    {
     "data": {
      "application/javascript": "\n            setTimeout(function() {\n                var nbb_cell_id = 47;\n                var nbb_unformatted_code = \"# defining a function to compute different metrics to check performance of a classification model built using sklearn\\ndef model_performance_classification_sklearn(model, predictors, target):\\n    \\\"\\\"\\\"\\n    Function to compute different metrics to check classification model performance\\n\\n    model: classifier\\n    predictors: independent variables\\n    target: dependent variable\\n    \\\"\\\"\\\"\\n\\n    # predicting using the independent variables\\n    pred = model.predict(predictors)\\n\\n    acc = accuracy_score(target, pred)  # to compute Accuracy\\n    recall = recall_score(target, pred)  # to compute Recall\\n    precision = precision_score(target, pred)  # to compute Precision\\n    f1 = f1_score(target, pred)  # to compute F1-score\\n\\n    # creating a dataframe of metrics\\n    df_perf = pd.DataFrame(\\n        {\\n            \\\"Accuracy\\\": acc,\\n            \\\"Recall\\\": recall,\\n            \\\"Precision\\\": precision,\\n            \\\"F1\\\": f1,\\n        },\\n        index=[0],\\n    )\\n\\n    return df_perf\";\n                var nbb_formatted_code = \"# defining a function to compute different metrics to check performance of a classification model built using sklearn\\ndef model_performance_classification_sklearn(model, predictors, target):\\n    \\\"\\\"\\\"\\n    Function to compute different metrics to check classification model performance\\n\\n    model: classifier\\n    predictors: independent variables\\n    target: dependent variable\\n    \\\"\\\"\\\"\\n\\n    # predicting using the independent variables\\n    pred = model.predict(predictors)\\n\\n    acc = accuracy_score(target, pred)  # to compute Accuracy\\n    recall = recall_score(target, pred)  # to compute Recall\\n    precision = precision_score(target, pred)  # to compute Precision\\n    f1 = f1_score(target, pred)  # to compute F1-score\\n\\n    # creating a dataframe of metrics\\n    df_perf = pd.DataFrame(\\n        {\\\"Accuracy\\\": acc, \\\"Recall\\\": recall, \\\"Precision\\\": precision, \\\"F1\\\": f1,},\\n        index=[0],\\n    )\\n\\n    return df_perf\";\n                var nbb_cells = Jupyter.notebook.get_cells();\n                for (var i = 0; i < nbb_cells.length; ++i) {\n                    if (nbb_cells[i].input_prompt_number == nbb_cell_id) {\n                        if (nbb_cells[i].get_text() == nbb_unformatted_code) {\n                             nbb_cells[i].set_text(nbb_formatted_code);\n                        }\n                        break;\n                    }\n                }\n            }, 500);\n            ",
      "text/plain": [
       "<IPython.core.display.Javascript object>"
      ]
     },
     "metadata": {},
     "output_type": "display_data"
    }
   ],
   "source": [
    "# defining a function to compute different metrics to check performance of a classification model built using sklearn\n",
    "def model_performance_classification_sklearn(model, predictors, target):\n",
    "    \"\"\"\n",
    "    Function to compute different metrics to check classification model performance\n",
    "\n",
    "    model: classifier\n",
    "    predictors: independent variables\n",
    "    target: dependent variable\n",
    "    \"\"\"\n",
    "\n",
    "    # predicting using the independent variables\n",
    "    pred = model.predict(predictors)\n",
    "\n",
    "    acc = accuracy_score(target, pred)  # to compute Accuracy\n",
    "    recall = recall_score(target, pred)  # to compute Recall\n",
    "    precision = precision_score(target, pred)  # to compute Precision\n",
    "    f1 = f1_score(target, pred)  # to compute F1-score\n",
    "\n",
    "    # creating a dataframe of metrics\n",
    "    df_perf = pd.DataFrame(\n",
    "        {\n",
    "            \"Accuracy\": acc,\n",
    "            \"Recall\": recall,\n",
    "            \"Precision\": precision,\n",
    "            \"F1\": f1,\n",
    "        },\n",
    "        index=[0],\n",
    "    )\n",
    "\n",
    "    return df_perf"
   ]
  },
  {
   "cell_type": "code",
   "execution_count": 48,
   "metadata": {},
   "outputs": [
    {
     "data": {
      "application/javascript": "\n            setTimeout(function() {\n                var nbb_cell_id = 48;\n                var nbb_unformatted_code = \"def confusion_matrix_sklearn(model, predictors, target):\\n    \\\"\\\"\\\"\\n    To plot the confusion_matrix with percentages\\n\\n    model: classifier\\n    predictors: independent variables\\n    target: dependent variable\\n    \\\"\\\"\\\"\\n    y_pred = model.predict(predictors)\\n    cm = confusion_matrix(target, y_pred)\\n    labels = np.asarray(\\n        [\\n            [\\\"{0:0.0f}\\\".format(item) + \\\"\\\\n{0:.2%}\\\".format(item / cm.flatten().sum())]\\n            for item in cm.flatten()\\n        ]\\n    ).reshape(2, 2)\\n\\n    plt.figure(figsize=(6, 4))\\n    sns.heatmap(cm, annot=labels, fmt=\\\"\\\")\\n    plt.ylabel(\\\"True label\\\")\\n    plt.xlabel(\\\"Predicted label\\\")\";\n                var nbb_formatted_code = \"def confusion_matrix_sklearn(model, predictors, target):\\n    \\\"\\\"\\\"\\n    To plot the confusion_matrix with percentages\\n\\n    model: classifier\\n    predictors: independent variables\\n    target: dependent variable\\n    \\\"\\\"\\\"\\n    y_pred = model.predict(predictors)\\n    cm = confusion_matrix(target, y_pred)\\n    labels = np.asarray(\\n        [\\n            [\\\"{0:0.0f}\\\".format(item) + \\\"\\\\n{0:.2%}\\\".format(item / cm.flatten().sum())]\\n            for item in cm.flatten()\\n        ]\\n    ).reshape(2, 2)\\n\\n    plt.figure(figsize=(6, 4))\\n    sns.heatmap(cm, annot=labels, fmt=\\\"\\\")\\n    plt.ylabel(\\\"True label\\\")\\n    plt.xlabel(\\\"Predicted label\\\")\";\n                var nbb_cells = Jupyter.notebook.get_cells();\n                for (var i = 0; i < nbb_cells.length; ++i) {\n                    if (nbb_cells[i].input_prompt_number == nbb_cell_id) {\n                        if (nbb_cells[i].get_text() == nbb_unformatted_code) {\n                             nbb_cells[i].set_text(nbb_formatted_code);\n                        }\n                        break;\n                    }\n                }\n            }, 500);\n            ",
      "text/plain": [
       "<IPython.core.display.Javascript object>"
      ]
     },
     "metadata": {},
     "output_type": "display_data"
    }
   ],
   "source": [
    "def confusion_matrix_sklearn(model, predictors, target):\n",
    "    \"\"\"\n",
    "    To plot the confusion_matrix with percentages\n",
    "\n",
    "    model: classifier\n",
    "    predictors: independent variables\n",
    "    target: dependent variable\n",
    "    \"\"\"\n",
    "    y_pred = model.predict(predictors)\n",
    "    cm = confusion_matrix(target, y_pred)\n",
    "    labels = np.asarray(\n",
    "        [\n",
    "            [\"{0:0.0f}\".format(item) + \"\\n{0:.2%}\".format(item / cm.flatten().sum())]\n",
    "            for item in cm.flatten()\n",
    "        ]\n",
    "    ).reshape(2, 2)\n",
    "\n",
    "    plt.figure(figsize=(6, 4))\n",
    "    sns.heatmap(cm, annot=labels, fmt=\"\")\n",
    "    plt.ylabel(\"True label\")\n",
    "    plt.xlabel(\"Predicted label\")"
   ]
  },
  {
   "cell_type": "markdown",
   "metadata": {},
   "source": [
    "## Decision Tree"
   ]
  },
  {
   "cell_type": "markdown",
   "metadata": {},
   "source": [
    "### GridSearchCV"
   ]
  },
  {
   "cell_type": "code",
   "execution_count": 49,
   "metadata": {},
   "outputs": [
    {
     "name": "stdout",
     "output_type": "stream",
     "text": [
      "Best Parameters:{'criterion': 'gini', 'max_depth': 4, 'min_samples_split': 2} \n",
      "Score: 0.05217391304347826\n"
     ]
    },
    {
     "data": {
      "application/javascript": "\n            setTimeout(function() {\n                var nbb_cell_id = 49;\n                var nbb_unformatted_code = \"# Creating pipeline\\nmodel = DecisionTreeClassifier(random_state=1)\\n\\n# Parameter grid to pass in GridSearchCV\\nparam_grid = {\\n    \\\"criterion\\\": [\\\"gini\\\", \\\"entropy\\\"],\\n    \\\"max_depth\\\": [3, 4, 5, None],\\n    \\\"min_samples_split\\\": [2, 4, 7, 10, 15],\\n}\\n\\n# Type of scoring used to compare parameter combinations\\nscorer = metrics.make_scorer(metrics.recall_score)\\n\\n# Calling GridSearchCV\\ngrid_cv = GridSearchCV(estimator=model, param_grid=param_grid, scoring=scorer, cv=5)\\n\\n# Fitting parameters in GridSeachCV\\ngrid_cv.fit(X_train, y_train)\\n\\nprint(\\n    \\\"Best Parameters:{} \\\\nScore: {}\\\".format(grid_cv.best_params_, grid_cv.best_score_)\\n)\";\n                var nbb_formatted_code = \"# Creating pipeline\\nmodel = DecisionTreeClassifier(random_state=1)\\n\\n# Parameter grid to pass in GridSearchCV\\nparam_grid = {\\n    \\\"criterion\\\": [\\\"gini\\\", \\\"entropy\\\"],\\n    \\\"max_depth\\\": [3, 4, 5, None],\\n    \\\"min_samples_split\\\": [2, 4, 7, 10, 15],\\n}\\n\\n# Type of scoring used to compare parameter combinations\\nscorer = metrics.make_scorer(metrics.recall_score)\\n\\n# Calling GridSearchCV\\ngrid_cv = GridSearchCV(estimator=model, param_grid=param_grid, scoring=scorer, cv=5)\\n\\n# Fitting parameters in GridSeachCV\\ngrid_cv.fit(X_train, y_train)\\n\\nprint(\\n    \\\"Best Parameters:{} \\\\nScore: {}\\\".format(grid_cv.best_params_, grid_cv.best_score_)\\n)\";\n                var nbb_cells = Jupyter.notebook.get_cells();\n                for (var i = 0; i < nbb_cells.length; ++i) {\n                    if (nbb_cells[i].input_prompt_number == nbb_cell_id) {\n                        if (nbb_cells[i].get_text() == nbb_unformatted_code) {\n                             nbb_cells[i].set_text(nbb_formatted_code);\n                        }\n                        break;\n                    }\n                }\n            }, 500);\n            ",
      "text/plain": [
       "<IPython.core.display.Javascript object>"
      ]
     },
     "metadata": {},
     "output_type": "display_data"
    }
   ],
   "source": [
    "# Creating pipeline\n",
    "model = DecisionTreeClassifier(random_state=1)\n",
    "\n",
    "# Parameter grid to pass in GridSearchCV\n",
    "param_grid = {\n",
    "    \"criterion\": [\"gini\", \"entropy\"],\n",
    "    \"max_depth\": [3, 4, 5, None],\n",
    "    \"min_samples_split\": [2, 4, 7, 10, 15],\n",
    "}\n",
    "\n",
    "# Type of scoring used to compare parameter combinations\n",
    "scorer = metrics.make_scorer(metrics.recall_score)\n",
    "\n",
    "# Calling GridSearchCV\n",
    "grid_cv = GridSearchCV(estimator=model, param_grid=param_grid, scoring=scorer, cv=5)\n",
    "\n",
    "# Fitting parameters in GridSeachCV\n",
    "grid_cv.fit(X_train, y_train)\n",
    "\n",
    "print(\n",
    "    \"Best Parameters:{} \\nScore: {}\".format(grid_cv.best_params_, grid_cv.best_score_)\n",
    ")"
   ]
  },
  {
   "cell_type": "code",
   "execution_count": 50,
   "metadata": {},
   "outputs": [
    {
     "data": {
      "text/plain": [
       "DecisionTreeClassifier(random_state=1)"
      ]
     },
     "execution_count": 50,
     "metadata": {},
     "output_type": "execute_result"
    },
    {
     "data": {
      "application/javascript": "\n            setTimeout(function() {\n                var nbb_cell_id = 50;\n                var nbb_unformatted_code = \"# Creating new pipeline with best parameters\\ndtree_tuned1 = DecisionTreeClassifier(\\n    random_state=1, criterion=\\\"gini\\\", max_depth=None, min_samples_split=2\\n)\\n\\n# Fit the model on training data\\ndtree_tuned1.fit(X_train, y_train)\";\n                var nbb_formatted_code = \"# Creating new pipeline with best parameters\\ndtree_tuned1 = DecisionTreeClassifier(\\n    random_state=1, criterion=\\\"gini\\\", max_depth=None, min_samples_split=2\\n)\\n\\n# Fit the model on training data\\ndtree_tuned1.fit(X_train, y_train)\";\n                var nbb_cells = Jupyter.notebook.get_cells();\n                for (var i = 0; i < nbb_cells.length; ++i) {\n                    if (nbb_cells[i].input_prompt_number == nbb_cell_id) {\n                        if (nbb_cells[i].get_text() == nbb_unformatted_code) {\n                             nbb_cells[i].set_text(nbb_formatted_code);\n                        }\n                        break;\n                    }\n                }\n            }, 500);\n            ",
      "text/plain": [
       "<IPython.core.display.Javascript object>"
      ]
     },
     "metadata": {},
     "output_type": "display_data"
    }
   ],
   "source": [
    "# Creating new pipeline with best parameters\n",
    "dtree_tuned1 = DecisionTreeClassifier(\n",
    "    random_state=1, criterion=\"gini\", max_depth=None, min_samples_split=2\n",
    ")\n",
    "\n",
    "# Fit the model on training data\n",
    "dtree_tuned1.fit(X_train, y_train)"
   ]
  },
  {
   "cell_type": "code",
   "execution_count": 51,
   "metadata": {},
   "outputs": [
    {
     "name": "stdout",
     "output_type": "stream",
     "text": [
      "Training performance:\n"
     ]
    },
    {
     "data": {
      "text/html": [
       "<div>\n",
       "<style scoped>\n",
       "    .dataframe tbody tr th:only-of-type {\n",
       "        vertical-align: middle;\n",
       "    }\n",
       "\n",
       "    .dataframe tbody tr th {\n",
       "        vertical-align: top;\n",
       "    }\n",
       "\n",
       "    .dataframe thead th {\n",
       "        text-align: right;\n",
       "    }\n",
       "</style>\n",
       "<table border=\"1\" class=\"dataframe\">\n",
       "  <thead>\n",
       "    <tr style=\"text-align: right;\">\n",
       "      <th></th>\n",
       "      <th>Accuracy</th>\n",
       "      <th>Recall</th>\n",
       "      <th>Precision</th>\n",
       "      <th>F1</th>\n",
       "    </tr>\n",
       "  </thead>\n",
       "  <tbody>\n",
       "    <tr>\n",
       "      <th>0</th>\n",
       "      <td>0.801</td>\n",
       "      <td>0.175</td>\n",
       "      <td>0.625</td>\n",
       "      <td>0.274</td>\n",
       "    </tr>\n",
       "  </tbody>\n",
       "</table>\n",
       "</div>"
      ],
      "text/plain": [
       "   Accuracy  Recall  Precision    F1\n",
       "0     0.801   0.175      0.625 0.274"
      ]
     },
     "execution_count": 51,
     "metadata": {},
     "output_type": "execute_result"
    },
    {
     "data": {
      "application/javascript": "\n            setTimeout(function() {\n                var nbb_cell_id = 51;\n                var nbb_unformatted_code = \"# Calculating different metrics on train set\\ndtree_grid_train = model_performance_classification_sklearn(\\n    dtree_tuned1, X_train, y_train\\n)\\nprint(\\\"Training performance:\\\")\\ndtree_grid_train\";\n                var nbb_formatted_code = \"# Calculating different metrics on train set\\ndtree_grid_train = model_performance_classification_sklearn(\\n    dtree_tuned1, X_train, y_train\\n)\\nprint(\\\"Training performance:\\\")\\ndtree_grid_train\";\n                var nbb_cells = Jupyter.notebook.get_cells();\n                for (var i = 0; i < nbb_cells.length; ++i) {\n                    if (nbb_cells[i].input_prompt_number == nbb_cell_id) {\n                        if (nbb_cells[i].get_text() == nbb_unformatted_code) {\n                             nbb_cells[i].set_text(nbb_formatted_code);\n                        }\n                        break;\n                    }\n                }\n            }, 500);\n            ",
      "text/plain": [
       "<IPython.core.display.Javascript object>"
      ]
     },
     "metadata": {},
     "output_type": "display_data"
    }
   ],
   "source": [
    "# Calculating different metrics on train set\n",
    "dtree_grid_train = model_performance_classification_sklearn(\n",
    "    dtree_tuned1, X_train, y_train\n",
    ")\n",
    "print(\"Training performance:\")\n",
    "dtree_grid_train"
   ]
  },
  {
   "cell_type": "code",
   "execution_count": 52,
   "metadata": {},
   "outputs": [
    {
     "name": "stdout",
     "output_type": "stream",
     "text": [
      "Validation performance:\n"
     ]
    },
    {
     "data": {
      "text/html": [
       "<div>\n",
       "<style scoped>\n",
       "    .dataframe tbody tr th:only-of-type {\n",
       "        vertical-align: middle;\n",
       "    }\n",
       "\n",
       "    .dataframe tbody tr th {\n",
       "        vertical-align: top;\n",
       "    }\n",
       "\n",
       "    .dataframe thead th {\n",
       "        text-align: right;\n",
       "    }\n",
       "</style>\n",
       "<table border=\"1\" class=\"dataframe\">\n",
       "  <thead>\n",
       "    <tr style=\"text-align: right;\">\n",
       "      <th></th>\n",
       "      <th>Accuracy</th>\n",
       "      <th>Recall</th>\n",
       "      <th>Precision</th>\n",
       "      <th>F1</th>\n",
       "    </tr>\n",
       "  </thead>\n",
       "  <tbody>\n",
       "    <tr>\n",
       "      <th>0</th>\n",
       "      <td>0.736</td>\n",
       "      <td>0.105</td>\n",
       "      <td>0.235</td>\n",
       "      <td>0.145</td>\n",
       "    </tr>\n",
       "  </tbody>\n",
       "</table>\n",
       "</div>"
      ],
      "text/plain": [
       "   Accuracy  Recall  Precision    F1\n",
       "0     0.736   0.105      0.235 0.145"
      ]
     },
     "execution_count": 52,
     "metadata": {},
     "output_type": "execute_result"
    },
    {
     "data": {
      "application/javascript": "\n            setTimeout(function() {\n                var nbb_cell_id = 52;\n                var nbb_unformatted_code = \"# Calculating different metrics on validation set\\ndtree_grid_val = model_performance_classification_sklearn(dtree_tuned1, X_val, y_val)\\nprint(\\\"Validation performance:\\\")\\ndtree_grid_val\";\n                var nbb_formatted_code = \"# Calculating different metrics on validation set\\ndtree_grid_val = model_performance_classification_sklearn(dtree_tuned1, X_val, y_val)\\nprint(\\\"Validation performance:\\\")\\ndtree_grid_val\";\n                var nbb_cells = Jupyter.notebook.get_cells();\n                for (var i = 0; i < nbb_cells.length; ++i) {\n                    if (nbb_cells[i].input_prompt_number == nbb_cell_id) {\n                        if (nbb_cells[i].get_text() == nbb_unformatted_code) {\n                             nbb_cells[i].set_text(nbb_formatted_code);\n                        }\n                        break;\n                    }\n                }\n            }, 500);\n            ",
      "text/plain": [
       "<IPython.core.display.Javascript object>"
      ]
     },
     "metadata": {},
     "output_type": "display_data"
    }
   ],
   "source": [
    "# Calculating different metrics on validation set\n",
    "dtree_grid_val = model_performance_classification_sklearn(dtree_tuned1, X_val, y_val)\n",
    "print(\"Validation performance:\")\n",
    "dtree_grid_val"
   ]
  },
  {
   "cell_type": "code",
   "execution_count": 53,
   "metadata": {},
   "outputs": [
    {
     "data": {
      "image/png": "[encoded data removed]",
      "text/plain": [
       "<Figure size 432x288 with 2 Axes>"
      ]
     },
     "metadata": {
      "needs_background": "light"
     },
     "output_type": "display_data"
    },
    {
     "data": {
      "application/javascript": "\n            setTimeout(function() {\n                var nbb_cell_id = 53;\n                var nbb_unformatted_code = \"# creating confusion matrix\\nconfusion_matrix_sklearn(dtree_tuned1, X_val, y_val)\";\n                var nbb_formatted_code = \"# creating confusion matrix\\nconfusion_matrix_sklearn(dtree_tuned1, X_val, y_val)\";\n                var nbb_cells = Jupyter.notebook.get_cells();\n                for (var i = 0; i < nbb_cells.length; ++i) {\n                    if (nbb_cells[i].input_prompt_number == nbb_cell_id) {\n                        if (nbb_cells[i].get_text() == nbb_unformatted_code) {\n                             nbb_cells[i].set_text(nbb_formatted_code);\n                        }\n                        break;\n                    }\n                }\n            }, 500);\n            ",
      "text/plain": [
       "<IPython.core.display.Javascript object>"
      ]
     },
     "metadata": {},
     "output_type": "display_data"
    }
   ],
   "source": [
    "# creating confusion matrix\n",
    "confusion_matrix_sklearn(dtree_tuned1, X_val, y_val)"
   ]
  },
  {
   "cell_type": "markdown",
   "metadata": {},
   "source": [
    "### RandomSearchCV"
   ]
  },
  {
   "cell_type": "code",
   "execution_count": 78,
   "metadata": {},
   "outputs": [
    {
     "name": "stdout",
     "output_type": "stream",
     "text": [
      "Best parameters are {'min_samples_split': 7, 'max_depth': 4, 'criterion': 'entropy'} with CV score=0.05217391304347826:\n"
     ]
    },
    {
     "data": {
      "application/javascript": "\n            setTimeout(function() {\n                var nbb_cell_id = 78;\n                var nbb_unformatted_code = \"# Creating pipeline\\nmodel = DecisionTreeClassifier(random_state=1)\\n\\n# Parameter grid to pass in RandomizedSearchCV\\nparam_grid = {\\n    \\\"criterion\\\": [\\\"gini\\\", \\\"entropy\\\"],\\n    \\\"max_depth\\\": [3, 4, 5, None],\\n    \\\"min_samples_split\\\": [2, 4, 7, 10, 15],\\n}\\n# Type of scoring used to compare parameter combinations\\nscorer = metrics.make_scorer(metrics.recall_score)\\n\\n# Calling RandomizedSearchCV\\nrandomized_cv = RandomizedSearchCV(\\n    estimator=model,\\n    param_distributions=param_grid,\\n    n_iter=20,\\n    scoring=scorer,\\n    cv=5,\\n    random_state=1,\\n)\\n\\n# Fitting parameters in RandomizedSearchCV\\nrandomized_cv.fit(X_train, y_train)\\n\\nprint(\\n    \\\"Best parameters are {} with CV score={}:\\\".format(\\n        randomized_cv.best_params_, randomized_cv.best_score_\\n    )\\n)\";\n                var nbb_formatted_code = \"# Creating pipeline\\nmodel = DecisionTreeClassifier(random_state=1)\\n\\n# Parameter grid to pass in RandomizedSearchCV\\nparam_grid = {\\n    \\\"criterion\\\": [\\\"gini\\\", \\\"entropy\\\"],\\n    \\\"max_depth\\\": [3, 4, 5, None],\\n    \\\"min_samples_split\\\": [2, 4, 7, 10, 15],\\n}\\n# Type of scoring used to compare parameter combinations\\nscorer = metrics.make_scorer(metrics.recall_score)\\n\\n# Calling RandomizedSearchCV\\nrandomized_cv = RandomizedSearchCV(\\n    estimator=model,\\n    param_distributions=param_grid,\\n    n_iter=20,\\n    scoring=scorer,\\n    cv=5,\\n    random_state=1,\\n)\\n\\n# Fitting parameters in RandomizedSearchCV\\nrandomized_cv.fit(X_train, y_train)\\n\\nprint(\\n    \\\"Best parameters are {} with CV score={}:\\\".format(\\n        randomized_cv.best_params_, randomized_cv.best_score_\\n    )\\n)\";\n                var nbb_cells = Jupyter.notebook.get_cells();\n                for (var i = 0; i < nbb_cells.length; ++i) {\n                    if (nbb_cells[i].input_prompt_number == nbb_cell_id) {\n                        if (nbb_cells[i].get_text() == nbb_unformatted_code) {\n                             nbb_cells[i].set_text(nbb_formatted_code);\n                        }\n                        break;\n                    }\n                }\n            }, 500);\n            ",
      "text/plain": [
       "<IPython.core.display.Javascript object>"
      ]
     },
     "metadata": {},
     "output_type": "display_data"
    }
   ],
   "source": [
    "# Creating pipeline\n",
    "model = DecisionTreeClassifier(random_state=1)\n",
    "\n",
    "# Parameter grid to pass in RandomizedSearchCV\n",
    "param_grid = {\n",
    "    \"criterion\": [\"gini\", \"entropy\"],\n",
    "    \"max_depth\": [3, 4, 5, None],\n",
    "    \"min_samples_split\": [2, 4, 7, 10, 15],\n",
    "}\n",
    "# Type of scoring used to compare parameter combinations\n",
    "scorer = metrics.make_scorer(metrics.recall_score)\n",
    "\n",
    "# Calling RandomizedSearchCV\n",
    "randomized_cv = RandomizedSearchCV(\n",
    "    estimator=model,\n",
    "    param_distributions=param_grid,\n",
    "    n_iter=20,\n",
    "    scoring=scorer,\n",
    "    cv=5,\n",
    "    random_state=1,\n",
    ")\n",
    "\n",
    "# Fitting parameters in RandomizedSearchCV\n",
    "randomized_cv.fit(X_train, y_train)\n",
    "\n",
    "print(\n",
    "    \"Best parameters are {} with CV score={}:\".format(\n",
    "        randomized_cv.best_params_, randomized_cv.best_score_\n",
    "    )\n",
    ")"
   ]
  },
  {
   "cell_type": "code",
   "execution_count": 55,
   "metadata": {},
   "outputs": [
    {
     "data": {
      "text/plain": [
       "DecisionTreeClassifier(criterion='entropy', random_state=1)"
      ]
     },
     "execution_count": 55,
     "metadata": {},
     "output_type": "execute_result"
    },
    {
     "data": {
      "application/javascript": "\n            setTimeout(function() {\n                var nbb_cell_id = 55;\n                var nbb_unformatted_code = \"# Creating new pipeline with best parameters\\ndtree_tuned2 = DecisionTreeClassifier(\\n    random_state=1, criterion=\\\"entropy\\\", max_depth=None, min_samples_split=2\\n)\\n\\n# Fit the model on training data\\ndtree_tuned2.fit(X_train, y_train)\";\n                var nbb_formatted_code = \"# Creating new pipeline with best parameters\\ndtree_tuned2 = DecisionTreeClassifier(\\n    random_state=1, criterion=\\\"entropy\\\", max_depth=None, min_samples_split=2\\n)\\n\\n# Fit the model on training data\\ndtree_tuned2.fit(X_train, y_train)\";\n                var nbb_cells = Jupyter.notebook.get_cells();\n                for (var i = 0; i < nbb_cells.length; ++i) {\n                    if (nbb_cells[i].input_prompt_number == nbb_cell_id) {\n                        if (nbb_cells[i].get_text() == nbb_unformatted_code) {\n                             nbb_cells[i].set_text(nbb_formatted_code);\n                        }\n                        break;\n                    }\n                }\n            }, 500);\n            ",
      "text/plain": [
       "<IPython.core.display.Javascript object>"
      ]
     },
     "metadata": {},
     "output_type": "display_data"
    }
   ],
   "source": [
    "# Creating new pipeline with best parameters\n",
    "dtree_tuned2 = DecisionTreeClassifier(\n",
    "    random_state=1, criterion=\"entropy\", max_depth=None, min_samples_split=2\n",
    ")\n",
    "\n",
    "# Fit the model on training data\n",
    "dtree_tuned2.fit(X_train, y_train)"
   ]
  },
  {
   "cell_type": "code",
   "execution_count": 56,
   "metadata": {},
   "outputs": [
    {
     "name": "stdout",
     "output_type": "stream",
     "text": [
      "Training performance:\n"
     ]
    },
    {
     "data": {
      "text/html": [
       "<div>\n",
       "<style scoped>\n",
       "    .dataframe tbody tr th:only-of-type {\n",
       "        vertical-align: middle;\n",
       "    }\n",
       "\n",
       "    .dataframe tbody tr th {\n",
       "        vertical-align: top;\n",
       "    }\n",
       "\n",
       "    .dataframe thead th {\n",
       "        text-align: right;\n",
       "    }\n",
       "</style>\n",
       "<table border=\"1\" class=\"dataframe\">\n",
       "  <thead>\n",
       "    <tr style=\"text-align: right;\">\n",
       "      <th></th>\n",
       "      <th>Accuracy</th>\n",
       "      <th>Recall</th>\n",
       "      <th>Precision</th>\n",
       "      <th>F1</th>\n",
       "    </tr>\n",
       "  </thead>\n",
       "  <tbody>\n",
       "    <tr>\n",
       "      <th>0</th>\n",
       "      <td>0.801</td>\n",
       "      <td>0.175</td>\n",
       "      <td>0.625</td>\n",
       "      <td>0.274</td>\n",
       "    </tr>\n",
       "  </tbody>\n",
       "</table>\n",
       "</div>"
      ],
      "text/plain": [
       "   Accuracy  Recall  Precision    F1\n",
       "0     0.801   0.175      0.625 0.274"
      ]
     },
     "execution_count": 56,
     "metadata": {},
     "output_type": "execute_result"
    },
    {
     "data": {
      "application/javascript": "\n            setTimeout(function() {\n                var nbb_cell_id = 56;\n                var nbb_unformatted_code = \"# Calculating different metrics on train set\\ndtree_random_train = model_performance_classification_sklearn(\\n    dtree_tuned2, X_train, y_train\\n)\\nprint(\\\"Training performance:\\\")\\ndtree_random_train\";\n                var nbb_formatted_code = \"# Calculating different metrics on train set\\ndtree_random_train = model_performance_classification_sklearn(\\n    dtree_tuned2, X_train, y_train\\n)\\nprint(\\\"Training performance:\\\")\\ndtree_random_train\";\n                var nbb_cells = Jupyter.notebook.get_cells();\n                for (var i = 0; i < nbb_cells.length; ++i) {\n                    if (nbb_cells[i].input_prompt_number == nbb_cell_id) {\n                        if (nbb_cells[i].get_text() == nbb_unformatted_code) {\n                             nbb_cells[i].set_text(nbb_formatted_code);\n                        }\n                        break;\n                    }\n                }\n            }, 500);\n            ",
      "text/plain": [
       "<IPython.core.display.Javascript object>"
      ]
     },
     "metadata": {},
     "output_type": "display_data"
    }
   ],
   "source": [
    "# Calculating different metrics on train set\n",
    "dtree_random_train = model_performance_classification_sklearn(\n",
    "    dtree_tuned2, X_train, y_train\n",
    ")\n",
    "print(\"Training performance:\")\n",
    "dtree_random_train"
   ]
  },
  {
   "cell_type": "code",
   "execution_count": 57,
   "metadata": {},
   "outputs": [
    {
     "name": "stdout",
     "output_type": "stream",
     "text": [
      "Validation performance:\n"
     ]
    },
    {
     "data": {
      "text/html": [
       "<div>\n",
       "<style scoped>\n",
       "    .dataframe tbody tr th:only-of-type {\n",
       "        vertical-align: middle;\n",
       "    }\n",
       "\n",
       "    .dataframe tbody tr th {\n",
       "        vertical-align: top;\n",
       "    }\n",
       "\n",
       "    .dataframe thead th {\n",
       "        text-align: right;\n",
       "    }\n",
       "</style>\n",
       "<table border=\"1\" class=\"dataframe\">\n",
       "  <thead>\n",
       "    <tr style=\"text-align: right;\">\n",
       "      <th></th>\n",
       "      <th>Accuracy</th>\n",
       "      <th>Recall</th>\n",
       "      <th>Precision</th>\n",
       "      <th>F1</th>\n",
       "    </tr>\n",
       "  </thead>\n",
       "  <tbody>\n",
       "    <tr>\n",
       "      <th>0</th>\n",
       "      <td>0.736</td>\n",
       "      <td>0.105</td>\n",
       "      <td>0.235</td>\n",
       "      <td>0.145</td>\n",
       "    </tr>\n",
       "  </tbody>\n",
       "</table>\n",
       "</div>"
      ],
      "text/plain": [
       "   Accuracy  Recall  Precision    F1\n",
       "0     0.736   0.105      0.235 0.145"
      ]
     },
     "execution_count": 57,
     "metadata": {},
     "output_type": "execute_result"
    },
    {
     "data": {
      "application/javascript": "\n            setTimeout(function() {\n                var nbb_cell_id = 57;\n                var nbb_unformatted_code = \"# Calculating different metrics on validation set\\ndtree_random_val = model_performance_classification_sklearn(dtree_tuned2, X_val, y_val)\\nprint(\\\"Validation performance:\\\")\\ndtree_random_val\";\n                var nbb_formatted_code = \"# Calculating different metrics on validation set\\ndtree_random_val = model_performance_classification_sklearn(dtree_tuned2, X_val, y_val)\\nprint(\\\"Validation performance:\\\")\\ndtree_random_val\";\n                var nbb_cells = Jupyter.notebook.get_cells();\n                for (var i = 0; i < nbb_cells.length; ++i) {\n                    if (nbb_cells[i].input_prompt_number == nbb_cell_id) {\n                        if (nbb_cells[i].get_text() == nbb_unformatted_code) {\n                             nbb_cells[i].set_text(nbb_formatted_code);\n                        }\n                        break;\n                    }\n                }\n            }, 500);\n            ",
      "text/plain": [
       "<IPython.core.display.Javascript object>"
      ]
     },
     "metadata": {},
     "output_type": "display_data"
    }
   ],
   "source": [
    "# Calculating different metrics on validation set\n",
    "dtree_random_val = model_performance_classification_sklearn(dtree_tuned2, X_val, y_val)\n",
    "print(\"Validation performance:\")\n",
    "dtree_random_val"
   ]
  },
  {
   "cell_type": "code",
   "execution_count": 58,
   "metadata": {},
   "outputs": [
    {
     "data": {
      "image/png": "[encoded data removed]",
      "text/plain": [
       "<Figure size 432x288 with 2 Axes>"
      ]
     },
     "metadata": {
      "needs_background": "light"
     },
     "output_type": "display_data"
    },
    {
     "data": {
      "application/javascript": "\n            setTimeout(function() {\n                var nbb_cell_id = 58;\n                var nbb_unformatted_code = \"# creating confusion matrix\\nconfusion_matrix_sklearn(dtree_tuned1, X_val, y_val)\";\n                var nbb_formatted_code = \"# creating confusion matrix\\nconfusion_matrix_sklearn(dtree_tuned1, X_val, y_val)\";\n                var nbb_cells = Jupyter.notebook.get_cells();\n                for (var i = 0; i < nbb_cells.length; ++i) {\n                    if (nbb_cells[i].input_prompt_number == nbb_cell_id) {\n                        if (nbb_cells[i].get_text() == nbb_unformatted_code) {\n                             nbb_cells[i].set_text(nbb_formatted_code);\n                        }\n                        break;\n                    }\n                }\n            }, 500);\n            ",
      "text/plain": [
       "<IPython.core.display.Javascript object>"
      ]
     },
     "metadata": {},
     "output_type": "display_data"
    }
   ],
   "source": [
    "# creating confusion matrix\n",
    "confusion_matrix_sklearn(dtree_tuned1, X_val, y_val)"
   ]
  },
  {
   "cell_type": "markdown",
   "metadata": {},
   "source": [
    "### XGBoost"
   ]
  },
  {
   "cell_type": "markdown",
   "metadata": {},
   "source": [
    "### GridSearchCV"
   ]
  },
  {
   "cell_type": "code",
   "execution_count": 59,
   "metadata": {},
   "outputs": [
    {
     "name": "stdout",
     "output_type": "stream",
     "text": [
      "Fitting 5 folds for each of 2304 candidates, totalling 11520 fits\n",
      "Best parameters are {'gamma': 0, 'learning_rate': 0.01, 'max_depth': 1, 'n_estimators': 50, 'reg_lambda': 5, 'scale_pos_weight': 10, 'subsample': 0.8} with CV score=0.9913043478260869:\n",
      "CPU times: user 17.9 s, sys: 1.96 s, total: 19.9 s\n",
      "Wall time: 14min 7s\n"
     ]
    },
    {
     "data": {
      "application/javascript": "\n            setTimeout(function() {\n                var nbb_cell_id = 59;\n                var nbb_unformatted_code = \"%%time \\n\\n#defining model\\nmodel = XGBClassifier(random_state=1,eval_metric='logloss')\\n\\n#Parameter grid to pass in GridSearchCV\\nparam_grid={'n_estimators':np.arange(50,150,50),\\n            'scale_pos_weight':[2,5,10],\\n            'learning_rate':[0.01,0.1,0.2,0.05],\\n            'gamma':[0,1,3,5],\\n            'subsample':[0.8,0.9,1],\\n            'max_depth':np.arange(1,5,1),\\n            'reg_lambda':[5,10]}\\n\\n\\n# Type of scoring used to compare parameter combinations\\nscorer = metrics.make_scorer(metrics.recall_score)\\n\\n#Calling GridSearchCV\\ngrid_cv = GridSearchCV(estimator=model, param_grid=param_grid, scoring=scorer, cv=5, n_jobs = -1, verbose= 2)\\n\\n#Fitting parameters in GridSeachCV\\ngrid_cv.fit(X_train,y_train)\\n\\n\\nprint(\\\"Best parameters are {} with CV score={}:\\\" .format(grid_cv.best_params_,grid_cv.best_score_))\";\n                var nbb_formatted_code = \"%%time \\n\\n#defining model\\nmodel = XGBClassifier(random_state=1,eval_metric='logloss')\\n\\n#Parameter grid to pass in GridSearchCV\\nparam_grid={'n_estimators':np.arange(50,150,50),\\n            'scale_pos_weight':[2,5,10],\\n            'learning_rate':[0.01,0.1,0.2,0.05],\\n            'gamma':[0,1,3,5],\\n            'subsample':[0.8,0.9,1],\\n            'max_depth':np.arange(1,5,1),\\n            'reg_lambda':[5,10]}\\n\\n\\n# Type of scoring used to compare parameter combinations\\nscorer = metrics.make_scorer(metrics.recall_score)\\n\\n#Calling GridSearchCV\\ngrid_cv = GridSearchCV(estimator=model, param_grid=param_grid, scoring=scorer, cv=5, n_jobs = -1, verbose= 2)\\n\\n#Fitting parameters in GridSeachCV\\ngrid_cv.fit(X_train,y_train)\\n\\n\\nprint(\\\"Best parameters are {} with CV score={}:\\\" .format(grid_cv.best_params_,grid_cv.best_score_))\";\n                var nbb_cells = Jupyter.notebook.get_cells();\n                for (var i = 0; i < nbb_cells.length; ++i) {\n                    if (nbb_cells[i].input_prompt_number == nbb_cell_id) {\n                        if (nbb_cells[i].get_text() == nbb_unformatted_code) {\n                             nbb_cells[i].set_text(nbb_formatted_code);\n                        }\n                        break;\n                    }\n                }\n            }, 500);\n            ",
      "text/plain": [
       "<IPython.core.display.Javascript object>"
      ]
     },
     "metadata": {},
     "output_type": "display_data"
    }
   ],
   "source": [
    "%%time \n",
    "\n",
    "#defining model\n",
    "model = XGBClassifier(random_state=1,eval_metric='logloss')\n",
    "\n",
    "#Parameter grid to pass in GridSearchCV\n",
    "param_grid={'n_estimators':np.arange(50,150,50),\n",
    "            'scale_pos_weight':[2,5,10],\n",
    "            'learning_rate':[0.01,0.1,0.2,0.05],\n",
    "            'gamma':[0,1,3,5],\n",
    "            'subsample':[0.8,0.9,1],\n",
    "            'max_depth':np.arange(1,5,1),\n",
    "            'reg_lambda':[5,10]}\n",
    "\n",
    "\n",
    "# Type of scoring used to compare parameter combinations\n",
    "scorer = metrics.make_scorer(metrics.recall_score)\n",
    "\n",
    "#Calling GridSearchCV\n",
    "grid_cv = GridSearchCV(estimator=model, param_grid=param_grid, scoring=scorer, cv=5, n_jobs = -1, verbose= 2)\n",
    "\n",
    "#Fitting parameters in GridSeachCV\n",
    "grid_cv.fit(X_train,y_train)\n",
    "\n",
    "\n",
    "print(\"Best parameters are {} with CV score={}:\" .format(grid_cv.best_params_,grid_cv.best_score_))"
   ]
  },
  {
   "cell_type": "code",
   "execution_count": 60,
   "metadata": {},
   "outputs": [
    {
     "data": {
      "text/plain": [
       "XGBClassifier(base_score=0.5, booster='gbtree', colsample_bylevel=1,\n",
       "              colsample_bynode=1, colsample_bytree=1, eval_metric='logloss',\n",
       "              gamma=0, gpu_id=-1, importance_type='gain',\n",
       "              interaction_constraints='', learning_rate=0.01, max_delta_step=0,\n",
       "              max_depth=1, min_child_weight=1, missing=nan,\n",
       "              monotone_constraints='()', n_estimators=50, n_jobs=8,\n",
       "              num_parallel_tree=1, random_state=1, reg_alpha=0, reg_lambda=5,\n",
       "              scale_pos_weight=10, subsample=0.8, tree_method='exact',\n",
       "              validate_parameters=1, verbosity=None)"
      ]
     },
     "execution_count": 60,
     "metadata": {},
     "output_type": "execute_result"
    },
    {
     "data": {
      "application/javascript": "\n            setTimeout(function() {\n                var nbb_cell_id = 60;\n                var nbb_unformatted_code = \"# building model with best parameters\\nxgb_tuned1 = XGBClassifier(\\n    random_state=1,\\n    n_estimators=50,\\n    scale_pos_weight=10,\\n    subsample=0.8,\\n    learning_rate=0.01,\\n    gamma=0,\\n    eval_metric=\\\"logloss\\\",\\n    reg_lambda=5,\\n    max_depth=1,\\n)\\n\\n# Fit the model on training data\\nxgb_tuned1.fit(X_train, y_train)\";\n                var nbb_formatted_code = \"# building model with best parameters\\nxgb_tuned1 = XGBClassifier(\\n    random_state=1,\\n    n_estimators=50,\\n    scale_pos_weight=10,\\n    subsample=0.8,\\n    learning_rate=0.01,\\n    gamma=0,\\n    eval_metric=\\\"logloss\\\",\\n    reg_lambda=5,\\n    max_depth=1,\\n)\\n\\n# Fit the model on training data\\nxgb_tuned1.fit(X_train, y_train)\";\n                var nbb_cells = Jupyter.notebook.get_cells();\n                for (var i = 0; i < nbb_cells.length; ++i) {\n                    if (nbb_cells[i].input_prompt_number == nbb_cell_id) {\n                        if (nbb_cells[i].get_text() == nbb_unformatted_code) {\n                             nbb_cells[i].set_text(nbb_formatted_code);\n                        }\n                        break;\n                    }\n                }\n            }, 500);\n            ",
      "text/plain": [
       "<IPython.core.display.Javascript object>"
      ]
     },
     "metadata": {},
     "output_type": "display_data"
    }
   ],
   "source": [
    "# building model with best parameters\n",
    "xgb_tuned1 = XGBClassifier(\n",
    "    random_state=1,\n",
    "    n_estimators=50,\n",
    "    scale_pos_weight=10,\n",
    "    subsample=0.8,\n",
    "    learning_rate=0.01,\n",
    "    gamma=0,\n",
    "    eval_metric=\"logloss\",\n",
    "    reg_lambda=5,\n",
    "    max_depth=1,\n",
    ")\n",
    "\n",
    "# Fit the model on training data\n",
    "xgb_tuned1.fit(X_train, y_train)"
   ]
  },
  {
   "cell_type": "code",
   "execution_count": 61,
   "metadata": {},
   "outputs": [
    {
     "name": "stdout",
     "output_type": "stream",
     "text": [
      "Training performance:\n"
     ]
    },
    {
     "data": {
      "text/html": [
       "<div>\n",
       "<style scoped>\n",
       "    .dataframe tbody tr th:only-of-type {\n",
       "        vertical-align: middle;\n",
       "    }\n",
       "\n",
       "    .dataframe tbody tr th {\n",
       "        vertical-align: top;\n",
       "    }\n",
       "\n",
       "    .dataframe thead th {\n",
       "        text-align: right;\n",
       "    }\n",
       "</style>\n",
       "<table border=\"1\" class=\"dataframe\">\n",
       "  <thead>\n",
       "    <tr style=\"text-align: right;\">\n",
       "      <th></th>\n",
       "      <th>Accuracy</th>\n",
       "      <th>Recall</th>\n",
       "      <th>Precision</th>\n",
       "      <th>F1</th>\n",
       "    </tr>\n",
       "  </thead>\n",
       "  <tbody>\n",
       "    <tr>\n",
       "      <th>0</th>\n",
       "      <td>0.296</td>\n",
       "      <td>1.000</td>\n",
       "      <td>0.233</td>\n",
       "      <td>0.378</td>\n",
       "    </tr>\n",
       "  </tbody>\n",
       "</table>\n",
       "</div>"
      ],
      "text/plain": [
       "   Accuracy  Recall  Precision    F1\n",
       "0     0.296   1.000      0.233 0.378"
      ]
     },
     "execution_count": 61,
     "metadata": {},
     "output_type": "execute_result"
    },
    {
     "data": {
      "application/javascript": "\n            setTimeout(function() {\n                var nbb_cell_id = 61;\n                var nbb_unformatted_code = \"# Calculating different metrics on train set\\nxgboost_grid_train = model_performance_classification_sklearn(\\n    xgb_tuned1, X_train, y_train\\n)\\nprint(\\\"Training performance:\\\")\\nxgboost_grid_train\";\n                var nbb_formatted_code = \"# Calculating different metrics on train set\\nxgboost_grid_train = model_performance_classification_sklearn(\\n    xgb_tuned1, X_train, y_train\\n)\\nprint(\\\"Training performance:\\\")\\nxgboost_grid_train\";\n                var nbb_cells = Jupyter.notebook.get_cells();\n                for (var i = 0; i < nbb_cells.length; ++i) {\n                    if (nbb_cells[i].input_prompt_number == nbb_cell_id) {\n                        if (nbb_cells[i].get_text() == nbb_unformatted_code) {\n                             nbb_cells[i].set_text(nbb_formatted_code);\n                        }\n                        break;\n                    }\n                }\n            }, 500);\n            ",
      "text/plain": [
       "<IPython.core.display.Javascript object>"
      ]
     },
     "metadata": {},
     "output_type": "display_data"
    }
   ],
   "source": [
    "# Calculating different metrics on train set\n",
    "xgboost_grid_train = model_performance_classification_sklearn(\n",
    "    xgb_tuned1, X_train, y_train\n",
    ")\n",
    "print(\"Training performance:\")\n",
    "xgboost_grid_train"
   ]
  },
  {
   "cell_type": "code",
   "execution_count": 62,
   "metadata": {},
   "outputs": [
    {
     "name": "stdout",
     "output_type": "stream",
     "text": [
      "Validation performance:\n"
     ]
    },
    {
     "data": {
      "text/html": [
       "<div>\n",
       "<style scoped>\n",
       "    .dataframe tbody tr th:only-of-type {\n",
       "        vertical-align: middle;\n",
       "    }\n",
       "\n",
       "    .dataframe tbody tr th {\n",
       "        vertical-align: top;\n",
       "    }\n",
       "\n",
       "    .dataframe thead th {\n",
       "        text-align: right;\n",
       "    }\n",
       "</style>\n",
       "<table border=\"1\" class=\"dataframe\">\n",
       "  <thead>\n",
       "    <tr style=\"text-align: right;\">\n",
       "      <th></th>\n",
       "      <th>Accuracy</th>\n",
       "      <th>Recall</th>\n",
       "      <th>Precision</th>\n",
       "      <th>F1</th>\n",
       "    </tr>\n",
       "  </thead>\n",
       "  <tbody>\n",
       "    <tr>\n",
       "      <th>0</th>\n",
       "      <td>0.287</td>\n",
       "      <td>1.000</td>\n",
       "      <td>0.230</td>\n",
       "      <td>0.374</td>\n",
       "    </tr>\n",
       "  </tbody>\n",
       "</table>\n",
       "</div>"
      ],
      "text/plain": [
       "   Accuracy  Recall  Precision    F1\n",
       "0     0.287   1.000      0.230 0.374"
      ]
     },
     "execution_count": 62,
     "metadata": {},
     "output_type": "execute_result"
    },
    {
     "data": {
      "application/javascript": "\n            setTimeout(function() {\n                var nbb_cell_id = 62;\n                var nbb_unformatted_code = \"# Calculating different metrics on validation set\\nxgboost_grid_val = model_performance_classification_sklearn(xgb_tuned1, X_val, y_val)\\nprint(\\\"Validation performance:\\\")\\nxgboost_grid_val\";\n                var nbb_formatted_code = \"# Calculating different metrics on validation set\\nxgboost_grid_val = model_performance_classification_sklearn(xgb_tuned1, X_val, y_val)\\nprint(\\\"Validation performance:\\\")\\nxgboost_grid_val\";\n                var nbb_cells = Jupyter.notebook.get_cells();\n                for (var i = 0; i < nbb_cells.length; ++i) {\n                    if (nbb_cells[i].input_prompt_number == nbb_cell_id) {\n                        if (nbb_cells[i].get_text() == nbb_unformatted_code) {\n                             nbb_cells[i].set_text(nbb_formatted_code);\n                        }\n                        break;\n                    }\n                }\n            }, 500);\n            ",
      "text/plain": [
       "<IPython.core.display.Javascript object>"
      ]
     },
     "metadata": {},
     "output_type": "display_data"
    }
   ],
   "source": [
    "# Calculating different metrics on validation set\n",
    "xgboost_grid_val = model_performance_classification_sklearn(xgb_tuned1, X_val, y_val)\n",
    "print(\"Validation performance:\")\n",
    "xgboost_grid_val"
   ]
  },
  {
   "cell_type": "code",
   "execution_count": 63,
   "metadata": {},
   "outputs": [
    {
     "data": {
      "image/png": "[encoded data removed]",
      "text/plain": [
       "<Figure size 432x288 with 2 Axes>"
      ]
     },
     "metadata": {
      "needs_background": "light"
     },
     "output_type": "display_data"
    },
    {
     "data": {
      "application/javascript": "\n            setTimeout(function() {\n                var nbb_cell_id = 63;\n                var nbb_unformatted_code = \"# creating confusion matrix\\nconfusion_matrix_sklearn(xgb_tuned1, X_val, y_val)\";\n                var nbb_formatted_code = \"# creating confusion matrix\\nconfusion_matrix_sklearn(xgb_tuned1, X_val, y_val)\";\n                var nbb_cells = Jupyter.notebook.get_cells();\n                for (var i = 0; i < nbb_cells.length; ++i) {\n                    if (nbb_cells[i].input_prompt_number == nbb_cell_id) {\n                        if (nbb_cells[i].get_text() == nbb_unformatted_code) {\n                             nbb_cells[i].set_text(nbb_formatted_code);\n                        }\n                        break;\n                    }\n                }\n            }, 500);\n            ",
      "text/plain": [
       "<IPython.core.display.Javascript object>"
      ]
     },
     "metadata": {},
     "output_type": "display_data"
    }
   ],
   "source": [
    "# creating confusion matrix\n",
    "confusion_matrix_sklearn(xgb_tuned1, X_val, y_val)"
   ]
  },
  {
   "cell_type": "markdown",
   "metadata": {},
   "source": [
    "### RandomSearchCV"
   ]
  },
  {
   "cell_type": "code",
   "execution_count": 64,
   "metadata": {},
   "outputs": [
    {
     "name": "stdout",
     "output_type": "stream",
     "text": [
      "Best parameters are {'subsample': 0.9, 'scale_pos_weight': 10, 'reg_lambda': 5, 'n_estimators': 50, 'max_depth': 1, 'learning_rate': 0.01, 'gamma': 1} with CV score=0.9913043478260869:\n",
      "CPU times: user 483 ms, sys: 103 ms, total: 587 ms\n",
      "Wall time: 16.3 s\n"
     ]
    },
    {
     "data": {
      "application/javascript": "\n            setTimeout(function() {\n                var nbb_cell_id = 64;\n                var nbb_unformatted_code = \"%%time\\n\\n# defining model\\nmodel = XGBClassifier(random_state=1,eval_metric='logloss')\\n\\n# Parameter grid to pass in RandomizedSearchCV\\nparam_grid={'n_estimators':np.arange(50,150,50),\\n            'scale_pos_weight':[2,5,10],\\n            'learning_rate':[0.01,0.1,0.2,0.05],\\n            'gamma':[0,1,3,5],\\n            'subsample':[0.8,0.9,1],\\n            'max_depth':np.arange(1,5,1),\\n            'reg_lambda':[5,10]}\\n\\n# Type of scoring used to compare parameter combinations\\nscorer = metrics.make_scorer(metrics.recall_score)\\n\\n#Calling RandomizedSearchCV\\nxgb_tuned2 = RandomizedSearchCV(estimator=model, param_distributions=param_grid, n_iter=50, scoring=scorer, cv=5, random_state=1, n_jobs = -1)\\n\\n#Fitting parameters in RandomizedSearchCV\\nxgb_tuned2.fit(X_train,y_train)\\n\\nprint(\\\"Best parameters are {} with CV score={}:\\\" .format(xgb_tuned2.best_params_,xgb_tuned2.best_score_))\";\n                var nbb_formatted_code = \"%%time\\n\\n# defining model\\nmodel = XGBClassifier(random_state=1,eval_metric='logloss')\\n\\n# Parameter grid to pass in RandomizedSearchCV\\nparam_grid={'n_estimators':np.arange(50,150,50),\\n            'scale_pos_weight':[2,5,10],\\n            'learning_rate':[0.01,0.1,0.2,0.05],\\n            'gamma':[0,1,3,5],\\n            'subsample':[0.8,0.9,1],\\n            'max_depth':np.arange(1,5,1),\\n            'reg_lambda':[5,10]}\\n\\n# Type of scoring used to compare parameter combinations\\nscorer = metrics.make_scorer(metrics.recall_score)\\n\\n#Calling RandomizedSearchCV\\nxgb_tuned2 = RandomizedSearchCV(estimator=model, param_distributions=param_grid, n_iter=50, scoring=scorer, cv=5, random_state=1, n_jobs = -1)\\n\\n#Fitting parameters in RandomizedSearchCV\\nxgb_tuned2.fit(X_train,y_train)\\n\\nprint(\\\"Best parameters are {} with CV score={}:\\\" .format(xgb_tuned2.best_params_,xgb_tuned2.best_score_))\";\n                var nbb_cells = Jupyter.notebook.get_cells();\n                for (var i = 0; i < nbb_cells.length; ++i) {\n                    if (nbb_cells[i].input_prompt_number == nbb_cell_id) {\n                        if (nbb_cells[i].get_text() == nbb_unformatted_code) {\n                             nbb_cells[i].set_text(nbb_formatted_code);\n                        }\n                        break;\n                    }\n                }\n            }, 500);\n            ",
      "text/plain": [
       "<IPython.core.display.Javascript object>"
      ]
     },
     "metadata": {},
     "output_type": "display_data"
    }
   ],
   "source": [
    "%%time\n",
    "\n",
    "# defining model\n",
    "model = XGBClassifier(random_state=1,eval_metric='logloss')\n",
    "\n",
    "# Parameter grid to pass in RandomizedSearchCV\n",
    "param_grid={'n_estimators':np.arange(50,150,50),\n",
    "            'scale_pos_weight':[2,5,10],\n",
    "            'learning_rate':[0.01,0.1,0.2,0.05],\n",
    "            'gamma':[0,1,3,5],\n",
    "            'subsample':[0.8,0.9,1],\n",
    "            'max_depth':np.arange(1,5,1),\n",
    "            'reg_lambda':[5,10]}\n",
    "\n",
    "# Type of scoring used to compare parameter combinations\n",
    "scorer = metrics.make_scorer(metrics.recall_score)\n",
    "\n",
    "#Calling RandomizedSearchCV\n",
    "xgb_tuned2 = RandomizedSearchCV(estimator=model, param_distributions=param_grid, n_iter=50, scoring=scorer, cv=5, random_state=1, n_jobs = -1)\n",
    "\n",
    "#Fitting parameters in RandomizedSearchCV\n",
    "xgb_tuned2.fit(X_train,y_train)\n",
    "\n",
    "print(\"Best parameters are {} with CV score={}:\" .format(xgb_tuned2.best_params_,xgb_tuned2.best_score_))"
   ]
  },
  {
   "cell_type": "code",
   "execution_count": 65,
   "metadata": {},
   "outputs": [
    {
     "data": {
      "text/plain": [
       "XGBClassifier(base_score=0.5, booster='gbtree', colsample_bylevel=1,\n",
       "              colsample_bynode=1, colsample_bytree=1, eval_metric='logloss',\n",
       "              gamma=1, gpu_id=-1, importance_type='gain',\n",
       "              interaction_constraints='', learning_rate=0.01, max_delta_step=0,\n",
       "              max_depth=1, min_child_weight=1, missing=nan,\n",
       "              monotone_constraints='()', n_estimators=50, n_jobs=8,\n",
       "              num_parallel_tree=1, random_state=1, reg_alpha=0, reg_lambda=5,\n",
       "              scale_pos_weight=10, subsample=0.9, tree_method='exact',\n",
       "              validate_parameters=1, verbosity=None)"
      ]
     },
     "execution_count": 65,
     "metadata": {},
     "output_type": "execute_result"
    },
    {
     "data": {
      "application/javascript": "\n            setTimeout(function() {\n                var nbb_cell_id = 65;\n                var nbb_unformatted_code = \"# building model with best parameters\\nxgb_tuned2 = XGBClassifier(\\n    random_state=1,\\n    n_estimators=50,\\n    scale_pos_weight=10,\\n    gamma=1,\\n    subsample=0.9,\\n    learning_rate=0.01,\\n    eval_metric=\\\"logloss\\\",\\n    max_depth=1,\\n    reg_lambda=5,\\n)\\n# Fit the model on training data\\nxgb_tuned2.fit(X_train, y_train)\";\n                var nbb_formatted_code = \"# building model with best parameters\\nxgb_tuned2 = XGBClassifier(\\n    random_state=1,\\n    n_estimators=50,\\n    scale_pos_weight=10,\\n    gamma=1,\\n    subsample=0.9,\\n    learning_rate=0.01,\\n    eval_metric=\\\"logloss\\\",\\n    max_depth=1,\\n    reg_lambda=5,\\n)\\n# Fit the model on training data\\nxgb_tuned2.fit(X_train, y_train)\";\n                var nbb_cells = Jupyter.notebook.get_cells();\n                for (var i = 0; i < nbb_cells.length; ++i) {\n                    if (nbb_cells[i].input_prompt_number == nbb_cell_id) {\n                        if (nbb_cells[i].get_text() == nbb_unformatted_code) {\n                             nbb_cells[i].set_text(nbb_formatted_code);\n                        }\n                        break;\n                    }\n                }\n            }, 500);\n            ",
      "text/plain": [
       "<IPython.core.display.Javascript object>"
      ]
     },
     "metadata": {},
     "output_type": "display_data"
    }
   ],
   "source": [
    "# building model with best parameters\n",
    "xgb_tuned2 = XGBClassifier(\n",
    "    random_state=1,\n",
    "    n_estimators=50,\n",
    "    scale_pos_weight=10,\n",
    "    gamma=1,\n",
    "    subsample=0.9,\n",
    "    learning_rate=0.01,\n",
    "    eval_metric=\"logloss\",\n",
    "    max_depth=1,\n",
    "    reg_lambda=5,\n",
    ")\n",
    "# Fit the model on training data\n",
    "xgb_tuned2.fit(X_train, y_train)"
   ]
  },
  {
   "cell_type": "code",
   "execution_count": 66,
   "metadata": {},
   "outputs": [
    {
     "name": "stdout",
     "output_type": "stream",
     "text": [
      "Training performance:\n"
     ]
    },
    {
     "data": {
      "text/html": [
       "<div>\n",
       "<style scoped>\n",
       "    .dataframe tbody tr th:only-of-type {\n",
       "        vertical-align: middle;\n",
       "    }\n",
       "\n",
       "    .dataframe tbody tr th {\n",
       "        vertical-align: top;\n",
       "    }\n",
       "\n",
       "    .dataframe thead th {\n",
       "        text-align: right;\n",
       "    }\n",
       "</style>\n",
       "<table border=\"1\" class=\"dataframe\">\n",
       "  <thead>\n",
       "    <tr style=\"text-align: right;\">\n",
       "      <th></th>\n",
       "      <th>Accuracy</th>\n",
       "      <th>Recall</th>\n",
       "      <th>Precision</th>\n",
       "      <th>F1</th>\n",
       "    </tr>\n",
       "  </thead>\n",
       "  <tbody>\n",
       "    <tr>\n",
       "      <th>0</th>\n",
       "      <td>0.296</td>\n",
       "      <td>1.000</td>\n",
       "      <td>0.233</td>\n",
       "      <td>0.378</td>\n",
       "    </tr>\n",
       "  </tbody>\n",
       "</table>\n",
       "</div>"
      ],
      "text/plain": [
       "   Accuracy  Recall  Precision    F1\n",
       "0     0.296   1.000      0.233 0.378"
      ]
     },
     "execution_count": 66,
     "metadata": {},
     "output_type": "execute_result"
    },
    {
     "data": {
      "application/javascript": "\n            setTimeout(function() {\n                var nbb_cell_id = 66;\n                var nbb_unformatted_code = \"# Calculating different metrics on train set\\nxgboost_random_train = model_performance_classification_sklearn(\\n    xgb_tuned2, X_train, y_train\\n)\\nprint(\\\"Training performance:\\\")\\nxgboost_random_train\";\n                var nbb_formatted_code = \"# Calculating different metrics on train set\\nxgboost_random_train = model_performance_classification_sklearn(\\n    xgb_tuned2, X_train, y_train\\n)\\nprint(\\\"Training performance:\\\")\\nxgboost_random_train\";\n                var nbb_cells = Jupyter.notebook.get_cells();\n                for (var i = 0; i < nbb_cells.length; ++i) {\n                    if (nbb_cells[i].input_prompt_number == nbb_cell_id) {\n                        if (nbb_cells[i].get_text() == nbb_unformatted_code) {\n                             nbb_cells[i].set_text(nbb_formatted_code);\n                        }\n                        break;\n                    }\n                }\n            }, 500);\n            ",
      "text/plain": [
       "<IPython.core.display.Javascript object>"
      ]
     },
     "metadata": {},
     "output_type": "display_data"
    }
   ],
   "source": [
    "# Calculating different metrics on train set\n",
    "xgboost_random_train = model_performance_classification_sklearn(\n",
    "    xgb_tuned2, X_train, y_train\n",
    ")\n",
    "print(\"Training performance:\")\n",
    "xgboost_random_train"
   ]
  },
  {
   "cell_type": "code",
   "execution_count": 67,
   "metadata": {},
   "outputs": [
    {
     "name": "stdout",
     "output_type": "stream",
     "text": [
      "Validation performance:\n"
     ]
    },
    {
     "data": {
      "text/html": [
       "<div>\n",
       "<style scoped>\n",
       "    .dataframe tbody tr th:only-of-type {\n",
       "        vertical-align: middle;\n",
       "    }\n",
       "\n",
       "    .dataframe tbody tr th {\n",
       "        vertical-align: top;\n",
       "    }\n",
       "\n",
       "    .dataframe thead th {\n",
       "        text-align: right;\n",
       "    }\n",
       "</style>\n",
       "<table border=\"1\" class=\"dataframe\">\n",
       "  <thead>\n",
       "    <tr style=\"text-align: right;\">\n",
       "      <th></th>\n",
       "      <th>Accuracy</th>\n",
       "      <th>Recall</th>\n",
       "      <th>Precision</th>\n",
       "      <th>F1</th>\n",
       "    </tr>\n",
       "  </thead>\n",
       "  <tbody>\n",
       "    <tr>\n",
       "      <th>0</th>\n",
       "      <td>0.287</td>\n",
       "      <td>1.000</td>\n",
       "      <td>0.230</td>\n",
       "      <td>0.374</td>\n",
       "    </tr>\n",
       "  </tbody>\n",
       "</table>\n",
       "</div>"
      ],
      "text/plain": [
       "   Accuracy  Recall  Precision    F1\n",
       "0     0.287   1.000      0.230 0.374"
      ]
     },
     "execution_count": 67,
     "metadata": {},
     "output_type": "execute_result"
    },
    {
     "data": {
      "application/javascript": "\n            setTimeout(function() {\n                var nbb_cell_id = 67;\n                var nbb_unformatted_code = \"# Calculating different metrics on validation set\\nxgboost_random_val = model_performance_classification_sklearn(xgb_tuned2, X_val, y_val)\\nprint(\\\"Validation performance:\\\")\\nxgboost_random_val\";\n                var nbb_formatted_code = \"# Calculating different metrics on validation set\\nxgboost_random_val = model_performance_classification_sklearn(xgb_tuned2, X_val, y_val)\\nprint(\\\"Validation performance:\\\")\\nxgboost_random_val\";\n                var nbb_cells = Jupyter.notebook.get_cells();\n                for (var i = 0; i < nbb_cells.length; ++i) {\n                    if (nbb_cells[i].input_prompt_number == nbb_cell_id) {\n                        if (nbb_cells[i].get_text() == nbb_unformatted_code) {\n                             nbb_cells[i].set_text(nbb_formatted_code);\n                        }\n                        break;\n                    }\n                }\n            }, 500);\n            ",
      "text/plain": [
       "<IPython.core.display.Javascript object>"
      ]
     },
     "metadata": {},
     "output_type": "display_data"
    }
   ],
   "source": [
    "# Calculating different metrics on validation set\n",
    "xgboost_random_val = model_performance_classification_sklearn(xgb_tuned2, X_val, y_val)\n",
    "print(\"Validation performance:\")\n",
    "xgboost_random_val"
   ]
  },
  {
   "cell_type": "code",
   "execution_count": 68,
   "metadata": {},
   "outputs": [
    {
     "data": {
      "image/png": "[encoded data removed]",
      "text/plain": [
       "<Figure size 432x288 with 2 Axes>"
      ]
     },
     "metadata": {
      "needs_background": "light"
     },
     "output_type": "display_data"
    },
    {
     "data": {
      "application/javascript": "\n            setTimeout(function() {\n                var nbb_cell_id = 68;\n                var nbb_unformatted_code = \"# creating confusion matrix\\nconfusion_matrix_sklearn(xgb_tuned2, X_val, y_val)\";\n                var nbb_formatted_code = \"# creating confusion matrix\\nconfusion_matrix_sklearn(xgb_tuned2, X_val, y_val)\";\n                var nbb_cells = Jupyter.notebook.get_cells();\n                for (var i = 0; i < nbb_cells.length; ++i) {\n                    if (nbb_cells[i].input_prompt_number == nbb_cell_id) {\n                        if (nbb_cells[i].get_text() == nbb_unformatted_code) {\n                             nbb_cells[i].set_text(nbb_formatted_code);\n                        }\n                        break;\n                    }\n                }\n            }, 500);\n            ",
      "text/plain": [
       "<IPython.core.display.Javascript object>"
      ]
     },
     "metadata": {},
     "output_type": "display_data"
    }
   ],
   "source": [
    "# creating confusion matrix\n",
    "confusion_matrix_sklearn(xgb_tuned2, X_val, y_val)"
   ]
  },
  {
   "cell_type": "code",
   "execution_count": 69,
   "metadata": {},
   "outputs": [
    {
     "name": "stdout",
     "output_type": "stream",
     "text": [
      "Training performance comparison:\n"
     ]
    },
    {
     "data": {
      "text/html": [
       "<div>\n",
       "<style scoped>\n",
       "    .dataframe tbody tr th:only-of-type {\n",
       "        vertical-align: middle;\n",
       "    }\n",
       "\n",
       "    .dataframe tbody tr th {\n",
       "        vertical-align: top;\n",
       "    }\n",
       "\n",
       "    .dataframe thead th {\n",
       "        text-align: right;\n",
       "    }\n",
       "</style>\n",
       "<table border=\"1\" class=\"dataframe\">\n",
       "  <thead>\n",
       "    <tr style=\"text-align: right;\">\n",
       "      <th></th>\n",
       "      <th>Decision Tree Tuned with Grid search</th>\n",
       "      <th>Decision Tree Tuned with Random search</th>\n",
       "      <th>Xgboost Tuned with Grid search</th>\n",
       "      <th>Xgboost Tuned with Random Search</th>\n",
       "    </tr>\n",
       "  </thead>\n",
       "  <tbody>\n",
       "    <tr>\n",
       "      <th>Accuracy</th>\n",
       "      <td>0.801</td>\n",
       "      <td>0.801</td>\n",
       "      <td>0.296</td>\n",
       "      <td>0.296</td>\n",
       "    </tr>\n",
       "    <tr>\n",
       "      <th>Recall</th>\n",
       "      <td>0.175</td>\n",
       "      <td>0.175</td>\n",
       "      <td>1.000</td>\n",
       "      <td>1.000</td>\n",
       "    </tr>\n",
       "    <tr>\n",
       "      <th>Precision</th>\n",
       "      <td>0.625</td>\n",
       "      <td>0.625</td>\n",
       "      <td>0.233</td>\n",
       "      <td>0.233</td>\n",
       "    </tr>\n",
       "    <tr>\n",
       "      <th>F1</th>\n",
       "      <td>0.274</td>\n",
       "      <td>0.274</td>\n",
       "      <td>0.378</td>\n",
       "      <td>0.378</td>\n",
       "    </tr>\n",
       "  </tbody>\n",
       "</table>\n",
       "</div>"
      ],
      "text/plain": [
       "           Decision Tree Tuned with Grid search  \\\n",
       "Accuracy                                  0.801   \n",
       "Recall                                    0.175   \n",
       "Precision                                 0.625   \n",
       "F1                                        0.274   \n",
       "\n",
       "           Decision Tree Tuned with Random search  \\\n",
       "Accuracy                                    0.801   \n",
       "Recall                                      0.175   \n",
       "Precision                                   0.625   \n",
       "F1                                          0.274   \n",
       "\n",
       "           Xgboost Tuned with Grid search  Xgboost Tuned with Random Search  \n",
       "Accuracy                            0.296                             0.296  \n",
       "Recall                              1.000                             1.000  \n",
       "Precision                           0.233                             0.233  \n",
       "F1                                  0.378                             0.378  "
      ]
     },
     "execution_count": 69,
     "metadata": {},
     "output_type": "execute_result"
    },
    {
     "data": {
      "application/javascript": "\n            setTimeout(function() {\n                var nbb_cell_id = 69;\n                var nbb_unformatted_code = \"# training performance comparison\\n\\nmodels_train_comp_df = pd.concat(\\n    [\\n        dtree_grid_train.T,\\n        dtree_random_train.T,\\n        xgboost_grid_train.T,\\n        xgboost_random_train.T,\\n    ],\\n    axis=1,\\n)\\nmodels_train_comp_df.columns = [\\n    \\\"Decision Tree Tuned with Grid search\\\",\\n    \\\"Decision Tree Tuned with Random search\\\",\\n    \\\"Xgboost Tuned with Grid search\\\",\\n    \\\"Xgboost Tuned with Random Search\\\",\\n]\\nprint(\\\"Training performance comparison:\\\")\\nmodels_train_comp_df\";\n                var nbb_formatted_code = \"# training performance comparison\\n\\nmodels_train_comp_df = pd.concat(\\n    [\\n        dtree_grid_train.T,\\n        dtree_random_train.T,\\n        xgboost_grid_train.T,\\n        xgboost_random_train.T,\\n    ],\\n    axis=1,\\n)\\nmodels_train_comp_df.columns = [\\n    \\\"Decision Tree Tuned with Grid search\\\",\\n    \\\"Decision Tree Tuned with Random search\\\",\\n    \\\"Xgboost Tuned with Grid search\\\",\\n    \\\"Xgboost Tuned with Random Search\\\",\\n]\\nprint(\\\"Training performance comparison:\\\")\\nmodels_train_comp_df\";\n                var nbb_cells = Jupyter.notebook.get_cells();\n                for (var i = 0; i < nbb_cells.length; ++i) {\n                    if (nbb_cells[i].input_prompt_number == nbb_cell_id) {\n                        if (nbb_cells[i].get_text() == nbb_unformatted_code) {\n                             nbb_cells[i].set_text(nbb_formatted_code);\n                        }\n                        break;\n                    }\n                }\n            }, 500);\n            ",
      "text/plain": [
       "<IPython.core.display.Javascript object>"
      ]
     },
     "metadata": {},
     "output_type": "display_data"
    }
   ],
   "source": [
    "# training performance comparison\n",
    "\n",
    "models_train_comp_df = pd.concat(\n",
    "    [\n",
    "        dtree_grid_train.T,\n",
    "        dtree_random_train.T,\n",
    "        xgboost_grid_train.T,\n",
    "        xgboost_random_train.T,\n",
    "    ],\n",
    "    axis=1,\n",
    ")\n",
    "models_train_comp_df.columns = [\n",
    "    \"Decision Tree Tuned with Grid search\",\n",
    "    \"Decision Tree Tuned with Random search\",\n",
    "    \"Xgboost Tuned with Grid search\",\n",
    "    \"Xgboost Tuned with Random Search\",\n",
    "]\n",
    "print(\"Training performance comparison:\")\n",
    "models_train_comp_df"
   ]
  },
  {
   "cell_type": "code",
   "execution_count": 70,
   "metadata": {},
   "outputs": [
    {
     "name": "stdout",
     "output_type": "stream",
     "text": [
      "Validation performance comparison:\n"
     ]
    },
    {
     "data": {
      "text/html": [
       "<div>\n",
       "<style scoped>\n",
       "    .dataframe tbody tr th:only-of-type {\n",
       "        vertical-align: middle;\n",
       "    }\n",
       "\n",
       "    .dataframe tbody tr th {\n",
       "        vertical-align: top;\n",
       "    }\n",
       "\n",
       "    .dataframe thead th {\n",
       "        text-align: right;\n",
       "    }\n",
       "</style>\n",
       "<table border=\"1\" class=\"dataframe\">\n",
       "  <thead>\n",
       "    <tr style=\"text-align: right;\">\n",
       "      <th></th>\n",
       "      <th>Decision Tree Tuned with Grid search</th>\n",
       "      <th>Decision Tree Tuned with Random search</th>\n",
       "      <th>Xgboost Tuned with Grid search</th>\n",
       "      <th>Xgboost Tuned with Random Search</th>\n",
       "    </tr>\n",
       "  </thead>\n",
       "  <tbody>\n",
       "    <tr>\n",
       "      <th>Accuracy</th>\n",
       "      <td>0.736</td>\n",
       "      <td>0.736</td>\n",
       "      <td>0.287</td>\n",
       "      <td>0.287</td>\n",
       "    </tr>\n",
       "    <tr>\n",
       "      <th>Recall</th>\n",
       "      <td>0.105</td>\n",
       "      <td>0.105</td>\n",
       "      <td>1.000</td>\n",
       "      <td>1.000</td>\n",
       "    </tr>\n",
       "    <tr>\n",
       "      <th>Precision</th>\n",
       "      <td>0.235</td>\n",
       "      <td>0.235</td>\n",
       "      <td>0.230</td>\n",
       "      <td>0.230</td>\n",
       "    </tr>\n",
       "    <tr>\n",
       "      <th>F1</th>\n",
       "      <td>0.145</td>\n",
       "      <td>0.145</td>\n",
       "      <td>0.374</td>\n",
       "      <td>0.374</td>\n",
       "    </tr>\n",
       "  </tbody>\n",
       "</table>\n",
       "</div>"
      ],
      "text/plain": [
       "           Decision Tree Tuned with Grid search  \\\n",
       "Accuracy                                  0.736   \n",
       "Recall                                    0.105   \n",
       "Precision                                 0.235   \n",
       "F1                                        0.145   \n",
       "\n",
       "           Decision Tree Tuned with Random search  \\\n",
       "Accuracy                                    0.736   \n",
       "Recall                                      0.105   \n",
       "Precision                                   0.235   \n",
       "F1                                          0.145   \n",
       "\n",
       "           Xgboost Tuned with Grid search  Xgboost Tuned with Random Search  \n",
       "Accuracy                            0.287                             0.287  \n",
       "Recall                              1.000                             1.000  \n",
       "Precision                           0.230                             0.230  \n",
       "F1                                  0.374                             0.374  "
      ]
     },
     "execution_count": 70,
     "metadata": {},
     "output_type": "execute_result"
    },
    {
     "data": {
      "application/javascript": "\n            setTimeout(function() {\n                var nbb_cell_id = 70;\n                var nbb_unformatted_code = \"# Validation performance comparison\\n\\nmodels_val_comp_df = pd.concat(\\n    [\\n        dtree_grid_val.T,\\n        dtree_random_val.T,\\n        xgboost_grid_val.T,\\n        xgboost_random_val.T,\\n    ],\\n    axis=1,\\n)\\nmodels_val_comp_df.columns = [\\n    \\\"Decision Tree Tuned with Grid search\\\",\\n    \\\"Decision Tree Tuned with Random search\\\",\\n    \\\"Xgboost Tuned with Grid search\\\",\\n    \\\"Xgboost Tuned with Random Search\\\",\\n]\\nprint(\\\"Validation performance comparison:\\\")\\nmodels_val_comp_df\";\n                var nbb_formatted_code = \"# Validation performance comparison\\n\\nmodels_val_comp_df = pd.concat(\\n    [dtree_grid_val.T, dtree_random_val.T, xgboost_grid_val.T, xgboost_random_val.T,],\\n    axis=1,\\n)\\nmodels_val_comp_df.columns = [\\n    \\\"Decision Tree Tuned with Grid search\\\",\\n    \\\"Decision Tree Tuned with Random search\\\",\\n    \\\"Xgboost Tuned with Grid search\\\",\\n    \\\"Xgboost Tuned with Random Search\\\",\\n]\\nprint(\\\"Validation performance comparison:\\\")\\nmodels_val_comp_df\";\n                var nbb_cells = Jupyter.notebook.get_cells();\n                for (var i = 0; i < nbb_cells.length; ++i) {\n                    if (nbb_cells[i].input_prompt_number == nbb_cell_id) {\n                        if (nbb_cells[i].get_text() == nbb_unformatted_code) {\n                             nbb_cells[i].set_text(nbb_formatted_code);\n                        }\n                        break;\n                    }\n                }\n            }, 500);\n            ",
      "text/plain": [
       "<IPython.core.display.Javascript object>"
      ]
     },
     "metadata": {},
     "output_type": "display_data"
    }
   ],
   "source": [
    "# Validation performance comparison\n",
    "\n",
    "models_val_comp_df = pd.concat(\n",
    "    [\n",
    "        dtree_grid_val.T,\n",
    "        dtree_random_val.T,\n",
    "        xgboost_grid_val.T,\n",
    "        xgboost_random_val.T,\n",
    "    ],\n",
    "    axis=1,\n",
    ")\n",
    "models_val_comp_df.columns = [\n",
    "    \"Decision Tree Tuned with Grid search\",\n",
    "    \"Decision Tree Tuned with Random search\",\n",
    "    \"Xgboost Tuned with Grid search\",\n",
    "    \"Xgboost Tuned with Random Search\",\n",
    "]\n",
    "print(\"Validation performance comparison:\")\n",
    "models_val_comp_df"
   ]
  },
  {
   "cell_type": "code",
   "execution_count": 71,
   "metadata": {},
   "outputs": [
    {
     "data": {
      "image/png": "[encoded data removed]",
      "text/plain": [
       "<Figure size 864x864 with 1 Axes>"
      ]
     },
     "metadata": {
      "needs_background": "light"
     },
     "output_type": "display_data"
    },
    {
     "data": {
      "application/javascript": "\n            setTimeout(function() {\n                var nbb_cell_id = 71;\n                var nbb_unformatted_code = \"feature_names = X_train.columns\\nimportances = xgb_tuned1.feature_importances_\\nindices = np.argsort(importances)\\n\\nplt.figure(figsize=(12, 12))\\nplt.title(\\\"Feature Importances\\\")\\nplt.barh(range(len(indices)), importances[indices], color=\\\"violet\\\", align=\\\"center\\\")\\nplt.yticks(range(len(indices)), [feature_names[i] for i in indices])\\nplt.xlabel(\\\"Relative Importance\\\")\\nplt.show()\";\n                var nbb_formatted_code = \"feature_names = X_train.columns\\nimportances = xgb_tuned1.feature_importances_\\nindices = np.argsort(importances)\\n\\nplt.figure(figsize=(12, 12))\\nplt.title(\\\"Feature Importances\\\")\\nplt.barh(range(len(indices)), importances[indices], color=\\\"violet\\\", align=\\\"center\\\")\\nplt.yticks(range(len(indices)), [feature_names[i] for i in indices])\\nplt.xlabel(\\\"Relative Importance\\\")\\nplt.show()\";\n                var nbb_cells = Jupyter.notebook.get_cells();\n                for (var i = 0; i < nbb_cells.length; ++i) {\n                    if (nbb_cells[i].input_prompt_number == nbb_cell_id) {\n                        if (nbb_cells[i].get_text() == nbb_unformatted_code) {\n                             nbb_cells[i].set_text(nbb_formatted_code);\n                        }\n                        break;\n                    }\n                }\n            }, 500);\n            ",
      "text/plain": [
       "<IPython.core.display.Javascript object>"
      ]
     },
     "metadata": {},
     "output_type": "display_data"
    }
   ],
   "source": [
    "feature_names = X_train.columns\n",
    "importances = xgb_tuned1.feature_importances_\n",
    "indices = np.argsort(importances)\n",
    "\n",
    "plt.figure(figsize=(12, 12))\n",
    "plt.title(\"Feature Importances\")\n",
    "plt.barh(range(len(indices)), importances[indices], color=\"violet\", align=\"center\")\n",
    "plt.yticks(range(len(indices)), [feature_names[i] for i in indices])\n",
    "plt.xlabel(\"Relative Importance\")\n",
    "plt.show()"
   ]
  },
  {
   "cell_type": "code",
   "execution_count": null,
   "metadata": {},
   "outputs": [],
   "source": []
  },
  {
   "cell_type": "code",
   "execution_count": null,
   "metadata": {},
   "outputs": [],
   "source": []
  },
  {
   "cell_type": "code",
   "execution_count": null,
   "metadata": {},
   "outputs": [],
   "source": []
  },
  {
   "cell_type": "code",
   "execution_count": null,
   "metadata": {},
   "outputs": [],
   "source": []
  },
  {
   "cell_type": "code",
   "execution_count": null,
   "metadata": {},
   "outputs": [],
   "source": []
  },
  {
   "cell_type": "code",
   "execution_count": null,
   "metadata": {},
   "outputs": [],
   "source": []
  }
 ],
 "metadata": {
  "kernelspec": {
   "display_name": "Python 3.8.8 ('base')",
   "language": "python",
   "name": "python3"
  },
  "language_info": {
   "codemirror_mode": {
    "name": "ipython",
    "version": 3
   },
   "file_extension": ".py",
   "mimetype": "text/x-python",
   "name": "python",
   "nbconvert_exporter": "python",
   "pygments_lexer": "ipython3",
   "version": "3.8.8"
  },
  "orig_nbformat": 4,
  "vscode": {
   "interpreter": {
    "hash": "f3f87633aac09da3bda522f97956bee375b5501d1579e6458804e567301cb62a"
   }
  }
 },
 "nbformat": 4,
 "nbformat_minor": 2
}
