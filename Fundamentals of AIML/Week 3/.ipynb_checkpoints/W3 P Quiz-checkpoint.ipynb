{
 "cells": [
  {
   "cell_type": "code",
   "execution_count": 1,
   "id": "e03d3239",
   "metadata": {},
   "outputs": [],
   "source": [
    "# Libraries and what not\n",
    "\n",
    "# data libraries\n",
    "import numpy as np\n",
    "import pandas as pd\n",
    "\n",
    "# data viz libraries\n",
    "import matplotlib.pyplot as plt\n",
    "import seaborn as sns\n",
    "\n",
    "#command to tell python to display graphs\n",
    "%matplotlib inline\n",
    "\n",
    "# to restrict the float value to 3 decimal places\n",
    "pd.set_option('display.float_format', lambda x: '%.3f' % x)"
   ]
  },
  {
   "cell_type": "code",
   "execution_count": 2,
   "id": "f665bf42",
   "metadata": {},
   "outputs": [],
   "source": [
    "df = pd.read_csv('Placement_Data.csv')"
   ]
  },
  {
   "cell_type": "code",
   "execution_count": 4,
   "id": "0a0ca41b",
   "metadata": {},
   "outputs": [
    {
     "data": {
      "text/html": [
       "<div>\n",
       "<style scoped>\n",
       "    .dataframe tbody tr th:only-of-type {\n",
       "        vertical-align: middle;\n",
       "    }\n",
       "\n",
       "    .dataframe tbody tr th {\n",
       "        vertical-align: top;\n",
       "    }\n",
       "\n",
       "    .dataframe thead th {\n",
       "        text-align: right;\n",
       "    }\n",
       "</style>\n",
       "<table border=\"1\" class=\"dataframe\">\n",
       "  <thead>\n",
       "    <tr style=\"text-align: right;\">\n",
       "      <th></th>\n",
       "      <th>gender</th>\n",
       "      <th>ssc_p</th>\n",
       "      <th>ssc_b</th>\n",
       "      <th>hsc_p</th>\n",
       "      <th>hsc_b</th>\n",
       "      <th>hsc_s</th>\n",
       "      <th>degree_p</th>\n",
       "      <th>degree_t</th>\n",
       "      <th>workex</th>\n",
       "      <th>etest_p</th>\n",
       "      <th>specialisation</th>\n",
       "      <th>mba_p</th>\n",
       "      <th>status</th>\n",
       "    </tr>\n",
       "  </thead>\n",
       "  <tbody>\n",
       "    <tr>\n",
       "      <th>0</th>\n",
       "      <td>M</td>\n",
       "      <td>67.000</td>\n",
       "      <td>Others</td>\n",
       "      <td>91.000</td>\n",
       "      <td>Others</td>\n",
       "      <td>Commerce</td>\n",
       "      <td>58.000</td>\n",
       "      <td>Sci&amp;Tech</td>\n",
       "      <td>No</td>\n",
       "      <td>55.000</td>\n",
       "      <td>Mkt&amp;HR</td>\n",
       "      <td>58.800</td>\n",
       "      <td>Placed</td>\n",
       "    </tr>\n",
       "    <tr>\n",
       "      <th>1</th>\n",
       "      <td>M</td>\n",
       "      <td>79.330</td>\n",
       "      <td>Central</td>\n",
       "      <td>78.330</td>\n",
       "      <td>Others</td>\n",
       "      <td>Science</td>\n",
       "      <td>77.480</td>\n",
       "      <td>Sci&amp;Tech</td>\n",
       "      <td>Yes</td>\n",
       "      <td>86.500</td>\n",
       "      <td>Mkt&amp;Fin</td>\n",
       "      <td>66.280</td>\n",
       "      <td>Placed</td>\n",
       "    </tr>\n",
       "    <tr>\n",
       "      <th>2</th>\n",
       "      <td>M</td>\n",
       "      <td>65.000</td>\n",
       "      <td>Central</td>\n",
       "      <td>68.000</td>\n",
       "      <td>Central</td>\n",
       "      <td>Arts</td>\n",
       "      <td>64.000</td>\n",
       "      <td>Comm&amp;Mgmt</td>\n",
       "      <td>No</td>\n",
       "      <td>75.000</td>\n",
       "      <td>Mkt&amp;Fin</td>\n",
       "      <td>57.800</td>\n",
       "      <td>Placed</td>\n",
       "    </tr>\n",
       "    <tr>\n",
       "      <th>3</th>\n",
       "      <td>M</td>\n",
       "      <td>56.000</td>\n",
       "      <td>Central</td>\n",
       "      <td>52.000</td>\n",
       "      <td>Central</td>\n",
       "      <td>Science</td>\n",
       "      <td>52.000</td>\n",
       "      <td>Sci&amp;Tech</td>\n",
       "      <td>No</td>\n",
       "      <td>66.000</td>\n",
       "      <td>Mkt&amp;HR</td>\n",
       "      <td>59.430</td>\n",
       "      <td>Not Placed</td>\n",
       "    </tr>\n",
       "    <tr>\n",
       "      <th>4</th>\n",
       "      <td>M</td>\n",
       "      <td>85.800</td>\n",
       "      <td>Central</td>\n",
       "      <td>73.600</td>\n",
       "      <td>Central</td>\n",
       "      <td>Commerce</td>\n",
       "      <td>73.300</td>\n",
       "      <td>Comm&amp;Mgmt</td>\n",
       "      <td>No</td>\n",
       "      <td>96.800</td>\n",
       "      <td>Mkt&amp;Fin</td>\n",
       "      <td>55.500</td>\n",
       "      <td>Placed</td>\n",
       "    </tr>\n",
       "  </tbody>\n",
       "</table>\n",
       "</div>"
      ],
      "text/plain": [
       "  gender  ssc_p    ssc_b  hsc_p    hsc_b     hsc_s  degree_p   degree_t  \\\n",
       "0      M 67.000   Others 91.000   Others  Commerce    58.000   Sci&Tech   \n",
       "1      M 79.330  Central 78.330   Others   Science    77.480   Sci&Tech   \n",
       "2      M 65.000  Central 68.000  Central      Arts    64.000  Comm&Mgmt   \n",
       "3      M 56.000  Central 52.000  Central   Science    52.000   Sci&Tech   \n",
       "4      M 85.800  Central 73.600  Central  Commerce    73.300  Comm&Mgmt   \n",
       "\n",
       "  workex  etest_p specialisation  mba_p      status  \n",
       "0     No   55.000         Mkt&HR 58.800      Placed  \n",
       "1    Yes   86.500        Mkt&Fin 66.280      Placed  \n",
       "2     No   75.000        Mkt&Fin 57.800      Placed  \n",
       "3     No   66.000         Mkt&HR 59.430  Not Placed  \n",
       "4     No   96.800        Mkt&Fin 55.500      Placed  "
      ]
     },
     "execution_count": 4,
     "metadata": {},
     "output_type": "execute_result"
    }
   ],
   "source": [
    "df.head()"
   ]
  },
  {
   "cell_type": "code",
   "execution_count": 5,
   "id": "bc140303",
   "metadata": {},
   "outputs": [
    {
     "data": {
      "text/plain": [
       "(215, 13)"
      ]
     },
     "execution_count": 5,
     "metadata": {},
     "output_type": "execute_result"
    }
   ],
   "source": [
    "df.shape"
   ]
  },
  {
   "cell_type": "code",
   "execution_count": 6,
   "id": "268d7cc5",
   "metadata": {},
   "outputs": [
    {
     "name": "stdout",
     "output_type": "stream",
     "text": [
      "<class 'pandas.core.frame.DataFrame'>\n",
      "RangeIndex: 215 entries, 0 to 214\n",
      "Data columns (total 13 columns):\n",
      " #   Column          Non-Null Count  Dtype  \n",
      "---  ------          --------------  -----  \n",
      " 0   gender          215 non-null    object \n",
      " 1   ssc_p           215 non-null    float64\n",
      " 2   ssc_b           215 non-null    object \n",
      " 3   hsc_p           215 non-null    float64\n",
      " 4   hsc_b           215 non-null    object \n",
      " 5   hsc_s           215 non-null    object \n",
      " 6   degree_p        215 non-null    float64\n",
      " 7   degree_t        215 non-null    object \n",
      " 8   workex          215 non-null    object \n",
      " 9   etest_p         215 non-null    float64\n",
      " 10  specialisation  215 non-null    object \n",
      " 11  mba_p           215 non-null    float64\n",
      " 12  status          215 non-null    object \n",
      "dtypes: float64(5), object(8)\n",
      "memory usage: 22.0+ KB\n"
     ]
    }
   ],
   "source": [
    "df.info()"
   ]
  },
  {
   "cell_type": "code",
   "execution_count": 7,
   "id": "8c09fdb4",
   "metadata": {},
   "outputs": [
    {
     "data": {
      "text/html": [
       "<div>\n",
       "<style scoped>\n",
       "    .dataframe tbody tr th:only-of-type {\n",
       "        vertical-align: middle;\n",
       "    }\n",
       "\n",
       "    .dataframe tbody tr th {\n",
       "        vertical-align: top;\n",
       "    }\n",
       "\n",
       "    .dataframe thead th {\n",
       "        text-align: right;\n",
       "    }\n",
       "</style>\n",
       "<table border=\"1\" class=\"dataframe\">\n",
       "  <thead>\n",
       "    <tr style=\"text-align: right;\">\n",
       "      <th></th>\n",
       "      <th>count</th>\n",
       "      <th>mean</th>\n",
       "      <th>std</th>\n",
       "      <th>min</th>\n",
       "      <th>25%</th>\n",
       "      <th>50%</th>\n",
       "      <th>75%</th>\n",
       "      <th>max</th>\n",
       "    </tr>\n",
       "  </thead>\n",
       "  <tbody>\n",
       "    <tr>\n",
       "      <th>ssc_p</th>\n",
       "      <td>215.000</td>\n",
       "      <td>67.303</td>\n",
       "      <td>10.827</td>\n",
       "      <td>40.890</td>\n",
       "      <td>60.600</td>\n",
       "      <td>67.000</td>\n",
       "      <td>75.700</td>\n",
       "      <td>89.400</td>\n",
       "    </tr>\n",
       "    <tr>\n",
       "      <th>hsc_p</th>\n",
       "      <td>215.000</td>\n",
       "      <td>66.333</td>\n",
       "      <td>10.898</td>\n",
       "      <td>37.000</td>\n",
       "      <td>60.900</td>\n",
       "      <td>65.000</td>\n",
       "      <td>73.000</td>\n",
       "      <td>97.700</td>\n",
       "    </tr>\n",
       "    <tr>\n",
       "      <th>degree_p</th>\n",
       "      <td>215.000</td>\n",
       "      <td>66.370</td>\n",
       "      <td>7.359</td>\n",
       "      <td>50.000</td>\n",
       "      <td>61.000</td>\n",
       "      <td>66.000</td>\n",
       "      <td>72.000</td>\n",
       "      <td>91.000</td>\n",
       "    </tr>\n",
       "    <tr>\n",
       "      <th>etest_p</th>\n",
       "      <td>215.000</td>\n",
       "      <td>72.101</td>\n",
       "      <td>13.276</td>\n",
       "      <td>50.000</td>\n",
       "      <td>60.000</td>\n",
       "      <td>71.000</td>\n",
       "      <td>83.500</td>\n",
       "      <td>98.000</td>\n",
       "    </tr>\n",
       "    <tr>\n",
       "      <th>mba_p</th>\n",
       "      <td>215.000</td>\n",
       "      <td>62.278</td>\n",
       "      <td>5.833</td>\n",
       "      <td>51.210</td>\n",
       "      <td>57.945</td>\n",
       "      <td>62.000</td>\n",
       "      <td>66.255</td>\n",
       "      <td>77.890</td>\n",
       "    </tr>\n",
       "  </tbody>\n",
       "</table>\n",
       "</div>"
      ],
      "text/plain": [
       "           count   mean    std    min    25%    50%    75%    max\n",
       "ssc_p    215.000 67.303 10.827 40.890 60.600 67.000 75.700 89.400\n",
       "hsc_p    215.000 66.333 10.898 37.000 60.900 65.000 73.000 97.700\n",
       "degree_p 215.000 66.370  7.359 50.000 61.000 66.000 72.000 91.000\n",
       "etest_p  215.000 72.101 13.276 50.000 60.000 71.000 83.500 98.000\n",
       "mba_p    215.000 62.278  5.833 51.210 57.945 62.000 66.255 77.890"
      ]
     },
     "execution_count": 7,
     "metadata": {},
     "output_type": "execute_result"
    }
   ],
   "source": [
    "df.describe().T"
   ]
  },
  {
   "cell_type": "code",
   "execution_count": 10,
   "id": "feee8db2",
   "metadata": {},
   "outputs": [
    {
     "name": "stdout",
     "output_type": "stream",
     "text": [
      "M    139\n",
      "F     76\n",
      "Name: gender, dtype: int64\n",
      "--------------------------------------------------\n",
      "62.000    11\n",
      "63.000    10\n",
      "67.000     9\n",
      "73.000     9\n",
      "52.000     9\n",
      "          ..\n",
      "63.400     1\n",
      "63.300     1\n",
      "73.960     1\n",
      "77.670     1\n",
      "65.200     1\n",
      "Name: ssc_p, Length: 103, dtype: int64\n",
      "--------------------------------------------------\n",
      "Central    116\n",
      "Others      99\n",
      "Name: ssc_b, dtype: int64\n",
      "--------------------------------------------------\n",
      "63.000    14\n",
      "62.000    12\n",
      "67.000     9\n",
      "60.000     9\n",
      "70.000     8\n",
      "          ..\n",
      "71.500     1\n",
      "65.580     1\n",
      "97.700     1\n",
      "54.600     1\n",
      "60.500     1\n",
      "Name: hsc_p, Length: 97, dtype: int64\n",
      "--------------------------------------------------\n",
      "Others     131\n",
      "Central     84\n",
      "Name: hsc_b, dtype: int64\n",
      "--------------------------------------------------\n",
      "Commerce    113\n",
      "Science      91\n",
      "Arts         11\n",
      "Name: hsc_s, dtype: int64\n",
      "--------------------------------------------------\n",
      "65.000    20\n",
      "66.000    13\n",
      "72.000    12\n",
      "64.000    11\n",
      "73.000     9\n",
      "          ..\n",
      "71.720     1\n",
      "77.250     1\n",
      "66.400     1\n",
      "70.670     1\n",
      "73.300     1\n",
      "Name: degree_p, Length: 89, dtype: int64\n",
      "--------------------------------------------------\n",
      "Comm&Mgmt    145\n",
      "Sci&Tech      59\n",
      "Others        11\n",
      "Name: degree_t, dtype: int64\n",
      "--------------------------------------------------\n",
      "No     141\n",
      "Yes     74\n",
      "Name: workex, dtype: int64\n",
      "--------------------------------------------------\n",
      "60.000    14\n",
      "80.000     8\n",
      "67.000     7\n",
      "75.000     7\n",
      "89.000     6\n",
      "          ..\n",
      "57.600     1\n",
      "95.650     1\n",
      "64.250     1\n",
      "61.280     1\n",
      "87.550     1\n",
      "Name: etest_p, Length: 100, dtype: int64\n",
      "--------------------------------------------------\n",
      "Mkt&Fin    120\n",
      "Mkt&HR      95\n",
      "Name: specialisation, dtype: int64\n",
      "--------------------------------------------------\n",
      "56.700    3\n",
      "59.470    2\n",
      "66.940    2\n",
      "61.290    2\n",
      "64.150    2\n",
      "         ..\n",
      "76.260    1\n",
      "57.990    1\n",
      "61.870    1\n",
      "56.090    1\n",
      "60.640    1\n",
      "Name: mba_p, Length: 205, dtype: int64\n",
      "--------------------------------------------------\n",
      "Placed        148\n",
      "Not Placed     67\n",
      "Name: status, dtype: int64\n",
      "--------------------------------------------------\n"
     ]
    }
   ],
   "source": [
    "for column in df:\n",
    "    print(df[column].value_counts())\n",
    "    print('-'*50)"
   ]
  },
  {
   "cell_type": "code",
   "execution_count": 11,
   "id": "9798afb6",
   "metadata": {},
   "outputs": [
    {
     "name": "stdout",
     "output_type": "stream",
     "text": [
      "['M' 'F']\n",
      "--------------------------------------------------\n",
      "[67.   79.33 65.   56.   85.8  55.   46.   82.   73.   58.   69.6  47.\n",
      " 77.   62.   63.   60.   79.   69.8  77.4  76.5  52.58 71.   76.76 64.\n",
      " 61.   87.   69.   51.   81.   78.   74.   49.   76.   70.89 50.   75.2\n",
      " 54.4  40.89 80.   60.4  68.   52.6  84.2  86.5  54.   83.   80.92 69.7\n",
      " 75.   84.86 64.6  56.6  59.   66.5  84.   81.7  70.   83.84 59.6  66.\n",
      " 85.   52.   60.23 70.5  45.   61.08 69.5  73.96 68.2  60.8  72.   80.4\n",
      " 76.7  74.9  77.44 77.67 89.4  44.   75.4  53.   51.57 55.6  74.2  67.16\n",
      " 63.3  67.9  48.   59.96 63.4  73.24 77.8  56.28 88.   78.5  61.8  65.2\n",
      " 83.96 54.2  55.68 41.   83.33 43.   80.6 ]\n",
      "--------------------------------------------------\n",
      "['Others' 'Central']\n",
      "--------------------------------------------------\n",
      "[91.   78.33 68.   52.   73.6  49.8  49.2  64.   79.   70.   61.   68.4\n",
      " 55.   87.   47.   75.   66.2  67.   66.   65.   76.   60.8  60.   97.7\n",
      " 54.6  76.5  73.5  53.   81.   51.   78.   44.   58.   77.   63.16 39.\n",
      " 73.   71.98 62.   37.   73.2  61.12 45.83 66.6  71.4  65.58 73.4  64.2\n",
      " 74.   78.5  70.29 83.83 64.8  70.4  80.   90.9  63.   89.83 90.   57.\n",
      " 69.   62.5  82.   72.   50.   54.   72.8  40.   66.8  59.   71.   89.7\n",
      " 92.   56.   64.89 65.66 86.   58.66 60.5  74.66 69.4  49.   87.6  72.5\n",
      " 42.16 67.2  50.83 97.   71.5  60.33 62.83 65.5  77.6  70.2  61.4  61.33\n",
      " 42.  ]\n",
      "--------------------------------------------------\n",
      "['Others' 'Central']\n",
      "--------------------------------------------------\n",
      "['Commerce' 'Science' 'Arts']\n",
      "--------------------------------------------------\n",
      "[58.   77.48 64.   52.   73.3  67.25 79.   66.   72.   61.   60.   78.3\n",
      " 65.   59.   50.   69.   65.6  70.   85.   72.23 64.74 78.86 50.2  67.5\n",
      " 73.   66.4  81.   57.   80.   68.   68.4  56.2  53.   61.4  74.   72.11\n",
      " 66.89 67.4  75.   67.   72.7  62.   71.   78.   71.72 70.2  77.5  71.93\n",
      " 64.5  77.2  82.   50.8  54.   76.   63.   83.   66.6  64.6  69.6  69.3\n",
      " 64.33 75.5  77.72 77.   69.5  73.43 70.67 71.25 56.   55.   84.   59.9\n",
      " 60.9  57.5  77.25 63.35 61.26 64.27 64.2  62.8  64.21 59.79 54.38 69.2\n",
      " 64.8  56.3  91.   56.87 77.6 ]\n",
      "--------------------------------------------------\n",
      "['Sci&Tech' 'Comm&Mgmt' 'Others']\n",
      "--------------------------------------------------\n",
      "['No' 'Yes']\n",
      "--------------------------------------------------\n",
      "[55.   86.5  75.   66.   96.8  74.28 67.   91.34 54.   62.   60.   68.\n",
      " 76.   72.   50.48 50.   95.   55.53 92.   97.4  94.   73.35 77.   52.\n",
      " 64.   50.89 88.   68.44 71.   58.   53.7  93.   65.   63.   89.   78.\n",
      " 71.2  87.   80.   74.   57.6  61.6  59.   68.5  61.   89.69 68.92 68.71\n",
      " 79.   70.   95.5  86.   84.27 69.   86.04 82.   84.   78.74 53.88 95.46\n",
      " 93.91 56.39 57.5  85.   57.2  72.15 96.   97.   82.66 73.   55.67 80.4\n",
      " 55.5  81.2  90.   74.4  55.6  56.   83.   57.   64.25 98.   56.15 93.4\n",
      " 57.63 75.2  53.04 58.1  54.48 58.06 63.79 87.5  75.5  95.65 59.32 87.55\n",
      " 61.28 88.56 92.66 91.  ]\n",
      "--------------------------------------------------\n",
      "['Mkt&HR' 'Mkt&Fin']\n",
      "--------------------------------------------------\n",
      "[58.8  66.28 57.8  59.43 55.5  51.58 53.29 62.14 61.29 52.21 60.85 63.7\n",
      " 65.04 68.63 54.96 64.66 62.54 67.28 64.08 77.89 56.7  69.06 68.81 63.62\n",
      " 74.01 65.33 57.55 57.69 64.15 51.29 58.32 62.21 72.78 62.77 62.74 51.45\n",
      " 55.47 56.86 62.56 66.72 69.76 51.21 62.9  69.7  66.53 71.63 54.55 62.46\n",
      " 56.11 62.98 62.65 65.49 71.04 65.56 52.71 66.88 63.59 57.99 56.66 57.24\n",
      " 62.48 59.69 59.5  58.78 57.1  58.46 60.99 59.24 68.07 65.45 66.94 68.53\n",
      " 59.75 67.2  67.   64.27 57.65 59.42 67.99 62.35 70.2  60.44 66.69 62.\n",
      " 76.18 57.03 59.08 64.36 62.36 68.03 62.79 59.47 55.41 54.97 62.16 64.44\n",
      " 69.03 57.31 64.95 61.31 65.83 58.23 55.3  65.69 73.52 58.31 56.09 54.8\n",
      " 60.64 53.94 63.08 55.01 60.5  70.85 67.05 70.48 64.34 58.81 71.49 71.\n",
      " 61.26 73.33 68.2  58.4  76.26 68.55 60.78 53.49 60.98 67.13 65.63 61.58\n",
      " 60.41 71.77 54.43 56.94 61.9  60.39 58.52 63.23 55.14 62.28 58.54 61.3\n",
      " 58.87 65.25 53.2  65.99 52.72 55.03 61.87 60.59 72.29 62.72 66.06 66.46\n",
      " 65.52 74.56 52.38 75.71 58.79 65.48 69.28 66.04 52.64 59.32 66.23 60.69\n",
      " 57.9  70.81 72.14 56.6  60.02 59.81 61.82 57.29 71.43 62.93 64.86 56.13\n",
      " 62.5  61.01 57.34 56.63 64.74 58.95 54.48 69.71 71.96 55.8  52.81 58.44\n",
      " 60.11 58.3  67.69 56.81 53.39 71.55 62.92 56.49 74.49 53.62 69.72 60.23\n",
      " 60.22]\n",
      "--------------------------------------------------\n",
      "['Placed' 'Not Placed']\n",
      "--------------------------------------------------\n"
     ]
    }
   ],
   "source": [
    "for column in df:\n",
    "    print(df[column].unique())\n",
    "    print('-'*50)"
   ]
  },
  {
   "cell_type": "code",
   "execution_count": 13,
   "id": "91039e80",
   "metadata": {},
   "outputs": [
    {
     "data": {
      "text/plain": [
       "gender            0\n",
       "ssc_p             0\n",
       "ssc_b             0\n",
       "hsc_p             0\n",
       "hsc_b             0\n",
       "hsc_s             0\n",
       "degree_p          0\n",
       "degree_t          0\n",
       "workex            0\n",
       "etest_p           0\n",
       "specialisation    0\n",
       "mba_p             0\n",
       "status            0\n",
       "dtype: int64"
      ]
     },
     "execution_count": 13,
     "metadata": {},
     "output_type": "execute_result"
    }
   ],
   "source": [
    "df.isnull().sum()"
   ]
  },
  {
   "cell_type": "code",
   "execution_count": 14,
   "id": "714c31e5",
   "metadata": {},
   "outputs": [
    {
     "data": {
      "text/plain": [
       "0"
      ]
     },
     "execution_count": 14,
     "metadata": {},
     "output_type": "execute_result"
    }
   ],
   "source": [
    "df.duplicated().sum()"
   ]
  },
  {
   "cell_type": "code",
   "execution_count": 16,
   "id": "9d755e37",
   "metadata": {},
   "outputs": [
    {
     "data": {
      "text/plain": [
       "Placed        148\n",
       "Not Placed     67\n",
       "Name: status, dtype: int64"
      ]
     },
     "execution_count": 16,
     "metadata": {},
     "output_type": "execute_result"
    }
   ],
   "source": [
    "df['status'].value_counts()"
   ]
  },
  {
   "cell_type": "code",
   "execution_count": 17,
   "id": "c78c167e",
   "metadata": {},
   "outputs": [
    {
     "name": "stdout",
     "output_type": "stream",
     "text": [
      "<class 'pandas.core.frame.DataFrame'>\n",
      "RangeIndex: 215 entries, 0 to 214\n",
      "Data columns (total 13 columns):\n",
      " #   Column          Non-Null Count  Dtype  \n",
      "---  ------          --------------  -----  \n",
      " 0   gender          215 non-null    object \n",
      " 1   ssc_p           215 non-null    float64\n",
      " 2   ssc_b           215 non-null    object \n",
      " 3   hsc_p           215 non-null    float64\n",
      " 4   hsc_b           215 non-null    object \n",
      " 5   hsc_s           215 non-null    object \n",
      " 6   degree_p        215 non-null    float64\n",
      " 7   degree_t        215 non-null    object \n",
      " 8   workex          215 non-null    object \n",
      " 9   etest_p         215 non-null    float64\n",
      " 10  specialisation  215 non-null    object \n",
      " 11  mba_p           215 non-null    float64\n",
      " 12  status          215 non-null    object \n",
      "dtypes: float64(5), object(8)\n",
      "memory usage: 22.0+ KB\n"
     ]
    }
   ],
   "source": [
    "df.info()"
   ]
  },
  {
   "cell_type": "code",
   "execution_count": 18,
   "id": "cba84109",
   "metadata": {},
   "outputs": [
    {
     "data": {
      "text/html": [
       "<div>\n",
       "<style scoped>\n",
       "    .dataframe tbody tr th:only-of-type {\n",
       "        vertical-align: middle;\n",
       "    }\n",
       "\n",
       "    .dataframe tbody tr th {\n",
       "        vertical-align: top;\n",
       "    }\n",
       "\n",
       "    .dataframe thead th {\n",
       "        text-align: right;\n",
       "    }\n",
       "</style>\n",
       "<table border=\"1\" class=\"dataframe\">\n",
       "  <thead>\n",
       "    <tr style=\"text-align: right;\">\n",
       "      <th></th>\n",
       "      <th>count</th>\n",
       "      <th>mean</th>\n",
       "      <th>std</th>\n",
       "      <th>min</th>\n",
       "      <th>25%</th>\n",
       "      <th>50%</th>\n",
       "      <th>75%</th>\n",
       "      <th>max</th>\n",
       "    </tr>\n",
       "  </thead>\n",
       "  <tbody>\n",
       "    <tr>\n",
       "      <th>ssc_p</th>\n",
       "      <td>215.000</td>\n",
       "      <td>67.303</td>\n",
       "      <td>10.827</td>\n",
       "      <td>40.890</td>\n",
       "      <td>60.600</td>\n",
       "      <td>67.000</td>\n",
       "      <td>75.700</td>\n",
       "      <td>89.400</td>\n",
       "    </tr>\n",
       "    <tr>\n",
       "      <th>hsc_p</th>\n",
       "      <td>215.000</td>\n",
       "      <td>66.333</td>\n",
       "      <td>10.898</td>\n",
       "      <td>37.000</td>\n",
       "      <td>60.900</td>\n",
       "      <td>65.000</td>\n",
       "      <td>73.000</td>\n",
       "      <td>97.700</td>\n",
       "    </tr>\n",
       "    <tr>\n",
       "      <th>degree_p</th>\n",
       "      <td>215.000</td>\n",
       "      <td>66.370</td>\n",
       "      <td>7.359</td>\n",
       "      <td>50.000</td>\n",
       "      <td>61.000</td>\n",
       "      <td>66.000</td>\n",
       "      <td>72.000</td>\n",
       "      <td>91.000</td>\n",
       "    </tr>\n",
       "    <tr>\n",
       "      <th>etest_p</th>\n",
       "      <td>215.000</td>\n",
       "      <td>72.101</td>\n",
       "      <td>13.276</td>\n",
       "      <td>50.000</td>\n",
       "      <td>60.000</td>\n",
       "      <td>71.000</td>\n",
       "      <td>83.500</td>\n",
       "      <td>98.000</td>\n",
       "    </tr>\n",
       "    <tr>\n",
       "      <th>mba_p</th>\n",
       "      <td>215.000</td>\n",
       "      <td>62.278</td>\n",
       "      <td>5.833</td>\n",
       "      <td>51.210</td>\n",
       "      <td>57.945</td>\n",
       "      <td>62.000</td>\n",
       "      <td>66.255</td>\n",
       "      <td>77.890</td>\n",
       "    </tr>\n",
       "  </tbody>\n",
       "</table>\n",
       "</div>"
      ],
      "text/plain": [
       "           count   mean    std    min    25%    50%    75%    max\n",
       "ssc_p    215.000 67.303 10.827 40.890 60.600 67.000 75.700 89.400\n",
       "hsc_p    215.000 66.333 10.898 37.000 60.900 65.000 73.000 97.700\n",
       "degree_p 215.000 66.370  7.359 50.000 61.000 66.000 72.000 91.000\n",
       "etest_p  215.000 72.101 13.276 50.000 60.000 71.000 83.500 98.000\n",
       "mba_p    215.000 62.278  5.833 51.210 57.945 62.000 66.255 77.890"
      ]
     },
     "execution_count": 18,
     "metadata": {},
     "output_type": "execute_result"
    }
   ],
   "source": [
    "df.describe().T"
   ]
  },
  {
   "cell_type": "code",
   "execution_count": 20,
   "id": "6cb4727b",
   "metadata": {},
   "outputs": [
    {
     "data": {
      "image/png": "[encoded data removed]",
      "text/plain": [
       "<Figure size 432x288 with 1 Axes>"
      ]
     },
     "metadata": {
      "needs_background": "light"
     },
     "output_type": "display_data"
    }
   ],
   "source": [
    "sns.histplot(data=df,x='etest_p')\n",
    "plt.show()"
   ]
  },
  {
   "cell_type": "code",
   "execution_count": 21,
   "id": "b5fe94d2",
   "metadata": {},
   "outputs": [
    {
     "data": {
      "text/plain": [
       "<AxesSubplot:xlabel='hsc_s', ylabel='count'>"
      ]
     },
     "execution_count": 21,
     "metadata": {},
     "output_type": "execute_result"
    },
    {
     "data": {
      "image/png": "[encoded data removed]",
      "text/plain": [
       "<Figure size 432x288 with 1 Axes>"
      ]
     },
     "metadata": {
      "needs_background": "light"
     },
     "output_type": "display_data"
    }
   ],
   "source": [
    "sns.countplot(x = 'hsc_s', data = df, hue = 'status')"
   ]
  },
  {
   "cell_type": "code",
   "execution_count": null,
   "id": "de011588",
   "metadata": {},
   "outputs": [],
   "source": []
  }
 ],
 "metadata": {
  "kernelspec": {
   "display_name": "Python 3",
   "language": "python",
   "name": "python3"
  },
  "language_info": {
   "codemirror_mode": {
    "name": "ipython",
    "version": 3
   },
   "file_extension": ".py",
   "mimetype": "text/x-python",
   "name": "python",
   "nbconvert_exporter": "python",
   "pygments_lexer": "ipython3",
   "version": "3.8.8"
  }
 },
 "nbformat": 4,
 "nbformat_minor": 5
}
