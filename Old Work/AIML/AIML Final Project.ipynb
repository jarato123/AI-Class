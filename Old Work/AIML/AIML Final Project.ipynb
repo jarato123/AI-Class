{
 "cells": [
  {
   "cell_type": "code",
   "execution_count": 7,
   "id": "a11ddbb4",
   "metadata": {},
   "outputs": [
    {
     "name": "stdout",
     "output_type": "stream",
     "text": [
      "    Product  Age  Gender  Education MaritalStatus  Usage  Fitness  Income  \\\n",
      "0     TM195   18    Male         14        Single      3        4   29562   \n",
      "1     TM195   19    Male         15        Single      2        3   31836   \n",
      "2     TM195   19  Female         14     Partnered      4        3   30699   \n",
      "3     TM195   19    Male         12        Single      3        3   32973   \n",
      "4     TM195   20    Male         13     Partnered      4        2   35247   \n",
      "..      ...  ...     ...        ...           ...    ...      ...     ...   \n",
      "175   TM798   40    Male         21        Single      6        5   83416   \n",
      "176   TM798   42    Male         18        Single      5        4   89641   \n",
      "177   TM798   45    Male         16        Single      5        5   90886   \n",
      "178   TM798   47    Male         18     Partnered      4        5  104581   \n",
      "179   TM798   48    Male         18     Partnered      4        5   95508   \n",
      "\n",
      "     Miles  \n",
      "0      112  \n",
      "1       75  \n",
      "2       66  \n",
      "3       85  \n",
      "4       47  \n",
      "..     ...  \n",
      "175    200  \n",
      "176    200  \n",
      "177    160  \n",
      "178    120  \n",
      "179    180  \n",
      "\n",
      "[180 rows x 9 columns]\n"
     ]
    }
   ],
   "source": [
    "import seaborn\n",
    "import pandas as pd\n",
    "import numpy as np\n",
    "import os\n",
    "import csv\n",
    "\n",
    "os.chdir('/Users/bob/Documents/AI Class/Class Notebooks') # changes directory to mentioned path\n",
    "os.getcwd() #gets the current working directory\n",
    "os.listdir() #displays contents of current directory\n",
    "\n",
    "gfv = pd.read_csv('CardioGoodFitness.csv') #import csv, must be in the current directory or have path to the directory\n",
    "\n",
    "\n",
    "print(gfv) #display first and last 5 columns\n",
    "#gfv.head(20) #display(x) number of lines"
   ]
  },
  {
   "cell_type": "code",
   "execution_count": 8,
   "id": "7bd2502c",
   "metadata": {
    "scrolled": true
   },
   "outputs": [
    {
     "data": {
      "text/plain": [
       "Index(['Product', 'Age', 'Gender', 'Education', 'MaritalStatus', 'Usage',\n",
       "       'Fitness', 'Income', 'Miles'],\n",
       "      dtype='object')"
      ]
     },
     "execution_count": 8,
     "metadata": {},
     "output_type": "execute_result"
    }
   ],
   "source": [
    "gfv.columns #display the columns index"
   ]
  },
  {
   "cell_type": "code",
   "execution_count": 9,
   "id": "6baccae6",
   "metadata": {},
   "outputs": [
    {
     "data": {
      "text/plain": [
       "Product          TM195TM195TM195TM195TM195TM195TM195TM195TM195T...\n",
       "Age                                                           5182\n",
       "Gender           MaleMaleFemaleMaleMaleFemaleFemaleMaleMaleFema...\n",
       "Education                                                     2803\n",
       "MaritalStatus    SingleSinglePartneredSinglePartneredPartneredP...\n",
       "Usage                                                          622\n",
       "Fitness                                                        596\n",
       "Income                                                     9669524\n",
       "Miles                                                        18575\n",
       "dtype: object"
      ]
     },
     "execution_count": 9,
     "metadata": {},
     "output_type": "execute_result"
    }
   ],
   "source": [
    "gfv[[ 'Product', 'Age', 'Gender', 'Education', 'MaritalStatus', 'Usage',\n",
    "       'Fitness', 'Income', 'Miles']].sum()"
   ]
  },
  {
   "cell_type": "code",
   "execution_count": null,
   "id": "f68e7a0a",
   "metadata": {},
   "outputs": [],
   "source": []
  },
  {
   "cell_type": "code",
   "execution_count": null,
   "id": "eedf5f01",
   "metadata": {},
   "outputs": [],
   "source": []
  },
  {
   "cell_type": "code",
   "execution_count": 4,
   "id": "081210b7",
   "metadata": {},
   "outputs": [],
   "source": [
    "def numRows():  # function to count the number of rows in the csv\n",
    "    row_count = 0  #create variable for us to track the number of rows\n",
    "\n",
    "    for row in open('CardioGoodFitness.csv'):   #for loop that will check each line of the csv file to determine if there one or or not if so it will move on to the next line if not it will termine\n",
    "        row_count = row_count + 1   #for every line in the csv increment the variable by 1\n",
    "    \n",
    "    row_count -= 1   #subtract one for the first line being the index\n",
    "    return (row_count)   #return int with the total number of rows in the file "
   ]
  },
  {
   "cell_type": "code",
   "execution_count": 5,
   "id": "a8e888f4",
   "metadata": {
    "scrolled": true
   },
   "outputs": [
    {
     "name": "stdout",
     "output_type": "stream",
     "text": [
      "180\n"
     ]
    },
    {
     "data": {
      "text/plain": [
       "180"
      ]
     },
     "execution_count": 5,
     "metadata": {},
     "output_type": "execute_result"
    }
   ],
   "source": [
    "index = numRows()   #call the function to count the number of rows in the file \n",
    "# type(index)   #show the type of variable, for debug purposes \n",
    "print(index)    #print the number of lines, for debug purposes\n",
    "\n",
    "len(gfv)    #this is the right way to find the number of rows in a file"
   ]
  },
  {
   "cell_type": "code",
   "execution_count": 14,
   "id": "357fbd70",
   "metadata": {},
   "outputs": [],
   "source": [
    "def sumOfColumn(column): #playing with functions, this one is not as efficient as the way below but something to play with\n",
    "    column_sum = gfv[column].sum()\n",
    "    \n",
    "    return(column_sum)"
   ]
  },
  {
   "cell_type": "code",
   "execution_count": 15,
   "id": "6f71817c",
   "metadata": {},
   "outputs": [],
   "source": [
    "def sumAgePerProduct(product):\n",
    "\n",
    "    sum_product_age = gfv[gfv['Product'] == product].sum()['Age']   #count the total of all customers ages that have this product\n",
    "    print('The sum of customers, who this product, ages is:', sum_product_age)\n",
    "        \n",
    "    return(sum_product_age)\n"
   ]
  },
  {
   "cell_type": "code",
   "execution_count": 16,
   "id": "2257712c",
   "metadata": {},
   "outputs": [],
   "source": [
    "def sumOfCustomersPerProduct(product):\n",
    "    \n",
    "    num_customers = (gfv['Product'] == product).sum()  #count the total number of customers with this Product\n",
    "    print('The number of customers with this product is:', num_customers)  \n",
    "    \n",
    "    return(num_customers)"
   ]
  },
  {
   "cell_type": "code",
   "execution_count": 17,
   "id": "325edbb9",
   "metadata": {},
   "outputs": [
    {
     "name": "stdout",
     "output_type": "stream",
     "text": [
      "Input the Product Model you want know the average user age for: TM195\n",
      "The sum of customers, who this product, ages is: 2284\n",
      "The number of customers with this product is: 80\n",
      "The product you wanted to know the average customer age of was: TM195\n",
      "The average customer age was: 28.55\n"
     ]
    }
   ],
   "source": [
    "product = input(\"Input the Product Model you want know the average user age for: \")\n",
    "\n",
    "sum_age_by_product = sumAgePerProduct(product)   \n",
    "sum_customers_by_product = sumOfCustomersPerProduct(product)\n",
    "\n",
    "avereage_age = sum_age_by_product / sum_customers_by_product\n",
    "\n",
    "print('The product you wanted to know the average customer age of was:', product)\n",
    "print('The average customer age was:', avereage_age)"
   ]
  },
  {
   "cell_type": "code",
   "execution_count": 112,
   "id": "6e2c059a",
   "metadata": {},
   "outputs": [
    {
     "data": {
      "text/plain": [
       "180"
      ]
     },
     "execution_count": 112,
     "metadata": {},
     "output_type": "execute_result"
    }
   ],
   "source": [
    "len(gfv)    #this is the better way to get the length of lines avaiable in a fucking csv file"
   ]
  },
  {
   "cell_type": "code",
   "execution_count": null,
   "id": "0d7ad1da",
   "metadata": {},
   "outputs": [],
   "source": [
    "    productModel = 'TM798'\n",
    "    type(productModel)\n",
    "    print('The model of product is:', productModel)\n",
    "    \n",
    "    num_unique_values = len(pd.unique(gfv['Product']))    #count the number of Products\n",
    "    print('The number of unique models is:', num_unique_values)\n",
    "    \n",
    "    all_product_types = pd.unique(gfv['Product'])   #create a new variable showing all the unique product types\n",
    "    print(\"The unique types of products are:\", all_product_types)\n",
    "    \n",
    "    num_customers = (gfv['Product'] == productModel).sum()  #count the total number of customers with this Product\n",
    "    print('The number of customers with this model is:', num_customers)\n",
    "    \n",
    "    sum_productModel_age = gfv[gfv['Product'] == productModel].sum()['Age']   #count the total of all customers ages that have this product\n",
    "    print('The sum of customers ages is:', sum_productModel_age)\n",
    "    \n",
    "    aveAgePP = sum_productModel_age / num_customers   #produce the average age of customer with this Product\n",
    "    \n",
    "    print('The average age of customer for this model is:', aveAgePP)"
   ]
  },
  {
   "cell_type": "code",
   "execution_count": null,
   "id": "ec1fb9d0",
   "metadata": {},
   "outputs": [],
   "source": [
    "    condition = 3   #setting a condition variable to play with\n",
    "    \n",
    "    myFrame = pd.DataFrame({'column0':[1,1,1,2,2,3,3,3,3], 'column1':[1,2,3,4,5,6,7,8,9], 'column2':['x','y','z','z','y','a','b','c','a']})   #create a data frame \n",
    "    my_variable = myFrame[myFrame['column0'] == condition].sum()   #this will create the sum of the column selected\n",
    "    my_variable = (myFrame['column0'] == condition).sum()   #count the number of instances of 1 in column0\n",
    "\n",
    "    print(my_variable)\n",
    "    type(my_variable)\n",
    "    \n",
    "    my_second_variable = myFrame[myFrame['column0'] == condition].sum()['column1']   #sum of column1 if the conidtion for column0 is met\n",
    "    \n",
    "    print(my_second_variable)\n",
    "    type(my_second_variable)\n",
    "\n",
    "    my_third_variable = myFrame[myFrame['column0'] == 3].count()['column1']   #count cells for each column, dont fully understand this yet \n",
    "                                                                         \n",
    "    print(my_third_variable)\n",
    "    type(my_third_variable)\n"
   ]
  },
  {
   "cell_type": "code",
   "execution_count": 6,
   "id": "c242b75e",
   "metadata": {},
   "outputs": [
    {
     "data": {
      "text/html": [
       "<div>\n",
       "<style scoped>\n",
       "    .dataframe tbody tr th:only-of-type {\n",
       "        vertical-align: middle;\n",
       "    }\n",
       "\n",
       "    .dataframe tbody tr th {\n",
       "        vertical-align: top;\n",
       "    }\n",
       "\n",
       "    .dataframe thead th {\n",
       "        text-align: right;\n",
       "    }\n",
       "</style>\n",
       "<table border=\"1\" class=\"dataframe\">\n",
       "  <thead>\n",
       "    <tr style=\"text-align: right;\">\n",
       "      <th></th>\n",
       "      <th>Age</th>\n",
       "      <th>Education</th>\n",
       "      <th>Usage</th>\n",
       "      <th>Fitness</th>\n",
       "      <th>Income</th>\n",
       "      <th>Miles</th>\n",
       "    </tr>\n",
       "  </thead>\n",
       "  <tbody>\n",
       "    <tr>\n",
       "      <th>count</th>\n",
       "      <td>180.000000</td>\n",
       "      <td>180.000000</td>\n",
       "      <td>180.000000</td>\n",
       "      <td>180.000000</td>\n",
       "      <td>180.000000</td>\n",
       "      <td>180.000000</td>\n",
       "    </tr>\n",
       "    <tr>\n",
       "      <th>mean</th>\n",
       "      <td>28.788889</td>\n",
       "      <td>15.572222</td>\n",
       "      <td>3.455556</td>\n",
       "      <td>3.311111</td>\n",
       "      <td>53719.577778</td>\n",
       "      <td>103.194444</td>\n",
       "    </tr>\n",
       "    <tr>\n",
       "      <th>std</th>\n",
       "      <td>6.943498</td>\n",
       "      <td>1.617055</td>\n",
       "      <td>1.084797</td>\n",
       "      <td>0.958869</td>\n",
       "      <td>16506.684226</td>\n",
       "      <td>51.863605</td>\n",
       "    </tr>\n",
       "    <tr>\n",
       "      <th>min</th>\n",
       "      <td>18.000000</td>\n",
       "      <td>12.000000</td>\n",
       "      <td>2.000000</td>\n",
       "      <td>1.000000</td>\n",
       "      <td>29562.000000</td>\n",
       "      <td>21.000000</td>\n",
       "    </tr>\n",
       "    <tr>\n",
       "      <th>25%</th>\n",
       "      <td>24.000000</td>\n",
       "      <td>14.000000</td>\n",
       "      <td>3.000000</td>\n",
       "      <td>3.000000</td>\n",
       "      <td>44058.750000</td>\n",
       "      <td>66.000000</td>\n",
       "    </tr>\n",
       "    <tr>\n",
       "      <th>50%</th>\n",
       "      <td>26.000000</td>\n",
       "      <td>16.000000</td>\n",
       "      <td>3.000000</td>\n",
       "      <td>3.000000</td>\n",
       "      <td>50596.500000</td>\n",
       "      <td>94.000000</td>\n",
       "    </tr>\n",
       "    <tr>\n",
       "      <th>75%</th>\n",
       "      <td>33.000000</td>\n",
       "      <td>16.000000</td>\n",
       "      <td>4.000000</td>\n",
       "      <td>4.000000</td>\n",
       "      <td>58668.000000</td>\n",
       "      <td>114.750000</td>\n",
       "    </tr>\n",
       "    <tr>\n",
       "      <th>max</th>\n",
       "      <td>50.000000</td>\n",
       "      <td>21.000000</td>\n",
       "      <td>7.000000</td>\n",
       "      <td>5.000000</td>\n",
       "      <td>104581.000000</td>\n",
       "      <td>360.000000</td>\n",
       "    </tr>\n",
       "  </tbody>\n",
       "</table>\n",
       "</div>"
      ],
      "text/plain": [
       "              Age   Education       Usage     Fitness         Income  \\\n",
       "count  180.000000  180.000000  180.000000  180.000000     180.000000   \n",
       "mean    28.788889   15.572222    3.455556    3.311111   53719.577778   \n",
       "std      6.943498    1.617055    1.084797    0.958869   16506.684226   \n",
       "min     18.000000   12.000000    2.000000    1.000000   29562.000000   \n",
       "25%     24.000000   14.000000    3.000000    3.000000   44058.750000   \n",
       "50%     26.000000   16.000000    3.000000    3.000000   50596.500000   \n",
       "75%     33.000000   16.000000    4.000000    4.000000   58668.000000   \n",
       "max     50.000000   21.000000    7.000000    5.000000  104581.000000   \n",
       "\n",
       "            Miles  \n",
       "count  180.000000  \n",
       "mean   103.194444  \n",
       "std     51.863605  \n",
       "min     21.000000  \n",
       "25%     66.000000  \n",
       "50%     94.000000  \n",
       "75%    114.750000  \n",
       "max    360.000000  "
      ]
     },
     "execution_count": 6,
     "metadata": {},
     "output_type": "execute_result"
    }
   ],
   "source": [
    "gfv.describe()"
   ]
  },
  {
   "cell_type": "code",
   "execution_count": 32,
   "id": "6b38ea01",
   "metadata": {},
   "outputs": [
    {
     "name": "stdout",
     "output_type": "stream",
     "text": [
      "The Products produced are: \n",
      "\n",
      "['TM195' 'TM498' 'TM798']\n",
      "The questions you can ask about are below\n",
      "\n",
      "Your selection will consist of both a number and a letter ex: 0D\n",
      "This would show the mode of the product\n",
      "\n",
      "           Index Choice 1 Question Choice 2\n",
      "0        Product                 %        A\n",
      "1            Age           Average        B\n",
      "2         Gender            Medium        C\n",
      "3      Education              Mode        D\n",
      "4  MaritalStatus              High        E\n",
      "5          Usage               Low        F\n",
      "6        Fitness                          G\n",
      "7         Income                          H\n",
      "8          Miles                          I\n",
      "What would you like to know about your customers: 8e\n",
      "8E\n",
      "Invalid Selection, goodbye\n"
     ]
    }
   ],
   "source": [
    "print('The Products produced are: ', )\n",
    "print('')\n",
    "#create a new variable showing all the unique product types and print to screen\n",
    "\n",
    "all_product_types = pd.unique(gfv['Product'])\n",
    "print(all_product_types)\n",
    "\n",
    "#create a new data frame to display options to search for and associtate numbers\n",
    "\n",
    "print('The questions you can ask about are below')\n",
    "array_questions = pd.DataFrame(\n",
    "    {'Index':gfv.columns,\n",
    "     'Choice 1':['','','','','','','','',''],\n",
    "     'Question':['%','Average','Medium','Mode','High','Low','','',''], \n",
    "     'Choice 2' :['A','B','C','D','E','F','G','H','I']\n",
    "    })\n",
    "\n",
    "print('')\n",
    "#'A','B','C','D','E','F','G','H','I'\n",
    "#1,2,3,4,5,6,7,8,9\n",
    "\n",
    "print('Your selection will consist of both a number and a letter ex: 0D')\n",
    "print('This would show the mode of the product')\n",
    "print('')\n",
    "print(array_questions)\n",
    "information = input('What would you like to know about your customers: ', )\n",
    "\n",
    "print('')\n",
    "\n",
    "\n",
    "# Display Type of products \n",
    "# if by product model\n",
    "#   - Average Age, Mode, Medium, High & Low\n",
    "#   - % Male vs % Female\n",
    "#   - Average Education, Mode, Medium, High & Low\n",
    "#   - % Married vs % single\n",
    "#   - Average Usage, Mode, Medium, High & Low\n",
    "#    - Average Fitness, Mode, Medium, High & Low\n",
    "#    - Average Income, Mode, Medium, High & Low\n",
    "#    - Average Miies from store, Mode, Medium, High & Low\n",
    "#\n",
    "#\n",
    "# elif by total population\n",
    "#   - Average Age, Mode, Medium, High & Low\n",
    "#   - % Male vs % Female\n",
    "#   - Average Education, Mode, Medium, High & Low\n",
    "#   - % Married vs % single\n",
    "#   - Average Usage, Mode, Medium, High & Low\n",
    "#    - Average Fitness, Mode, Medium, High & Low\n",
    "#    - Average Income, Mode, Medium, High & Low\n",
    "#    - Average Miies from store, Mode, Medium, High & Low\n",
    "#\n",
    "#\n",
    "#   - Do you want to save this querry to a new profile? what is this gonna look like dude? "
   ]
  },
  {
   "cell_type": "code",
   "execution_count": null,
   "id": "da9e1b09",
   "metadata": {},
   "outputs": [],
   "source": []
  },
  {
   "cell_type": "code",
   "execution_count": null,
   "id": "2c565e3e",
   "metadata": {},
   "outputs": [],
   "source": []
  },
  {
   "cell_type": "code",
   "execution_count": null,
   "id": "afdf56f6",
   "metadata": {},
   "outputs": [],
   "source": []
  }
 ],
 "metadata": {
  "kernelspec": {
   "display_name": "Python 3",
   "language": "python",
   "name": "python3"
  },
  "language_info": {
   "codemirror_mode": {
    "name": "ipython",
    "version": 3
   },
   "file_extension": ".py",
   "mimetype": "text/x-python",
   "name": "python",
   "nbconvert_exporter": "python",
   "pygments_lexer": "ipython3",
   "version": "3.8.8"
  }
 },
 "nbformat": 4,
 "nbformat_minor": 5
}
