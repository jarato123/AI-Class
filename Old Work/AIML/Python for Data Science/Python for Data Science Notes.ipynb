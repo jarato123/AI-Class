{
 "cells": [
  {
   "cell_type": "code",
   "execution_count": 2,
   "id": "cb0d0cb1",
   "metadata": {},
   "outputs": [
    {
     "name": "stdout",
     "output_type": "stream",
     "text": [
      "   Col1  Col2\n",
      "0     1     2\n",
      "1     3     4\n"
     ]
    }
   ],
   "source": [
    "import pandas as pd\n",
    "import seaborn\n",
    "import numpy as np\n",
    "\n",
    "lst1 = [1,2,4,5] #list\n",
    "dct1 = {'one': 1, 'two':2, 'three':3} #dictionary \n",
    "tup1 = (1,2,3,4,5) #tuple\n",
    "set1 = {1,2,3,4} # set\n",
    "data = [[1,2],[3,4]] #a nested list (a list containing 2 lists) \n",
    "df = pd.DataFrame([[1,2],[3,4]], columns=['Col1','Col2'])\n",
    "print(df)"
   ]
  },
  {
   "cell_type": "code",
   "execution_count": 3,
   "id": "d06ec3b0",
   "metadata": {},
   "outputs": [
    {
     "data": {
      "text/plain": [
       "Col1    3\n",
       "Col2    4\n",
       "Name: 1, dtype: int64"
      ]
     },
     "execution_count": 3,
     "metadata": {},
     "output_type": "execute_result"
    }
   ],
   "source": [
    "df['Col2'] #will return all values in Col2\n",
    "df['Col2'][0] #will return the value at index 0 of Col2 \n",
    "\n",
    "#Using iloc in DataFrame to access values\n",
    "df.iloc[0,1] #will return the value 2\n",
    "df.iloc[:,1] #will give all rows of Col2\n",
    "df.iloc[:,:] #will give all rows and columns \n",
    "df.iloc[1,:] #will give all columns and second row"
   ]
  },
  {
   "cell_type": "code",
   "execution_count": 4,
   "id": "73607ab2",
   "metadata": {
    "scrolled": true
   },
   "outputs": [
    {
     "data": {
      "text/plain": [
       "array([[2, 3, 4],\n",
       "       [7, 8, 9]])"
      ]
     },
     "execution_count": 4,
     "metadata": {},
     "output_type": "execute_result"
    }
   ],
   "source": [
    "arr = np.array([[1, 2, 3, 4, 5], [6, 7, 8, 9, 10]])  #must import numpy for this to work \n",
    "arr[0:2, 1:4]"
   ]
  },
  {
   "cell_type": "code",
   "execution_count": 5,
   "id": "4f5b5105",
   "metadata": {},
   "outputs": [
    {
     "data": {
      "text/plain": [
       "<function numpy.linspace(start, stop, num=50, endpoint=True, retstep=False, dtype=None, axis=0)>"
      ]
     },
     "execution_count": 5,
     "metadata": {},
     "output_type": "execute_result"
    }
   ],
   "source": [
    "np.linspace   #quick info about the function and its conditions"
   ]
  },
  {
   "cell_type": "code",
   "execution_count": 6,
   "id": "1f4decd2",
   "metadata": {},
   "outputs": [
    {
     "name": "stdout",
     "output_type": "stream",
     "text": [
      "Help on function linspace in module numpy:\n",
      "\n",
      "linspace(start, stop, num=50, endpoint=True, retstep=False, dtype=None, axis=0)\n",
      "    Return evenly spaced numbers over a specified interval.\n",
      "    \n",
      "    Returns `num` evenly spaced samples, calculated over the\n",
      "    interval [`start`, `stop`].\n",
      "    \n",
      "    The endpoint of the interval can optionally be excluded.\n",
      "    \n",
      "    .. versionchanged:: 1.16.0\n",
      "        Non-scalar `start` and `stop` are now supported.\n",
      "    \n",
      "    .. versionchanged:: 1.20.0\n",
      "        Values are rounded towards ``-inf`` instead of ``0`` when an\n",
      "        integer ``dtype`` is specified. The old behavior can\n",
      "        still be obtained with ``np.linspace(start, stop, num).astype(int)``\n",
      "    \n",
      "    Parameters\n",
      "    ----------\n",
      "    start : array_like\n",
      "        The starting value of the sequence.\n",
      "    stop : array_like\n",
      "        The end value of the sequence, unless `endpoint` is set to False.\n",
      "        In that case, the sequence consists of all but the last of ``num + 1``\n",
      "        evenly spaced samples, so that `stop` is excluded.  Note that the step\n",
      "        size changes when `endpoint` is False.\n",
      "    num : int, optional\n",
      "        Number of samples to generate. Default is 50. Must be non-negative.\n",
      "    endpoint : bool, optional\n",
      "        If True, `stop` is the last sample. Otherwise, it is not included.\n",
      "        Default is True.\n",
      "    retstep : bool, optional\n",
      "        If True, return (`samples`, `step`), where `step` is the spacing\n",
      "        between samples.\n",
      "    dtype : dtype, optional\n",
      "        The type of the output array.  If `dtype` is not given, the data type\n",
      "        is inferred from `start` and `stop`. The inferred dtype will never be\n",
      "        an integer; `float` is chosen even if the arguments would produce an\n",
      "        array of integers.\n",
      "    \n",
      "        .. versionadded:: 1.9.0\n",
      "    \n",
      "    axis : int, optional\n",
      "        The axis in the result to store the samples.  Relevant only if start\n",
      "        or stop are array-like.  By default (0), the samples will be along a\n",
      "        new axis inserted at the beginning. Use -1 to get an axis at the end.\n",
      "    \n",
      "        .. versionadded:: 1.16.0\n",
      "    \n",
      "    Returns\n",
      "    -------\n",
      "    samples : ndarray\n",
      "        There are `num` equally spaced samples in the closed interval\n",
      "        ``[start, stop]`` or the half-open interval ``[start, stop)``\n",
      "        (depending on whether `endpoint` is True or False).\n",
      "    step : float, optional\n",
      "        Only returned if `retstep` is True\n",
      "    \n",
      "        Size of spacing between samples.\n",
      "    \n",
      "    \n",
      "    See Also\n",
      "    --------\n",
      "    arange : Similar to `linspace`, but uses a step size (instead of the\n",
      "             number of samples).\n",
      "    geomspace : Similar to `linspace`, but with numbers spaced evenly on a log\n",
      "                scale (a geometric progression).\n",
      "    logspace : Similar to `geomspace`, but with the end points specified as\n",
      "               logarithms.\n",
      "    \n",
      "    Examples\n",
      "    --------\n",
      "    >>> np.linspace(2.0, 3.0, num=5)\n",
      "    array([2.  , 2.25, 2.5 , 2.75, 3.  ])\n",
      "    >>> np.linspace(2.0, 3.0, num=5, endpoint=False)\n",
      "    array([2. ,  2.2,  2.4,  2.6,  2.8])\n",
      "    >>> np.linspace(2.0, 3.0, num=5, retstep=True)\n",
      "    (array([2.  ,  2.25,  2.5 ,  2.75,  3.  ]), 0.25)\n",
      "    \n",
      "    Graphical illustration:\n",
      "    \n",
      "    >>> import matplotlib.pyplot as plt\n",
      "    >>> N = 8\n",
      "    >>> y = np.zeros(N)\n",
      "    >>> x1 = np.linspace(0, 10, N, endpoint=True)\n",
      "    >>> x2 = np.linspace(0, 10, N, endpoint=False)\n",
      "    >>> plt.plot(x1, y, 'o')\n",
      "    [<matplotlib.lines.Line2D object at 0x...>]\n",
      "    >>> plt.plot(x2, y + 0.5, 'o')\n",
      "    [<matplotlib.lines.Line2D object at 0x...>]\n",
      "    >>> plt.ylim([-0.5, 1])\n",
      "    (-0.5, 1)\n",
      "    >>> plt.show()\n",
      "\n"
     ]
    }
   ],
   "source": [
    "help(np.linspace)  #help function for numpy"
   ]
  },
  {
   "cell_type": "code",
   "execution_count": 7,
   "id": "1c5cf1bb",
   "metadata": {},
   "outputs": [
    {
     "data": {
      "text/plain": [
       "array([10. , 12.5, 15. , 17.5, 20. ])"
      ]
     },
     "execution_count": 7,
     "metadata": {},
     "output_type": "execute_result"
    }
   ],
   "source": [
    "np.linspace(10,20,5)   #first cond is num to start at, second is number to stop at, third will tell you how many numbers to have evenly spaced in the array"
   ]
  },
  {
   "cell_type": "code",
   "execution_count": 8,
   "id": "6874658a",
   "metadata": {},
   "outputs": [
    {
     "data": {
      "text/plain": [
       "array([10. , 12.5, 15. , 17.5])"
      ]
     },
     "execution_count": 8,
     "metadata": {},
     "output_type": "execute_result"
    }
   ],
   "source": [
    "np.linspace(10,20,4, endpoint = False)   #same thing as above just leaves the last number off"
   ]
  },
  {
   "cell_type": "code",
   "execution_count": 9,
   "id": "bd960ada",
   "metadata": {},
   "outputs": [
    {
     "name": "stdout",
     "output_type": "stream",
     "text": [
      "   Col1  Col2\n",
      "0     1     2\n",
      "1     3     4\n"
     ]
    },
    {
     "data": {
      "text/plain": [
       "0    2.000000\n",
       "1    1.732051\n",
       "2    2.645751\n",
       "Name: A, dtype: float64"
      ]
     },
     "execution_count": 9,
     "metadata": {},
     "output_type": "execute_result"
    }
   ],
   "source": [
    "df1 = pd.DataFrame([[4, 9],[3,6],[7,8]], columns=['A', 'B'])\n",
    "print(df)\n",
    "df1['A'].apply(np.sqrt)   #show just one column"
   ]
  },
  {
   "cell_type": "code",
   "execution_count": 10,
   "id": "a399a5f0",
   "metadata": {},
   "outputs": [
    {
     "data": {
      "text/html": [
       "<div>\n",
       "<style scoped>\n",
       "    .dataframe tbody tr th:only-of-type {\n",
       "        vertical-align: middle;\n",
       "    }\n",
       "\n",
       "    .dataframe tbody tr th {\n",
       "        vertical-align: top;\n",
       "    }\n",
       "\n",
       "    .dataframe thead th {\n",
       "        text-align: right;\n",
       "    }\n",
       "</style>\n",
       "<table border=\"1\" class=\"dataframe\">\n",
       "  <thead>\n",
       "    <tr style=\"text-align: right;\">\n",
       "      <th></th>\n",
       "      <th>A</th>\n",
       "      <th>B</th>\n",
       "    </tr>\n",
       "  </thead>\n",
       "  <tbody>\n",
       "    <tr>\n",
       "      <th>0</th>\n",
       "      <td>2.000000</td>\n",
       "      <td>3.000000</td>\n",
       "    </tr>\n",
       "    <tr>\n",
       "      <th>1</th>\n",
       "      <td>1.732051</td>\n",
       "      <td>2.449490</td>\n",
       "    </tr>\n",
       "    <tr>\n",
       "      <th>2</th>\n",
       "      <td>2.645751</td>\n",
       "      <td>2.828427</td>\n",
       "    </tr>\n",
       "  </tbody>\n",
       "</table>\n",
       "</div>"
      ],
      "text/plain": [
       "          A         B\n",
       "0  2.000000  3.000000\n",
       "1  1.732051  2.449490\n",
       "2  2.645751  2.828427"
      ]
     },
     "execution_count": 10,
     "metadata": {},
     "output_type": "execute_result"
    }
   ],
   "source": [
    "df1.apply(np.sqrt)   #show all columns"
   ]
  },
  {
   "cell_type": "code",
   "execution_count": 11,
   "id": "13763805",
   "metadata": {},
   "outputs": [
    {
     "data": {
      "text/plain": [
       "A    14\n",
       "B    23\n",
       "dtype: int64"
      ]
     },
     "execution_count": 11,
     "metadata": {},
     "output_type": "execute_result"
    }
   ],
   "source": [
    "df1.apply(np.sum, axis = 0)   #produce the output of the sum of each column"
   ]
  },
  {
   "cell_type": "code",
   "execution_count": 12,
   "id": "c3dd010c",
   "metadata": {},
   "outputs": [
    {
     "data": {
      "text/plain": [
       "0    13\n",
       "1     9\n",
       "2    15\n",
       "dtype: int64"
      ]
     },
     "execution_count": 12,
     "metadata": {},
     "output_type": "execute_result"
    }
   ],
   "source": [
    "df1.apply(np.sum, axis = 1)   #produce the outpout of the sum of each row"
   ]
  },
  {
   "cell_type": "code",
   "execution_count": 13,
   "id": "2a034ddd",
   "metadata": {},
   "outputs": [
    {
     "data": {
      "text/plain": [
       "A    14\n",
       "B    23\n",
       "dtype: int64"
      ]
     },
     "execution_count": 13,
     "metadata": {},
     "output_type": "execute_result"
    }
   ],
   "source": [
    "def sum_input(s):    #same thing through a user defined function, just showing how to send to a function\n",
    "    return sum(s)\n",
    "\n",
    "df1.apply(sum_input, axis=0)\n"
   ]
  },
  {
   "cell_type": "code",
   "execution_count": 14,
   "id": "b72bdb48",
   "metadata": {},
   "outputs": [
    {
     "name": "stdout",
     "output_type": "stream",
     "text": [
      "[10 13 16 19]\n"
     ]
    }
   ],
   "source": [
    "vec = np.arange(10, 20, 3)\n",
    "print(vec)"
   ]
  },
  {
   "cell_type": "code",
   "execution_count": 15,
   "id": "43b98774",
   "metadata": {},
   "outputs": [
    {
     "name": "stdout",
     "output_type": "stream",
     "text": [
      "[10. 15. 20.]\n"
     ]
    }
   ],
   "source": [
    "vec=np.linspace(10,20,3)\n",
    "print(vec)"
   ]
  },
  {
   "cell_type": "code",
   "execution_count": 16,
   "id": "5e3d2f79",
   "metadata": {},
   "outputs": [
    {
     "name": "stdout",
     "output_type": "stream",
     "text": [
      "[ 4  9 14 19]\n",
      "-\n",
      "[ 0  1  2  3  4  5  6  7  8  9 10 11]\n",
      "-\n",
      "[[ 0  1  2]\n",
      " [ 3  4  5]\n",
      " [ 6  7  8]\n",
      " [ 9 10 11]]\n",
      "-\n",
      "[10 11 12 13 14 15 16 17 18 19]\n",
      "-\n",
      "[10 13 16 19]\n"
     ]
    }
   ],
   "source": [
    "arr = np.arange(4, 20, 5)\n",
    "print(arr)\n",
    "print('-')\n",
    "vec1 = np.arange(0, 12)\n",
    "print(vec1)\n",
    "print('-')\n",
    "vec2 = vec1.reshape(4, 3)\n",
    "print(vec2)\n",
    "print('-')\n",
    "vec = np.arange(10,20)\n",
    "print(vec)\n",
    "print('-')\n",
    "vec3 = vec[np.arange(0,10,3)]\n",
    "print(vec3)"
   ]
  },
  {
   "cell_type": "code",
   "execution_count": 17,
   "id": "1f81f6b5",
   "metadata": {},
   "outputs": [
    {
     "name": "stdout",
     "output_type": "stream",
     "text": [
      "-1.0\n",
      "2.0\n",
      "1.791759469228055\n",
      "54.598150033144236\n"
     ]
    }
   ],
   "source": [
    "print(np.cos(np.pi))   #calc cos of pi\n",
    "print(np.sqrt(4))   #calc sqrt\n",
    "print(np.log(6))    #calc the natural logrythim \n",
    "print(np.exp(4))    #calc the exponetial"
   ]
  },
  {
   "cell_type": "code",
   "execution_count": 18,
   "id": "68a73edf",
   "metadata": {
    "scrolled": true
   },
   "outputs": [
    {
     "name": "stdout",
     "output_type": "stream",
     "text": [
      "[[1 2 3]\n",
      " [4 5 6]\n",
      " [7 8 9]]\n",
      "3\n"
     ]
    }
   ],
   "source": [
    "matrix = np.array([[1,2,3],[4,5,6],[7,8,9]])\n",
    "print(matrix)\n",
    "print(matrix[0][2])   #display the array by index 0, or row 1, element 3 of that row"
   ]
  },
  {
   "cell_type": "code",
   "execution_count": 19,
   "id": "401d2f8f",
   "metadata": {},
   "outputs": [
    {
     "name": "stdout",
     "output_type": "stream",
     "text": [
      "[ 7  8  9 10]\n",
      "-\n",
      "[ 4  7  8  9 10  6  1]\n",
      "-\n",
      "[4 2 2 2 2 6 1]\n"
     ]
    }
   ],
   "source": [
    "vec = np.array([4 , 7, 8, 9, 10, 6, 1])\n",
    "print(vec[vec>6])\n",
    "print('-')\n",
    "\n",
    "vec[vec>6]\n",
    "print(vec)\n",
    "print('-')\n",
    "\n",
    "vec1 = np.array([4, 7, 8, 9, 10, 6, 1])\n",
    "vec1[vec1>6] = 2   #replace everything in the array greater than 6 with a 2\n",
    "print(vec1)"
   ]
  },
  {
   "cell_type": "code",
   "execution_count": 20,
   "id": "0358d109",
   "metadata": {},
   "outputs": [
    {
     "ename": "FileNotFoundError",
     "evalue": "[Errno 2] No such file or directory: 'matrix.npy'",
     "output_type": "error",
     "traceback": [
      "\u001b[0;31m---------------------------------------------------------------------------\u001b[0m",
      "\u001b[0;31mFileNotFoundError\u001b[0m                         Traceback (most recent call last)",
      "\u001b[0;32m<ipython-input-20-79ec6ae2f96d>\u001b[0m in \u001b[0;36m<module>\u001b[0;34m\u001b[0m\n\u001b[0;32m----> 1\u001b[0;31m \u001b[0mloaded_array\u001b[0m \u001b[0;34m=\u001b[0m \u001b[0mnp\u001b[0m\u001b[0;34m.\u001b[0m\u001b[0mload\u001b[0m\u001b[0;34m(\u001b[0m\u001b[0;34m'matrix.npy'\u001b[0m\u001b[0;34m)\u001b[0m   \u001b[0;31m#matrix.npy is a data file containing the array matrix\u001b[0m\u001b[0;34m\u001b[0m\u001b[0;34m\u001b[0m\u001b[0m\n\u001b[0m",
      "\u001b[0;32m~/opt/anaconda3/lib/python3.8/site-packages/numpy/lib/npyio.py\u001b[0m in \u001b[0;36mload\u001b[0;34m(file, mmap_mode, allow_pickle, fix_imports, encoding)\u001b[0m\n\u001b[1;32m    415\u001b[0m             \u001b[0mown_fid\u001b[0m \u001b[0;34m=\u001b[0m \u001b[0;32mFalse\u001b[0m\u001b[0;34m\u001b[0m\u001b[0;34m\u001b[0m\u001b[0m\n\u001b[1;32m    416\u001b[0m         \u001b[0;32melse\u001b[0m\u001b[0;34m:\u001b[0m\u001b[0;34m\u001b[0m\u001b[0;34m\u001b[0m\u001b[0m\n\u001b[0;32m--> 417\u001b[0;31m             \u001b[0mfid\u001b[0m \u001b[0;34m=\u001b[0m \u001b[0mstack\u001b[0m\u001b[0;34m.\u001b[0m\u001b[0menter_context\u001b[0m\u001b[0;34m(\u001b[0m\u001b[0mopen\u001b[0m\u001b[0;34m(\u001b[0m\u001b[0mos_fspath\u001b[0m\u001b[0;34m(\u001b[0m\u001b[0mfile\u001b[0m\u001b[0;34m)\u001b[0m\u001b[0;34m,\u001b[0m \u001b[0;34m\"rb\"\u001b[0m\u001b[0;34m)\u001b[0m\u001b[0;34m)\u001b[0m\u001b[0;34m\u001b[0m\u001b[0;34m\u001b[0m\u001b[0m\n\u001b[0m\u001b[1;32m    418\u001b[0m             \u001b[0mown_fid\u001b[0m \u001b[0;34m=\u001b[0m \u001b[0;32mTrue\u001b[0m\u001b[0;34m\u001b[0m\u001b[0;34m\u001b[0m\u001b[0m\n\u001b[1;32m    419\u001b[0m \u001b[0;34m\u001b[0m\u001b[0m\n",
      "\u001b[0;31mFileNotFoundError\u001b[0m: [Errno 2] No such file or directory: 'matrix.npy'"
     ]
    }
   ],
   "source": [
    "loaded_array = np.load('matrix.npy')   #matrix.npy is a data file containing the array matrix"
   ]
  },
  {
   "cell_type": "code",
   "execution_count": 21,
   "id": "406bfd00",
   "metadata": {},
   "outputs": [
    {
     "name": "stdout",
     "output_type": "stream",
     "text": [
      "   column0  co1umn1\n",
      "0        1        5\n",
      "1        2        6\n",
      "2        3        7\n",
      "-\n",
      "   co1umn1\n",
      "0        9\n",
      "1       10\n",
      "2       11\n",
      "-\n",
      "   column3\n",
      "0       13\n",
      "1       14\n",
      "2       15\n",
      "-\n",
      "   column0  co1umn1  column3\n",
      "0      1.0      5.0      NaN\n",
      "1      2.0      6.0      NaN\n",
      "2      3.0      7.0      NaN\n",
      "0      NaN      9.0      NaN\n",
      "1      NaN     10.0      NaN\n",
      "2      NaN     11.0      NaN\n",
      "0      NaN      NaN     13.0\n",
      "1      NaN      NaN     14.0\n",
      "2      NaN      NaN     15.0\n",
      "-\n",
      "   column0  co1umn1  co1umn1  column3\n",
      "0        1        5        9       13\n",
      "1        2        6       10       14\n",
      "2        3        7       11       15\n"
     ]
    }
   ],
   "source": [
    "series1 = pd.DataFrame({'column0':[1,2,3],'co1umn1':[5,6,7]})\n",
    "series2 = pd.DataFrame({'co1umn1':[9,10,11]})\n",
    "series3 = pd.DataFrame({'column3':[13,14,15]})\n",
    "\n",
    "dfConcat = pd.concat([series1,series2,series3],axis=0)\n",
    "print(series1)\n",
    "print('-')\n",
    "print(series2)\n",
    "print('-')\n",
    "print(series3)\n",
    "print('-')\n",
    "print(dfConcat)\n",
    "print('-')\n",
    "dfConcat = pd.concat([series1,series2,series3],axis=1)\n",
    "print(dfConcat)"
   ]
  },
  {
   "cell_type": "code",
   "execution_count": 22,
   "id": "f6003f87",
   "metadata": {},
   "outputs": [
    {
     "name": "stdout",
     "output_type": "stream",
     "text": [
      "   Yo Boy  Yo Chicka\n",
      "0       1          5\n",
      "1       2          6\n",
      "2       3          7\n",
      "-\n",
      "   Yo Boy  Yo Chicka\n",
      "0       1          5\n",
      "1       2          6\n",
      "2       3          7\n"
     ]
    }
   ],
   "source": [
    "df3 = pd.DataFrame({'Yo Boy':[1,2,3],'Yo Chicka':[5,6,7]})\n",
    "print(df3)\n",
    "\n",
    "print('-')\n",
    "\n",
    "df3.reset_index()   #reset the index of df3, wtf is this shit\n",
    "\n",
    "print(df3)"
   ]
  },
  {
   "cell_type": "code",
   "execution_count": 23,
   "id": "aebf216f",
   "metadata": {},
   "outputs": [
    {
     "name": "stdout",
     "output_type": "stream",
     "text": [
      "    Name  Age Gender\n",
      "0    Bob    5      M\n",
      "1  Jenny    6      F\n",
      "2    Joe    7      M\n",
      "3  Karen    9      F\n",
      "-\n",
      "    Name Gender\n",
      "0    Bob      M\n",
      "1  Jenny      F\n",
      "2    Joe      M\n",
      "3  Karen      F\n",
      "-\n",
      "Name      Joe\n",
      "Age         7\n",
      "Gender      M\n",
      "Name: 2, dtype: object\n",
      "-\n",
      "0    5\n",
      "1    6\n",
      "2    7\n",
      "3    9\n",
      "Name: Age, dtype: int64\n",
      "-\n"
     ]
    }
   ],
   "source": [
    "df4 = pd.DataFrame({'Name':['Bob','Jenny','Joe','Karen'], 'Age':[5,6,7,9], 'Gender':['M','F','M','F']})\n",
    "print(df4)\n",
    "print('-')\n",
    "\n",
    "df5 = df4.drop('Age', axis = 1)   #drop column and write into new variable\n",
    "print(df5)\n",
    "print('-')\n",
    "\n",
    "print(df4.loc[2])   #print row at index 2\n",
    "print('-')\n",
    "\n",
    "print(df4['Age'])   #print the age column\n",
    "print('-')"
   ]
  },
  {
   "cell_type": "code",
   "execution_count": 24,
   "id": "2b41b84c",
   "metadata": {},
   "outputs": [
    {
     "name": "stdout",
     "output_type": "stream",
     "text": [
      "    Name  Age Gender\n",
      "0    Bob    5      M\n",
      "1  Jenny    6      F\n",
      "2    Joe    7      M\n",
      "3  Karen    9      F\n",
      "-\n",
      "   Age  Yo Chicka\n",
      "0    5          5\n",
      "1    6          6\n",
      "2    7          7\n",
      "3    8          8\n",
      "-\n",
      "    Name  Age Gender  Yo Chicka\n",
      "0    Bob    5      M        5.0\n",
      "1  Jenny    6      F        6.0\n",
      "2    Joe    7      M        7.0\n",
      "3  Karen    9      F        NaN\n",
      "-\n",
      "    Name  Age Gender  Yo Chicka\n",
      "0    Bob    5      M          5\n",
      "1  Jenny    6      F          6\n",
      "2    Joe    7      M          7\n",
      "3    NaN    8    NaN          8\n",
      "-\n",
      "    Name  Age Gender  Yo Chicka\n",
      "0    Bob    5      M        5.0\n",
      "1  Jenny    6      F        6.0\n",
      "2    Joe    7      M        7.0\n",
      "3  Karen    9      F        NaN\n",
      "4    NaN    8    NaN        8.0\n",
      "-\n",
      "    Name  Age Gender  Yo Chicka\n",
      "0    Bob    5      M          5\n",
      "1  Jenny    6      F          6\n",
      "2    Joe    7      M          7\n",
      "-\n"
     ]
    }
   ],
   "source": [
    "print(df4)\n",
    "print('-')\n",
    "\n",
    "df6 = pd.DataFrame({'Age':[5,6,7,8],'Yo Chicka':[5,6,7,8]})\n",
    "print(df6)\n",
    "print('-')\n",
    "\n",
    "print(pd.merge(df4,df6,how='left',on='Age'))   #show union for variable in on, notice in index 3 the variable is different between the data sets, using the left command means that the data in the first array will be used\n",
    "print('-')\n",
    "print(pd.merge(df4,df6,how='right',on='Age'))  #show union for variable in on, notice in index 3 the variable is different between the data sets, using the right command means that the data in the second array will be used\n",
    "print('-')\n",
    "print(pd.merge(df4,df6,how='outer',on='Age'))  #show union values\n",
    "print('-')\n",
    "print(pd.merge(df4,df6,how='inner',on='Age'))  #show intersetion values\n",
    "print('-')"
   ]
  },
  {
   "cell_type": "code",
   "execution_count": 25,
   "id": "f4eac9ee",
   "metadata": {},
   "outputs": [
    {
     "name": "stdout",
     "output_type": "stream",
     "text": [
      "0    NaN\n",
      "1    2.0\n",
      "2    0.0\n",
      "3    1.0\n",
      "Name: Product, dtype: float64\n",
      "-\n",
      "[1 3 4]\n",
      "-\n",
      "6.5\n",
      "-\n",
      "   Product  Age\n",
      "0        1    5\n",
      "1        3    6\n",
      "2        3    7\n",
      "3        4    8\n",
      "-\n",
      "   Product  Age  Price\n",
      "0        1    5      9\n",
      "1        3    6     10\n",
      "2        3    7     11\n",
      "3        4    8     12\n",
      "-\n"
     ]
    }
   ],
   "source": [
    "df7 = pd.DataFrame({'Product':[1,3,3,4],'Age':[5,6,7,8],'Price':[9,10,11,12]})\n",
    "print(df7['Product'].diff())\n",
    "print('-')\n",
    "print(df7['Product'].unique())\n",
    "print('-')\n",
    "print(df7['Age'].mean())   #show the average age\n",
    "print('-')\n",
    "print(df7.drop('Price', axis = 1))\n",
    "print('-')\n",
    "print(df7)\n",
    "print('-')"
   ]
  },
  {
   "cell_type": "code",
   "execution_count": 30,
   "id": "34d3be8d",
   "metadata": {},
   "outputs": [
    {
     "name": "stdout",
     "output_type": "stream",
     "text": [
      "['learning', 'Python', 'is fun?', True]\n",
      "-\n",
      "['learning', 'Python', 'is fun?', True, 'hello']\n"
     ]
    }
   ],
   "source": [
    "variable = ['learning', \"Python\", 'is fun?', True]\n",
    "print(variable)\n",
    "print('-')\n",
    "variable.append('hello')\n",
    "print(variable)"
   ]
  },
  {
   "cell_type": "code",
   "execution_count": 33,
   "id": "55dc9b84",
   "metadata": {},
   "outputs": [
    {
     "name": "stdout",
     "output_type": "stream",
     "text": [
      "['learning', 'is fun?', True, 'hello']\n"
     ]
    }
   ],
   "source": [
    "variable.remove(\"Python\")\n",
    "print(variable)"
   ]
  },
  {
   "cell_type": "code",
   "execution_count": 52,
   "id": "a7e0afbb",
   "metadata": {},
   "outputs": [
    {
     "name": "stdout",
     "output_type": "stream",
     "text": [
      "[1, 2, 3, 4, 5, 6]\n",
      "-\n",
      "[1, 2, 3, 4, 5, 6]\n"
     ]
    }
   ],
   "source": [
    "list1 = [1,2,3]\n",
    "list2 = [4,5,6]\n",
    "print(list1 + list2)\n",
    "print('-')\n",
    "\n",
    "#harder way todo whats above\n",
    "list3 = list1 + list2\n",
    "print(list3)"
   ]
  },
  {
   "cell_type": "code",
   "execution_count": 45,
   "id": "35053907",
   "metadata": {},
   "outputs": [
    {
     "data": {
      "text/plain": [
       "10.4681"
      ]
     },
     "execution_count": 45,
     "metadata": {},
     "output_type": "execute_result"
    }
   ],
   "source": [
    "list3 = [2.0001, 3.908, 4.56]\n",
    "sum(list3)"
   ]
  },
  {
   "cell_type": "code",
   "execution_count": 46,
   "id": "f5c00874",
   "metadata": {},
   "outputs": [
    {
     "data": {
      "text/plain": [
       "[9, 8, 7, 5, 1]"
      ]
     },
     "execution_count": 46,
     "metadata": {},
     "output_type": "execute_result"
    }
   ],
   "source": [
    "list4 = [9, 7, 8, 1, 5]\n",
    "list4.sort(reverse = True)\n",
    "list4"
   ]
  },
  {
   "cell_type": "code",
   "execution_count": 70,
   "id": "94e51086",
   "metadata": {},
   "outputs": [],
   "source": [
    "#used to all 3 elements of 3 lists\n",
    "def sum_3(a, b, c):\n",
    "        d = a + b + c\n",
    "        s = sum(d)\n",
    "        return s"
   ]
  },
  {
   "cell_type": "code",
   "execution_count": 71,
   "id": "f20e5d24",
   "metadata": {},
   "outputs": [
    {
     "data": {
      "text/plain": [
       "5.0"
      ]
     },
     "execution_count": 71,
     "metadata": {},
     "output_type": "execute_result"
    }
   ],
   "source": [
    "f = lambda x,y,z: x*y/z*z\n",
    "f(1, 5, 78)"
   ]
  },
  {
   "cell_type": "code",
   "execution_count": 72,
   "id": "ca23ffed",
   "metadata": {},
   "outputs": [
    {
     "name": "stdout",
     "output_type": "stream",
     "text": [
      "[0, 1, 4, 9, 16, 25, 36, 49, 64, 81]\n"
     ]
    }
   ],
   "source": [
    "squares = [x**2 for x in range(10)]\n",
    "print(squares)"
   ]
  },
  {
   "cell_type": "code",
   "execution_count": 73,
   "id": "cfca523b",
   "metadata": {},
   "outputs": [
    {
     "name": "stdout",
     "output_type": "stream",
     "text": [
      "[2, 4, 6, 8, 10, 12, 14, 16, 18, 20, 22, 24, 26, 28, 30, 32, 34, 36, 38, 40, 42, 44, 46, 48, 50, 52, 54, 56, 58, 60, 62, 64, 66, 68, 70, 72, 74, 76, 78, 80, 82, 84, 86, 88, 90, 92, 94, 96, 98, 100]\n"
     ]
    }
   ],
   "source": [
    "set = [i for i in range(1,101) if i%2 == 0] \n",
    "print(set)"
   ]
  },
  {
   "cell_type": "code",
   "execution_count": 74,
   "id": "e75b730e",
   "metadata": {},
   "outputs": [
    {
     "name": "stdout",
     "output_type": "stream",
     "text": [
      "[2, 4, 6, 8, 10, 12, 14, 16, 18, 20, 22, 24, 26, 28, 30, 32, 34, 36, 38, 40, 42, 44, 46, 48, 50, 52, 54, 56, 58, 60, 62, 64, 66, 68, 70, 72, 74, 76, 78, 80, 82, 84, 86, 88, 90, 92, 94, 96, 98]\n"
     ]
    }
   ],
   "source": [
    "set = [i for i in range(1,100) if i%2 == 0] \n",
    "print(set)"
   ]
  },
  {
   "cell_type": "code",
   "execution_count": 75,
   "id": "b8a932ef",
   "metadata": {},
   "outputs": [
    {
     "name": "stdout",
     "output_type": "stream",
     "text": [
      "[3, 6, 9, 12, 15, 18, 21, 24, 27, 30, 33, 36, 39, 42, 45, 48, 51, 54, 57, 60, 63, 66, 69, 72, 75, 78, 81, 84, 87, 90, 93, 96, 99]\n"
     ]
    }
   ],
   "source": [
    "set = [i for i in range(1,101) if i%3 == 0] \n",
    "print(set)"
   ]
  },
  {
   "cell_type": "code",
   "execution_count": 76,
   "id": "e1390bf7",
   "metadata": {},
   "outputs": [
    {
     "name": "stdout",
     "output_type": "stream",
     "text": [
      "[0, 4, 8, 12, 16, 20, 24, 28, 32, 36, 40, 44, 48, 52, 56, 60, 64, 68, 72, 76, 80, 84, 88, 92, 96, 100]\n"
     ]
    }
   ],
   "source": [
    "set = [i for i in range(0,101) if i%4 == 0] \n",
    "print(set)"
   ]
  },
  {
   "cell_type": "code",
   "execution_count": 77,
   "id": "4bb4e0df",
   "metadata": {},
   "outputs": [
    {
     "name": "stdout",
     "output_type": "stream",
     "text": [
      "[5, 8, 2, 1, 5, 8, 2, 5, 5, 4, 7, 2, 2, 3, 5, 7, 3, 8]\n"
     ]
    }
   ],
   "source": [
    "# print the length of each word in the sentence\n",
    "sentence = 'great learning is a great platform to learn about data science as it has great faculty and content.'\n",
    "count = [len(i) for i in sentence.split()]\n",
    "print(count)"
   ]
  },
  {
   "cell_type": "code",
   "execution_count": 78,
   "id": "dc503902",
   "metadata": {},
   "outputs": [
    {
     "data": {
      "text/plain": [
       "array([[1., 0.],\n",
       "       [0., 1.]])"
      ]
     },
     "execution_count": 78,
     "metadata": {},
     "output_type": "execute_result"
    }
   ],
   "source": [
    "np.identity(2)  #creates a 2d identity matrix"
   ]
  },
  {
   "cell_type": "code",
   "execution_count": 79,
   "id": "fac5c469",
   "metadata": {},
   "outputs": [
    {
     "data": {
      "text/plain": [
       "array([1., 1.])"
      ]
     },
     "execution_count": 79,
     "metadata": {},
     "output_type": "execute_result"
    }
   ],
   "source": [
    "np.ones(2)   #creates a 2 item 1d matrix full of ones"
   ]
  },
  {
   "cell_type": "code",
   "execution_count": 82,
   "id": "ddd5b02b",
   "metadata": {},
   "outputs": [
    {
     "data": {
      "text/plain": [
       "array([[1., 0., 0., 0.],\n",
       "       [0., 1., 0., 0.],\n",
       "       [0., 0., 1., 0.],\n",
       "       [0., 0., 0., 1.]])"
      ]
     },
     "execution_count": 82,
     "metadata": {},
     "output_type": "execute_result"
    }
   ],
   "source": [
    "np.identity(2*2)   #creates an 2d identity matrix of size 2*2=4"
   ]
  },
  {
   "cell_type": "code",
   "execution_count": 83,
   "id": "5866acfa",
   "metadata": {},
   "outputs": [
    {
     "data": {
      "text/plain": [
       "array([1., 1., 1., 1.])"
      ]
     },
     "execution_count": 83,
     "metadata": {},
     "output_type": "execute_result"
    }
   ],
   "source": [
    "np.ones(2*2)   #creates a 4 items 1d matrix of ones or of size 2*2=$"
   ]
  },
  {
   "cell_type": "code",
   "execution_count": 84,
   "id": "99cfbeb1",
   "metadata": {},
   "outputs": [
    {
     "data": {
      "text/plain": [
       "array([[9, 8, 7],\n",
       "       [6, 5, 4],\n",
       "       [3, 2, 1]])"
      ]
     },
     "execution_count": 84,
     "metadata": {},
     "output_type": "execute_result"
    }
   ],
   "source": [
    "np.arange(start = 9, stop = 0, step = -1).reshape(3,3)"
   ]
  },
  {
   "cell_type": "code",
   "execution_count": 91,
   "id": "9bd354e8",
   "metadata": {},
   "outputs": [
    {
     "name": "stdout",
     "output_type": "stream",
     "text": [
      "[[9 8 7]\n",
      " [6 5 4]\n",
      " [3 2 1]]\n",
      "-\n",
      "[[9 8 7]\n",
      " [6 5 4]\n",
      " [3 2 1]]\n",
      "-\n"
     ]
    },
    {
     "ename": "NameError",
     "evalue": "name 'add' is not defined",
     "output_type": "error",
     "traceback": [
      "\u001b[0;31m---------------------------------------------------------------------------\u001b[0m",
      "\u001b[0;31mNameError\u001b[0m                                 Traceback (most recent call last)",
      "\u001b[0;32m<ipython-input-91-9043d1f11bd4>\u001b[0m in \u001b[0;36m<module>\u001b[0;34m\u001b[0m\n\u001b[1;32m      7\u001b[0m \u001b[0mprint\u001b[0m\u001b[0;34m(\u001b[0m\u001b[0;34m'-'\u001b[0m\u001b[0;34m)\u001b[0m\u001b[0;34m\u001b[0m\u001b[0;34m\u001b[0m\u001b[0m\n\u001b[1;32m      8\u001b[0m \u001b[0;34m\u001b[0m\u001b[0m\n\u001b[0;32m----> 9\u001b[0;31m \u001b[0madd\u001b[0m \u001b[0;34m=\u001b[0m \u001b[0madd\u001b[0m\u001b[0;34m(\u001b[0m\u001b[0md1\u001b[0m\u001b[0;34m,\u001b[0m\u001b[0;36m1\u001b[0m\u001b[0;34m)\u001b[0m\u001b[0;34m\u001b[0m\u001b[0;34m\u001b[0m\u001b[0m\n\u001b[0m",
      "\u001b[0;31mNameError\u001b[0m: name 'add' is not defined"
     ]
    }
   ],
   "source": [
    "#come back to the cock sucker q4\n",
    "\n",
    "\n",
    "\n",
    "\n",
    "\n",
    "\n",
    "\n",
    "#pay attention here fucker\n",
    "\n",
    "\n",
    "\n",
    "\n",
    "\n",
    "\n",
    "#look asshole\n",
    "\n",
    "\n",
    "\n",
    "\n",
    "\n",
    "#ok that was fun back to work\n",
    "\n",
    "\n",
    "d1 = np.array([[9,8,7],[6,5,4],[3,2,1]])\n",
    "print(d1)\n",
    "print('-')\n",
    "\n",
    "d1 * 1\n",
    "print(d1)\n",
    "print('-')\n",
    "\n",
    "add = add(d1,1)"
   ]
  },
  {
   "cell_type": "code",
   "execution_count": 101,
   "id": "15ed811c",
   "metadata": {},
   "outputs": [
    {
     "name": "stdout",
     "output_type": "stream",
     "text": [
      "131.66666666666666\n"
     ]
    }
   ],
   "source": [
    "#print the average of all matrixes in the array\n",
    "n6 = np.matrix([[ 1, 4, 9, 121, 144, 169], [ 16, 25, 36, 196, 225, 256], [ 49, 64, 81, 289, 324, 361]]).mean()\n",
    "print(n6)"
   ]
  },
  {
   "cell_type": "code",
   "execution_count": 102,
   "id": "95196edd",
   "metadata": {},
   "outputs": [
    {
     "data": {
      "text/plain": [
       "matrix([[1786, 1880, 3017],\n",
       "        [2725, 2933, 4712],\n",
       "        [3862, 4220, 6785]])"
      ]
     },
     "execution_count": 102,
     "metadata": {},
     "output_type": "execute_result"
    }
   ],
   "source": [
    "#dot product here, im not sure wtf a dot product is\n",
    "\n",
    "\n",
    "\n",
    "\n",
    "#research this one some more \n",
    "\n",
    "\n",
    "\n",
    "#your high now so lookinto this later, pay attention fuckers\n",
    "\n",
    "\n",
    "\n",
    "n1 = np.matrix([[121, 144, 169], [196, 225, 256], [ 289, 324, 361]])\n",
    "n2 = np.matrix([[ 1, 4, 9], [ 1, 5, 4], [ 9, 4, 8]])\n",
    "#help(np.dot)\n",
    "np.dot(n1, n2)"
   ]
  },
  {
   "cell_type": "code",
   "execution_count": 114,
   "id": "69f3158c",
   "metadata": {},
   "outputs": [
    {
     "data": {
      "text/plain": [
       "array([2, 3, 4, 5])"
      ]
     },
     "execution_count": 114,
     "metadata": {},
     "output_type": "execute_result"
    }
   ],
   "source": [
    "np.arange(6)[2:7]    #this is nifty create an array of all numbers between 2 and 7 but stoping before 6"
   ]
  },
  {
   "cell_type": "code",
   "execution_count": 117,
   "id": "1a7d02cd",
   "metadata": {},
   "outputs": [
    {
     "data": {
      "text/plain": [
       "array([ 0,  9, 18])"
      ]
     },
     "execution_count": 117,
     "metadata": {},
     "output_type": "execute_result"
    }
   ],
   "source": [
    "np.arange(20)[0::9]"
   ]
  },
  {
   "cell_type": "code",
   "execution_count": 128,
   "id": "e649246d",
   "metadata": {},
   "outputs": [
    {
     "name": "stdout",
     "output_type": "stream",
     "text": [
      "[ 0  1  2  3  4  5  6  7  8  9 10 11 12 13 14 15 16 17 18 19]\n",
      "-\n",
      "[ 0  1  2  3  4  5  6  7  8  9 10 11 12 13 14 15 16 17 18 19]\n"
     ]
    }
   ],
   "source": [
    "#which command reverses the array \n",
    "p = np.arange(20)\n",
    "print(p)\n",
    "print('-')\n",
    "\n",
    "p[:-1]\n",
    "print(p)"
   ]
  },
  {
   "cell_type": "code",
   "execution_count": 124,
   "id": "e18b36d6",
   "metadata": {},
   "outputs": [
    {
     "data": {
      "text/plain": [
       "matrix([[9, 4, 8],\n",
       "        [1, 5, 4],\n",
       "        [1, 4, 9]])"
      ]
     },
     "execution_count": 124,
     "metadata": {},
     "output_type": "execute_result"
    }
   ],
   "source": [
    "np.matrix([[ 1, 4, 9], [ 1, 5, 4], [ 9, 4, 8]])[::-1]"
   ]
  },
  {
   "cell_type": "code",
   "execution_count": 125,
   "id": "a438a962",
   "metadata": {},
   "outputs": [
    {
     "data": {
      "text/plain": [
       "array([[9, 8, 7],\n",
       "       [6, 5, 4],\n",
       "       [3, 2, 1]])"
      ]
     },
     "execution_count": 125,
     "metadata": {},
     "output_type": "execute_result"
    }
   ],
   "source": [
    "np.arange(start = 9, stop = 0, step = -1).reshape(3,3)"
   ]
  },
  {
   "cell_type": "code",
   "execution_count": 136,
   "id": "17295978",
   "metadata": {},
   "outputs": [],
   "source": [
    "#run these seperate but together from here down to (ABC)\n",
    "\n",
    "import numpy as np"
   ]
  },
  {
   "cell_type": "code",
   "execution_count": 137,
   "id": "f82a34f4",
   "metadata": {},
   "outputs": [],
   "source": [
    "demo_array = np.arange(0,10)"
   ]
  },
  {
   "cell_type": "code",
   "execution_count": 138,
   "id": "ade15896",
   "metadata": {},
   "outputs": [
    {
     "data": {
      "text/plain": [
       "array([0, 1, 2, 3, 4, 5, 6, 7, 8, 9])"
      ]
     },
     "execution_count": 138,
     "metadata": {},
     "output_type": "execute_result"
    }
   ],
   "source": [
    "demo_array"
   ]
  },
  {
   "cell_type": "code",
   "execution_count": 139,
   "id": "d20aed49",
   "metadata": {},
   "outputs": [
    {
     "data": {
      "text/plain": [
       "array([ True,  True,  True, False, False, False, False, False, False,\n",
       "       False])"
      ]
     },
     "execution_count": 139,
     "metadata": {},
     "output_type": "execute_result"
    }
   ],
   "source": [
    "demo_array <3"
   ]
  },
  {
   "cell_type": "code",
   "execution_count": 140,
   "id": "b4d77004",
   "metadata": {},
   "outputs": [
    {
     "data": {
      "text/plain": [
       "array([0, 1, 2, 3, 4, 5])"
      ]
     },
     "execution_count": 140,
     "metadata": {},
     "output_type": "execute_result"
    }
   ],
   "source": [
    "demo_array[demo_array <6]"
   ]
  },
  {
   "cell_type": "code",
   "execution_count": 142,
   "id": "92514cb0",
   "metadata": {},
   "outputs": [
    {
     "data": {
      "text/plain": [
       "9"
      ]
     },
     "execution_count": 142,
     "metadata": {},
     "output_type": "execute_result"
    }
   ],
   "source": [
    "np.max(demo_array)\n",
    "\n",
    "#(ABC) this is the end of this block, its nifty seeing what happens when you run them indepedenant of each other"
   ]
  },
  {
   "cell_type": "code",
   "execution_count": 143,
   "id": "3b3b55a1",
   "metadata": {},
   "outputs": [],
   "source": [
    "demo_matrix = np.array(([13,35,74,48], [23,37,37,38],[73,39,93,39]))"
   ]
  },
  {
   "cell_type": "code",
   "execution_count": 144,
   "id": "85bdf259",
   "metadata": {},
   "outputs": [
    {
     "data": {
      "text/plain": [
       "array([[35, 74],\n",
       "       [37, 37],\n",
       "       [39, 93]])"
      ]
     },
     "execution_count": 144,
     "metadata": {},
     "output_type": "execute_result"
    }
   ],
   "source": [
    "demo_matrix[:, (1,2)]"
   ]
  },
  {
   "cell_type": "code",
   "execution_count": 145,
   "id": "72a9f924",
   "metadata": {},
   "outputs": [],
   "source": [
    "test_array = [10, 11.5, 12, 13.5, 14,15]"
   ]
  },
  {
   "cell_type": "code",
   "execution_count": 146,
   "id": "2aa71f49",
   "metadata": {},
   "outputs": [
    {
     "data": {
      "text/plain": [
       "[12]"
      ]
     },
     "execution_count": 146,
     "metadata": {},
     "output_type": "execute_result"
    }
   ],
   "source": [
    "test_array[2:3]"
   ]
  },
  {
   "cell_type": "code",
   "execution_count": 147,
   "id": "f51383d7",
   "metadata": {},
   "outputs": [],
   "source": [
    "list_l =[[12,34,55,],[66,45,77],[45,77,88]]"
   ]
  },
  {
   "cell_type": "code",
   "execution_count": 149,
   "id": "19e4a6be",
   "metadata": {},
   "outputs": [
    {
     "data": {
      "text/plain": [
       "array([[12, 34, 55],\n",
       "       [66, 45, 77],\n",
       "       [45, 77, 88]])"
      ]
     },
     "execution_count": 149,
     "metadata": {},
     "output_type": "execute_result"
    }
   ],
   "source": [
    "np.array(list_l)"
   ]
  },
  {
   "cell_type": "code",
   "execution_count": 150,
   "id": "be4e00b4",
   "metadata": {},
   "outputs": [],
   "source": [
    "score = [10, 15, 20, 25]"
   ]
  },
  {
   "cell_type": "code",
   "execution_count": 151,
   "id": "e5ad0054",
   "metadata": {},
   "outputs": [
    {
     "data": {
      "text/plain": [
       "a    10\n",
       "b    15\n",
       "c    20\n",
       "d    25\n",
       "dtype: int64"
      ]
     },
     "execution_count": 151,
     "metadata": {},
     "output_type": "execute_result"
    }
   ],
   "source": [
    "pd.Series(data=score, index = ['a','b','c','d'])"
   ]
  },
  {
   "cell_type": "code",
   "execution_count": 155,
   "id": "3aeff457",
   "metadata": {},
   "outputs": [],
   "source": [
    "newcolumn =  [\"A\", \"B\", \"C\", \"D\", \"E\"]\n",
    "\n",
    "newcolumn = [\"A\", \"B\", \"C\", \"D\", \"E\"]"
   ]
  },
  {
   "cell_type": "code",
   "execution_count": 176,
   "id": "7c33bbdc",
   "metadata": {},
   "outputs": [
    {
     "name": "stdout",
     "output_type": "stream",
     "text": [
      "   word1  word2  word3  word4  word5 Alphabets\n",
      "l      1      2      3      4      5         A\n",
      "m      1      2      3      4      5         B\n",
      "n      1      2      3      4      5         C\n",
      "o      1      2      3      4      5         D\n",
      "p      1      2      3      4      5         E\n"
     ]
    }
   ],
   "source": [
    "#create array 'dataframe' with index names and then add row names as well then append a new column into the array\n",
    "dataframe = pd.DataFrame([[1,2,3,4,5],[1,2,3,4,5],[1,2,3,4,5],[1,2,3,4,5],[1,2,3,4,5]], columns=['word1','word2','word3','word4','word5'])\n",
    "dataframe.index = rows = ['l','m','n','o','p']\n",
    "\n",
    "\n",
    "newcolumn = [\"A\", \"B\", \"C\", \"D\", \"E\"]\n",
    "\n",
    "newcolumn = [\"A\", \"B\", \"C\", \"D\", \"E\"]\n",
    "\n",
    "dataframe['Alphabets'] = newcolumn\n",
    "\n",
    "\n",
    "print(dataframe)"
   ]
  },
  {
   "cell_type": "code",
   "execution_count": 178,
   "id": "f620a329",
   "metadata": {},
   "outputs": [
    {
     "data": {
      "text/plain": [
       "array([ 0,  6, 12, 18])"
      ]
     },
     "execution_count": 178,
     "metadata": {},
     "output_type": "execute_result"
    }
   ],
   "source": [
    "np.arange(0,22,6)"
   ]
  },
  {
   "cell_type": "code",
   "execution_count": 179,
   "id": "c4c5c370",
   "metadata": {},
   "outputs": [
    {
     "data": {
      "text/plain": [
       "array([101, 101, 101, 101, 101, 101, 101])"
      ]
     },
     "execution_count": 179,
     "metadata": {},
     "output_type": "execute_result"
    }
   ],
   "source": [
    "demo_array = np.arange(10,21)\n",
    "\n",
    "subset_demo_array = demo_array[0:7]\n",
    "\n",
    "subset_demo_array[:]= 101\n",
    "\n",
    "subset_demo_array"
   ]
  },
  {
   "cell_type": "code",
   "execution_count": 180,
   "id": "683df8a8",
   "metadata": {},
   "outputs": [
    {
     "data": {
      "text/plain": [
       "5"
      ]
     },
     "execution_count": 180,
     "metadata": {},
     "output_type": "execute_result"
    }
   ],
   "source": [
    "flowers = pd.Series([2, 3, 5, 4], index=['lily', 'rose', 'daisy', 'lotus'])\n",
    "\n",
    "flowers['daisy']"
   ]
  },
  {
   "cell_type": "code",
   "execution_count": 185,
   "id": "5f35fb49",
   "metadata": {},
   "outputs": [
    {
     "data": {
      "text/plain": [
       "0    a\n",
       "1    b\n",
       "0    c\n",
       "1    d\n",
       "dtype: object"
      ]
     },
     "execution_count": 185,
     "metadata": {},
     "output_type": "execute_result"
    }
   ],
   "source": [
    "#Concatonate two series together \n",
    "s1 = pd.Series(['a', 'b'])\n",
    "s2 = pd.Series(['c', 'd'])\n",
    "pd.concat([s1, s2])"
   ]
  },
  {
   "cell_type": "code",
   "execution_count": 195,
   "id": "8c1da4c1",
   "metadata": {},
   "outputs": [
    {
     "name": "stdout",
     "output_type": "stream",
     "text": [
      "[24, 235, 34, 456, 65, 67]\n"
     ]
    },
    {
     "data": {
      "text/plain": [
       "list"
      ]
     },
     "execution_count": 195,
     "metadata": {},
     "output_type": "execute_result"
    }
   ],
   "source": [
    "football = [24, 235, 34, 456, 65, 67]\n",
    "#np.array{football}\n",
    "#np.array[‘football’]\n",
    "np.array(football)\n",
    "#np.array[football]\n",
    "print(football)\n",
    "type(football)"
   ]
  },
  {
   "cell_type": "code",
   "execution_count": null,
   "id": "faf57620",
   "metadata": {},
   "outputs": [],
   "source": []
  }
 ],
 "metadata": {
  "kernelspec": {
   "display_name": "Python 3",
   "language": "python",
   "name": "python3"
  },
  "language_info": {
   "codemirror_mode": {
    "name": "ipython",
    "version": 3
   },
   "file_extension": ".py",
   "mimetype": "text/x-python",
   "name": "python",
   "nbconvert_exporter": "python",
   "pygments_lexer": "ipython3",
   "version": "3.8.8"
  }
 },
 "nbformat": 4,
 "nbformat_minor": 5
}
