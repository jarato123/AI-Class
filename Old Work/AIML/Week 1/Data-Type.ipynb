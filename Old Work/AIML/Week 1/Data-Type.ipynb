{
 "cells": [
  {
   "cell_type": "markdown",
   "id": "2dfe84eb",
   "metadata": {},
   "source": [
    "# String Data Type\n",
    "\n",
    "The string data type is used to store text. The data to be stored in this data type is enclosed between sing('') or double quotes (\"\"). Recall that you rpinted your name in previous Notebooks. This was a string data type, lets look at an example. "
   ]
  },
  {
   "cell_type": "code",
   "execution_count": 14,
   "id": "7adb33b1",
   "metadata": {},
   "outputs": [
    {
     "name": "stdout",
     "output_type": "stream",
     "text": [
      "My name is joey pleased to meet you ok\n"
     ]
    },
    {
     "data": {
      "text/plain": [
       "str"
      ]
     },
     "execution_count": 14,
     "metadata": {},
     "output_type": "execute_result"
    }
   ],
   "source": [
    "name = \"joey\"\n",
    "print('My name is', name, 'pleased to meet you ok')\n",
    "type(name) #display type of variable"
   ]
  },
  {
   "cell_type": "code",
   "execution_count": 15,
   "id": "b9b847de",
   "metadata": {},
   "outputs": [
    {
     "name": "stdout",
     "output_type": "stream",
     "text": [
      "My name is joey pleased to meet you ok\n"
     ]
    },
    {
     "data": {
      "text/plain": [
       "4"
      ]
     },
     "execution_count": 15,
     "metadata": {},
     "output_type": "execute_result"
    }
   ],
   "source": [
    "name = \"joey\"\n",
    "print('My name is', name, 'pleased to meet you ok')\n",
    "len(name) #print length of string"
   ]
  },
  {
   "cell_type": "code",
   "execution_count": null,
   "id": "614c216a",
   "metadata": {},
   "outputs": [],
   "source": []
  }
 ],
 "metadata": {
  "kernelspec": {
   "display_name": "Python 3",
   "language": "python",
   "name": "python3"
  },
  "language_info": {
   "codemirror_mode": {
    "name": "ipython",
    "version": 3
   },
   "file_extension": ".py",
   "mimetype": "text/x-python",
   "name": "python",
   "nbconvert_exporter": "python",
   "pygments_lexer": "ipython3",
   "version": "3.8.8"
  }
 },
 "nbformat": 4,
 "nbformat_minor": 5
}
