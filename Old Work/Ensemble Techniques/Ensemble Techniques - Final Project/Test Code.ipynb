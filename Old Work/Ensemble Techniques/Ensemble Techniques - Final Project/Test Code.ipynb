{
 "cells": [
  {
   "cell_type": "code",
   "execution_count": 2,
   "id": "3823ae5e",
   "metadata": {},
   "outputs": [],
   "source": [
    "# Library to suppress warnings or deprecation notes \n",
    "import warnings\n",
    "warnings.filterwarnings('ignore')\n",
    "\n",
    "# Libraries to help with reading and manipulating data\n",
    "import numpy as np\n",
    "import pandas as pd\n",
    "\n",
    "# Libraries to help with data visualization\n",
    "import matplotlib.pyplot as plt\n",
    "%matplotlib inline\n",
    "import seaborn as sns\n",
    "\n",
    "# Libraries to split data, impute missing values \n",
    "from sklearn.model_selection import train_test_split\n",
    "from sklearn.impute import SimpleImputer\n",
    "\n",
    "# Libraries to import decision tree classifier and different ensemble classifiers\n",
    "from sklearn.ensemble import BaggingClassifier\n",
    "from sklearn.ensemble import RandomForestClassifier\n",
    "from sklearn.ensemble import AdaBoostClassifier, GradientBoostingClassifier\n",
    "from xgboost import XGBClassifier\n",
    "from sklearn.ensemble import StackingClassifier\n",
    "from sklearn.tree import DecisionTreeClassifier\n",
    "\n",
    "# Libtune to tune model, get different metric scores\n",
    "from sklearn import metrics\n",
    "from sklearn.metrics import confusion_matrix, classification_report, accuracy_score, precision_score, recall_score, f1_score, roc_auc_score, r2_score, mean_squared_error, mean_absolute_error, confusion_matrix\n",
    "from sklearn.model_selection import GridSearchCV"
   ]
  },
  {
   "cell_type": "code",
   "execution_count": 3,
   "id": "d6d222ec",
   "metadata": {},
   "outputs": [],
   "source": [
    "data = pd.read_excel('Tourism.xlsx', sheet_name=1)"
   ]
  },
  {
   "cell_type": "code",
   "execution_count": 4,
   "id": "9ec7a54c",
   "metadata": {},
   "outputs": [],
   "source": [
    "# Replace Fe Male with Female in the Gender Column\n",
    "data.replace(to_replace=\"Fe Male\", value='Female', inplace=True)"
   ]
  },
  {
   "cell_type": "code",
   "execution_count": 5,
   "id": "5a3e122e",
   "metadata": {},
   "outputs": [
    {
     "data": {
      "text/plain": [
       "array(['Female', 'Male'], dtype=object)"
      ]
     },
     "execution_count": 5,
     "metadata": {},
     "output_type": "execute_result"
    }
   ],
   "source": [
    "data['Gender'].unique()"
   ]
  },
  {
   "cell_type": "code",
   "execution_count": 6,
   "id": "85fd6978",
   "metadata": {},
   "outputs": [],
   "source": [
    "#Drop Columns that are customer interaction data, these are not strictly Customer Data and while useful information are not pertinent to customer only model\n",
    "data.drop(['DurationOfPitch','NumberOfFollowups','ProductPitched','PitchSatisfactionScore'], axis = 1, inplace=True)"
   ]
  },
  {
   "cell_type": "code",
   "execution_count": 7,
   "id": "265be2f7",
   "metadata": {},
   "outputs": [],
   "source": [
    "# Replace missing values with the mean\n",
    "data['MonthlyIncome'].fillna(int(data['MonthlyIncome'].mean()), inplace=True)\n",
    "data['Age'].fillna(int(data['Age'].mean()), inplace=True)\n",
    "data['NumberOfTrips'].fillna(int(data['NumberOfTrips'].mean()), inplace=True)\n",
    "data['NumberOfChildrenVisiting'].fillna(int(data['NumberOfChildrenVisiting'].mean()), inplace=True)\n",
    "data['PreferredPropertyStar'].fillna(int(data['PreferredPropertyStar'].mean()), inplace=True)"
   ]
  },
  {
   "cell_type": "code",
   "execution_count": 8,
   "id": "8051d989",
   "metadata": {},
   "outputs": [],
   "source": [
    "# Drop all rows with missing values left in the data set\n",
    "data.dropna(inplace=True)"
   ]
  },
  {
   "cell_type": "code",
   "execution_count": 9,
   "id": "c7476b85",
   "metadata": {},
   "outputs": [
    {
     "data": {
      "text/plain": [
       "CustomerID                  0\n",
       "ProdTaken                   0\n",
       "Age                         0\n",
       "TypeofContact               0\n",
       "CityTier                    0\n",
       "Occupation                  0\n",
       "Gender                      0\n",
       "NumberOfPersonVisiting      0\n",
       "PreferredPropertyStar       0\n",
       "MaritalStatus               0\n",
       "NumberOfTrips               0\n",
       "Passport                    0\n",
       "OwnCar                      0\n",
       "NumberOfChildrenVisiting    0\n",
       "Designation                 0\n",
       "MonthlyIncome               0\n",
       "dtype: int64"
      ]
     },
     "execution_count": 9,
     "metadata": {},
     "output_type": "execute_result"
    }
   ],
   "source": [
    "# Checking to make sure all null values have been treated\n",
    "data.isnull().sum().sort_values(ascending=False)"
   ]
  },
  {
   "cell_type": "code",
   "execution_count": 10,
   "id": "b691cec4",
   "metadata": {},
   "outputs": [],
   "source": [
    "#   Treat outliers in the Number of Trips and Monthly Income columns\n",
    "data['NumberOfTrips'] = np.where(data['NumberOfTrips'] >= 6, 6, data['NumberOfTrips'])\n",
    "data['MonthlyIncome'] = np.where(data['MonthlyIncome'] >= 40000, 23619.853491 , data['MonthlyIncome'])"
   ]
  },
  {
   "cell_type": "code",
   "execution_count": 11,
   "id": "7367ab40",
   "metadata": {},
   "outputs": [
    {
     "data": {
      "text/plain": [
       "0"
      ]
     },
     "execution_count": 11,
     "metadata": {},
     "output_type": "execute_result"
    }
   ],
   "source": [
    "#   Lets do one last check before moving on\n",
    "data.isnull().T.any().T.sum()"
   ]
  },
  {
   "cell_type": "code",
   "execution_count": 12,
   "id": "d08cc691",
   "metadata": {},
   "outputs": [],
   "source": [
    "# Get Dummies for the dataset\n",
    "one_hots = ['TypeofContact','Occupation','Gender','MaritalStatus','Designation']\n",
    "data=pd.get_dummies(data, columns=one_hots)"
   ]
  },
  {
   "cell_type": "code",
   "execution_count": 13,
   "id": "fb5a42dd",
   "metadata": {},
   "outputs": [],
   "source": [
    "#creating a copy of the dataset to quickly refresh the data if I break something during testing\n",
    "refresh = data.copy()"
   ]
  },
  {
   "cell_type": "code",
   "execution_count": 14,
   "id": "9a02d248",
   "metadata": {},
   "outputs": [],
   "source": [
    "X = data.drop(\"ProdTaken\", axis=1)\n",
    "y = data.pop(\"ProdTaken\")"
   ]
  },
  {
   "cell_type": "code",
   "execution_count": 15,
   "id": "c6f2399d",
   "metadata": {},
   "outputs": [],
   "source": [
    "# Splitting data into training and test set:\n",
    "X_train, X_test, y_train, y_test = train_test_split(X, y, test_size=0.3, random_state=1)"
   ]
  },
  {
   "cell_type": "code",
   "execution_count": 16,
   "id": "59629ee6",
   "metadata": {
    "scrolled": true
   },
   "outputs": [
    {
     "name": "stdout",
     "output_type": "stream",
     "text": [
      "Shape of Training set :  (3404, 27)\n",
      "Shape of test set :  (1459, 27)\n",
      "\n",
      "---------------------------------------\n",
      "\n",
      "Percentage of classes in training set:\n",
      "0    0.804935\n",
      "1    0.195065\n",
      "Name: ProdTaken, dtype: float64\n",
      "\n",
      "---------------------------------------\n",
      "\n",
      "Percentage of classes in test set:\n",
      "0    0.826594\n",
      "1    0.173406\n",
      "Name: ProdTaken, dtype: float64\n"
     ]
    }
   ],
   "source": [
    "print(\"Shape of Training set : \", X_train.shape)\n",
    "print(\"Shape of test set : \", X_test.shape)\n",
    "print(\"\")\n",
    "print(\"---------------------------------------\")\n",
    "print(\"\")\n",
    "print(\"Percentage of classes in training set:\")\n",
    "print(y_train.value_counts(normalize=True))\n",
    "print(\"\")\n",
    "print(\"---------------------------------------\")\n",
    "print(\"\")\n",
    "print(\"Percentage of classes in test set:\")\n",
    "print(y_test.value_counts(normalize=True))"
   ]
  },
  {
   "cell_type": "code",
   "execution_count": 66,
   "id": "15d1bd80",
   "metadata": {},
   "outputs": [],
   "source": [
    "# Function to compute metrics \n",
    "def model_performance_classification_sklearn(model, x, y):\n",
    "\n",
    "    prediction = model.predict(x)\n",
    "\n",
    "    accuracy = accuracy_score(y, prediction)\n",
    "    recall = recall_score(y, prediction)\n",
    "    precision = precision_score(y, prediction)\n",
    "    f1 = f1_score(y, prediction)\n",
    "\n",
    "    performance = pd.DataFrame({\"Accuracy\": accuracy,\"Recall\": recall,\"Precision\": precision,\"F1\": f1,},index=[0],)\n",
    "\n",
    "    return performance"
   ]
  },
  {
   "cell_type": "code",
   "execution_count": 67,
   "id": "6b1950de",
   "metadata": {},
   "outputs": [],
   "source": [
    "# Fitting the Bagging Classifier on the training set\n",
    "bagging = BaggingClassifier(random_state=1)\n",
    "bagging.fit(X_train, y_train)\n",
    "\n",
    "# Predicting the train set\n",
    "y_train_prediction_bagging = bagging.predict(X_train)"
   ]
  },
  {
   "cell_type": "code",
   "execution_count": 68,
   "id": "812f517f",
   "metadata": {},
   "outputs": [
    {
     "data": {
      "image/png": "[encoded data removed]",
      "text/plain": [
       "<Figure size 432x288 with 2 Axes>"
      ]
     },
     "metadata": {
      "needs_background": "light"
     },
     "output_type": "display_data"
    }
   ],
   "source": [
    "sns.heatmap(confusion_matrix(y_train,y_train_prediction_bagging),annot=True,fmt='.1f')\n",
    "plt.show()"
   ]
  },
  {
   "cell_type": "code",
   "execution_count": 69,
   "id": "f6398584",
   "metadata": {},
   "outputs": [
    {
     "data": {
      "text/html": [
       "<div>\n",
       "<style scoped>\n",
       "    .dataframe tbody tr th:only-of-type {\n",
       "        vertical-align: middle;\n",
       "    }\n",
       "\n",
       "    .dataframe tbody tr th {\n",
       "        vertical-align: top;\n",
       "    }\n",
       "\n",
       "    .dataframe thead th {\n",
       "        text-align: right;\n",
       "    }\n",
       "</style>\n",
       "<table border=\"1\" class=\"dataframe\">\n",
       "  <thead>\n",
       "    <tr style=\"text-align: right;\">\n",
       "      <th></th>\n",
       "      <th>Accuracy</th>\n",
       "      <th>Recall</th>\n",
       "      <th>Precision</th>\n",
       "      <th>F1</th>\n",
       "    </tr>\n",
       "  </thead>\n",
       "  <tbody>\n",
       "    <tr>\n",
       "      <th>Training</th>\n",
       "      <td>0.986486</td>\n",
       "      <td>0.935241</td>\n",
       "      <td>0.995192</td>\n",
       "      <td>0.964286</td>\n",
       "    </tr>\n",
       "    <tr>\n",
       "      <th>Test</th>\n",
       "      <td>0.878684</td>\n",
       "      <td>0.470356</td>\n",
       "      <td>0.734568</td>\n",
       "      <td>0.573494</td>\n",
       "    </tr>\n",
       "  </tbody>\n",
       "</table>\n",
       "</div>"
      ],
      "text/plain": [
       "          Accuracy    Recall  Precision        F1\n",
       "Training  0.986486  0.935241   0.995192  0.964286\n",
       "Test      0.878684  0.470356   0.734568  0.573494"
      ]
     },
     "execution_count": 69,
     "metadata": {},
     "output_type": "execute_result"
    }
   ],
   "source": [
    "#Calculating different metrics\n",
    "bagging_train_perf = model_performance_classification_sklearn(bagging,X_train,y_train)\n",
    "bagging_test_perf = model_performance_classification_sklearn(bagging,X_test,y_test)\n",
    "bagging_perf = bagging_train_perf.append(bagging_test_perf,ignore_index=True)\n",
    "bagging_perf.index = ['Training','Test']\n",
    "bagging_perf.head()"
   ]
  },
  {
   "cell_type": "code",
   "execution_count": 70,
   "id": "22953533",
   "metadata": {},
   "outputs": [],
   "source": [
    "rf = RandomForestClassifier(random_state=1)\n",
    "rf.fit(X_train,y_train)\n",
    "\n",
    "# Predicting the train set\n",
    "y_train_prediction_rf = rf.predict(X_train)"
   ]
  },
  {
   "cell_type": "code",
   "execution_count": 71,
   "id": "3604cf6d",
   "metadata": {},
   "outputs": [
    {
     "data": {
      "text/html": [
       "<div>\n",
       "<style scoped>\n",
       "    .dataframe tbody tr th:only-of-type {\n",
       "        vertical-align: middle;\n",
       "    }\n",
       "\n",
       "    .dataframe tbody tr th {\n",
       "        vertical-align: top;\n",
       "    }\n",
       "\n",
       "    .dataframe thead th {\n",
       "        text-align: right;\n",
       "    }\n",
       "</style>\n",
       "<table border=\"1\" class=\"dataframe\">\n",
       "  <thead>\n",
       "    <tr style=\"text-align: right;\">\n",
       "      <th></th>\n",
       "      <th>Accuracy</th>\n",
       "      <th>Recall</th>\n",
       "      <th>Precision</th>\n",
       "      <th>F1</th>\n",
       "    </tr>\n",
       "  </thead>\n",
       "  <tbody>\n",
       "    <tr>\n",
       "      <th>Training</th>\n",
       "      <td>1.000000</td>\n",
       "      <td>1.000000</td>\n",
       "      <td>1.000000</td>\n",
       "      <td>1.000000</td>\n",
       "    </tr>\n",
       "    <tr>\n",
       "      <th>Test</th>\n",
       "      <td>0.884853</td>\n",
       "      <td>0.454545</td>\n",
       "      <td>0.793103</td>\n",
       "      <td>0.577889</td>\n",
       "    </tr>\n",
       "  </tbody>\n",
       "</table>\n",
       "</div>"
      ],
      "text/plain": [
       "          Accuracy    Recall  Precision        F1\n",
       "Training  1.000000  1.000000   1.000000  1.000000\n",
       "Test      0.884853  0.454545   0.793103  0.577889"
      ]
     },
     "execution_count": 71,
     "metadata": {},
     "output_type": "execute_result"
    }
   ],
   "source": [
    "rf_train_perf = model_performance_classification_sklearn(rf,X_train,y_train)\n",
    "rf_test_perf = model_performance_classification_sklearn(rf,X_test,y_test)\n",
    "rf_perf = rf_train_perf.append(rf_test_perf,ignore_index=True)\n",
    "rf_perf.index = ['Training','Test']\n",
    "rf_perf.head()"
   ]
  },
  {
   "cell_type": "code",
   "execution_count": null,
   "id": "533f7f68",
   "metadata": {},
   "outputs": [],
   "source": []
  },
  {
   "cell_type": "code",
   "execution_count": null,
   "id": "9f6d5238",
   "metadata": {},
   "outputs": [],
   "source": []
  },
  {
   "cell_type": "code",
   "execution_count": null,
   "id": "e72ad9c2",
   "metadata": {},
   "outputs": [],
   "source": []
  },
  {
   "cell_type": "code",
   "execution_count": null,
   "id": "321fdb70",
   "metadata": {},
   "outputs": [],
   "source": []
  },
  {
   "cell_type": "code",
   "execution_count": null,
   "id": "eef137c1",
   "metadata": {},
   "outputs": [],
   "source": []
  },
  {
   "cell_type": "code",
   "execution_count": null,
   "id": "78d5fb36",
   "metadata": {},
   "outputs": [],
   "source": [
    "# defining a function to compute different metrics to check performance of a classification model built using sklearn\n",
    "def model_performance_classification_sklearn(model, predictors, target):\n",
    "    \"\"\"\n",
    "    Function to compute different metrics to check classification model performance\n",
    "\n",
    "    model: classifier\n",
    "    predictors: independent variables\n",
    "    target: dependent variable\n",
    "    \"\"\"\n",
    "\n",
    "    # predicting using the independent variables\n",
    "    pred = model.predict(predictors)\n",
    "\n",
    "    acc = accuracy_score(target, pred)  # to compute Accuracy\n",
    "    recall = recall_score(target, pred)  # to compute Recall\n",
    "    precision = precision_score(target, pred)  # to compute Precision\n",
    "    f1 = f1_score(target, pred)  # to compute F1-score\n",
    "\n",
    "    # creating a dataframe of metrics\n",
    "    df_perf = pd.DataFrame(\n",
    "        {\n",
    "            \"Accuracy\": acc,\n",
    "            \"Recall\": recall,\n",
    "            \"Precision\": precision,\n",
    "            \"F1\": f1,\n",
    "        },\n",
    "        index=[0],\n",
    "    )\n",
    "\n",
    "    return df_perf"
   ]
  },
  {
   "cell_type": "code",
   "execution_count": 72,
   "id": "eae262b7",
   "metadata": {},
   "outputs": [],
   "source": [
    "##  Function to calculate r2_score and RMSE on train and test data\n",
    "def get_model_score(model, flag=True): #------------------------- DO WE NEED FLAG? \n",
    "    '''\n",
    "    model : classifier to predict values of X\n",
    "\n",
    "    '''\n",
    "    # defining an empty list to store train and test results\n",
    "    score_list=[]\n",
    "    \n",
    "    pred_train = model.predict(X_train)\n",
    "    pred_test = model.predict(X_test)\n",
    "    \n",
    "    train_r2=metrics.r2_score(y_train,pred_train)\n",
    "    test_r2=metrics.r2_score(y_test,pred_test)\n",
    "    train_rmse=np.sqrt(metrics.mean_squared_error(y_train,pred_train))\n",
    "    test_rmse=np.sqrt(metrics.mean_squared_error(y_test,pred_test))\n",
    "    \n",
    "    #Adding all scores in the list\n",
    "    score_list.extend((train_r2,test_r2,train_rmse,test_rmse))\n",
    "    \n",
    "    # If the flag is set to True then only the following print statements will be dispayed, the default value is True\n",
    "    if flag==True: \n",
    "        print(\"R-sqaure on training set : \",metrics.r2_score(y_train,pred_train))\n",
    "        print(\"R-square on test set : \",metrics.r2_score(y_test,pred_test))\n",
    "        print(\"RMSE on training set : \",np.sqrt(metrics.mean_squared_error(y_train,pred_train)))\n",
    "        print(\"RMSE on test set : \",np.sqrt(metrics.mean_squared_error(y_test,pred_test)))\n",
    "    \n",
    "    # returning the list with train and test scores\n",
    "    return score_list"
   ]
  },
  {
   "cell_type": "code",
   "execution_count": 73,
   "id": "a9fcb891",
   "metadata": {},
   "outputs": [
    {
     "name": "stdout",
     "output_type": "stream",
     "text": [
      "R-sqaure on training set :  0.9139345703983819\n",
      "R-square on test set :  0.1536290877627673\n",
      "RMSE on training set :  0.11624763874381928\n",
      "RMSE on test set :  0.34830442122137606\n"
     ]
    },
    {
     "data": {
      "text/plain": [
       "[0.9139345703983819,\n",
       " 0.1536290877627673,\n",
       " 0.11624763874381928,\n",
       " 0.34830442122137606]"
      ]
     },
     "execution_count": 73,
     "metadata": {},
     "output_type": "execute_result"
    }
   ],
   "source": [
    "get_model_score(bagging)"
   ]
  },
  {
   "cell_type": "code",
   "execution_count": null,
   "id": "601e505a",
   "metadata": {},
   "outputs": [],
   "source": []
  },
  {
   "cell_type": "code",
   "execution_count": null,
   "id": "c09866cd",
   "metadata": {},
   "outputs": [],
   "source": []
  },
  {
   "cell_type": "code",
   "execution_count": null,
   "id": "404e9687",
   "metadata": {},
   "outputs": [],
   "source": []
  },
  {
   "cell_type": "code",
   "execution_count": null,
   "id": "1e9ad624",
   "metadata": {},
   "outputs": [],
   "source": []
  },
  {
   "cell_type": "markdown",
   "id": "ea901a36",
   "metadata": {},
   "source": [
    "##### Super Deluxe Package Customer Profile Analysis\n",
    "\n",
    "1) Very few customers pick the Super Deluxe Package <br>\n",
    "2) The largest range of customers is between 40 - 45 <br>\n",
    "3) Most customers will only almost exclusively visit tier 3 cities <br>\n",
    "4) Most customers will need a pitch of less than 20 minutes <br>\n",
    "5) On average it will take 3 follow ups to close the deal <br>\n",
    "6) Most customers have a monthly income between 28,000 - 32,000 <br>\n",
    "7) AVPs are the only customers picking this package <br>\n",
    "8) 80% of customers were company invited <br>\n",
    "\n",
    "--------------------------------------------------"
   ]
  },
  {
   "cell_type": "code",
   "execution_count": null,
   "id": "b31a86bd",
   "metadata": {},
   "outputs": [],
   "source": []
  },
  {
   "cell_type": "markdown",
   "id": "360a5d52",
   "metadata": {},
   "source": [
    "### Interesting thoughts on customers as a whole\n",
    "\n",
    "- Each package only has 1 type of customer, this give us very easy to define targeting information of customers\n",
    "- The vast majority of our customers self iniated contact, our marketing may not be very effective\n",
    "- The basic package is by far our biggest seller\n",
    "- Few trips are to tier 2 cities\n",
    "- Very few people taking these trips are free lancers and may not be a good target\n",
    "- Very few trips were take to visit 1 or 5 people, most trips are taken to visit 2-4 people\n",
    "- 50% of customers are between 31 - 44\n",
    "- The average pitch was 15 minutes"
   ]
  },
  {
   "cell_type": "markdown",
   "id": "f3a4bfaf",
   "metadata": {},
   "source": [
    "### Bagging\n",
    "- **Bagging:** The Accuracy between the two sets is decent but there are massive disparities between Reacall and F1 in train and test set. Precision could also be closer betweent the two data sets.\n",
    "- **Random Forest:** The difference in accuracy between the two sets is slightly larger here. Recall and F1 both have slightly larger disparities when compared to bagging, precision is roughly the same. The Accuracy between the two sets is decent but there are massive disparities between Reacall and F1 in train and test set. Precision could also be closer betweent the two data sets. With similiarities between the two sets in the shape of the data but baggings predictions closer between train and test it maybe be the better predictor.\n",
    "- **Decision Tree:** The difference in accuracy between the three sets is even larger here with decision tree having the largest disparity. Recall and F1 both have better disparities when compared to bagging, precision is has the largest disparity of any of the datasets. As the company wants to minimize false postiives so recall is our best metric here. This makes decision tree the best model of the three so far but that doesnt mean its a good one yet. \n",
    "- **Tuned Bagging:** Overall performance metrics are not considerably better and our recall has gotten worse\n",
    "- **Tuned Random Forest:** We can see weve brought the recal between the test and training sets signficantly closer together but neither sets has a good result.\n",
    "- ** Tuned Decision Tree:** Our measures are all very close between the training and test sets. However, recall is def not good. \n",
    "\n",
    "\n",
    "#### Bagging Important Features:\n",
    "- MonthlyIncome\n",
    "- Age\n",
    "- Passport\n",
    "- CityTier\n",
    "\n",
    "### Boosting\n",
    "- **Adaboost:** The recall on Adaboost is attroucious, Accuracy is ok, Precision is better than recall and F1 but not good.\n",
    "- **Gradient Boost:** Very similar to Adaboost, Accuracy is strong but precision between train and test has a large disparity and recall is awful.\n",
    "- **XGBoost:** Recall on the training set is extremely good and the best of the boosting methods so far for both train and test. However the 40% disparity in effectiveness between train and test lets us know something is off here. Accruacy and Precision are both some of the strongest nubmers weve seen. \n",
    "- **Stacking:** Stacking has a perforamance closer to XGBoost but is more computational heavy than XGBoost. \n",
    "- **Adaboost Tuned:** Numbers are much better but still not better than XGBoost\n",
    "- **Gradient Boost Tuned:** Our recall is the worst here of all test sets\n",
    "\n",
    "#### Boosting Important Features: \n",
    "- Monthly Income \n",
    "- Age\n",
    "- Passport\n",
    "- Designation_Executive\n",
    "\n",
    "### Business Recommendations\n",
    "Each package only has 1 type of customer, this give us very easy to define targeting information of customers\n",
    "The vast majority of our customers self iniated contact, our marketing may not be very effective\n",
    "The basic package is by far our biggest seller\n",
    "Few trips are to tier 2 cities\n",
    "Very few people taking these trips are free lancers and may not be a good target\n",
    "Very few trips were take to visit 1 or 5 people, most trips are taken to visit 2-4 people\n",
    "50% of customers are between 31 - 44\n",
    "The average pitch was 15 minutes"
   ]
  },
  {
   "cell_type": "code",
   "execution_count": null,
   "id": "44fd2d38",
   "metadata": {},
   "outputs": [],
   "source": []
  }
 ],
 "metadata": {
  "kernelspec": {
   "display_name": "Python 3",
   "language": "python",
   "name": "python3"
  },
  "language_info": {
   "codemirror_mode": {
    "name": "ipython",
    "version": 3
   },
   "file_extension": ".py",
   "mimetype": "text/x-python",
   "name": "python",
   "nbconvert_exporter": "python",
   "pygments_lexer": "ipython3",
   "version": "3.8.8"
  }
 },
 "nbformat": 4,
 "nbformat_minor": 5
}
