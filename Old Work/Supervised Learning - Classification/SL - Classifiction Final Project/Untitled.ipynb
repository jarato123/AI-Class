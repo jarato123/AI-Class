{
 "cells": [
  {
   "cell_type": "markdown",
   "id": "adebb4a4",
   "metadata": {},
   "source": [
    "# Problem Statement from Course Page\n",
    "\n",
    "Context  \n",
    "AllLife Bank is a US bank that has a growing customer base. The majority of these customers are liability customers (depositors) with varying sizes of deposits. The number of customers who are also borrowers (asset customers) is quite small, and the bank is interested in expanding this base rapidly to bring in more loan business and in the process, earn more through the interest on loans. In particular, the management wants to explore ways of converting its liability customers to personal loan customers (while retaining them as depositors).\n",
    "\n",
    "A campaign that the bank ran last year for liability customers showed a healthy conversion rate of over 9% success. This has encouraged the retail marketing department to devise campaigns with better target marketing to increase the success ratio.\n",
    "\n",
    "You as a Data scientist at AllLife bank have to build a model that will help the marketing department to identify the potential customers who have a higher probability of purchasing the loan.\n",
    "\n",
    "Objective  \n",
    "To predict whether a liability customer will buy personal loans.\n",
    "Which variables are most significant.\n",
    "Which segment of customers should be targeted more.\n",
    "\n",
    "Data Dictionary  \n",
    "ID: Customer ID  \n",
    "Age: Customer’s age in completed years  \n",
    "Experience: #years of professional experience  \n",
    "Income: Annual income of the customer (in thousand dollars)  \n",
    "ZIP Code: Home Address ZIP code.  \n",
    "Family: the Family size of the customer  \n",
    "CCAvg: Average spending on credit cards per month (in thousand dollars)  \n",
    "Education: Education Level. 1: Undergrad; 2: Graduate;3: Advanced/Professional  \n",
    "Mortgage: Value of house mortgage if any. (in thousand dollars)  \n",
    "Personal_Loan: Did this customer accept the personal loan offered in the last campaign? (0: No, 1: Yes)  \n",
    "Securities_Account: Does the customer have securities account with the bank? (0: No, 1: Yes)\n",
    "CD_Account: Does the customer have a certificate of deposit (CD) account with the bank? (0: No, 1: Yes)  \n",
    "Online: Do customers use internet banking facilities? (0: No, 1: Yes)  \n",
    "CreditCard: Does the customer use a credit card issued by any other Bank (excluding All life Bank)? (0: No, 1: Yes)  "
   ]
  },
  {
   "cell_type": "code",
   "execution_count": null,
   "id": "95e05a14",
   "metadata": {},
   "outputs": [],
   "source": []
  }
 ],
 "metadata": {
  "kernelspec": {
   "display_name": "Python 3",
   "language": "python",
   "name": "python3"
  },
  "language_info": {
   "codemirror_mode": {
    "name": "ipython",
    "version": 3
   },
   "file_extension": ".py",
   "mimetype": "text/x-python",
   "name": "python",
   "nbconvert_exporter": "python",
   "pygments_lexer": "ipython3",
   "version": "3.8.8"
  }
 },
 "nbformat": 4,
 "nbformat_minor": 5
}
