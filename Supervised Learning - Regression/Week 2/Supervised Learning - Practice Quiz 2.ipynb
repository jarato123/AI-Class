{
 "cells": [
  {
   "cell_type": "code",
   "execution_count": 66,
   "id": "68b0dc61",
   "metadata": {},
   "outputs": [],
   "source": [
    "import numpy as np\n",
    "import pandas as pd\n",
    "\n",
    "import matplotlib.pyplot as plt\n",
    "import seaborn as sns\n",
    "import plotly.express as px\n",
    "\n",
    "%matplotlib inline"
   ]
  },
  {
   "cell_type": "code",
   "execution_count": 2,
   "id": "8bba0ce5",
   "metadata": {},
   "outputs": [
    {
     "data": {
      "text/html": [
       "<div>\n",
       "<style scoped>\n",
       "    .dataframe tbody tr th:only-of-type {\n",
       "        vertical-align: middle;\n",
       "    }\n",
       "\n",
       "    .dataframe tbody tr th {\n",
       "        vertical-align: top;\n",
       "    }\n",
       "\n",
       "    .dataframe thead th {\n",
       "        text-align: right;\n",
       "    }\n",
       "</style>\n",
       "<table border=\"1\" class=\"dataframe\">\n",
       "  <thead>\n",
       "    <tr style=\"text-align: right;\">\n",
       "      <th></th>\n",
       "      <th>Col1</th>\n",
       "      <th>Col2</th>\n",
       "      <th>Col3</th>\n",
       "      <th>Col4</th>\n",
       "    </tr>\n",
       "  </thead>\n",
       "  <tbody>\n",
       "    <tr>\n",
       "      <th>0</th>\n",
       "      <td>100</td>\n",
       "      <td>500</td>\n",
       "      <td>900</td>\n",
       "      <td>Nature</td>\n",
       "    </tr>\n",
       "    <tr>\n",
       "      <th>1</th>\n",
       "      <td>200</td>\n",
       "      <td>600</td>\n",
       "      <td>1000</td>\n",
       "      <td>Wildlife</td>\n",
       "    </tr>\n",
       "    <tr>\n",
       "      <th>2</th>\n",
       "      <td>300</td>\n",
       "      <td>700</td>\n",
       "      <td>1100</td>\n",
       "      <td>Animals</td>\n",
       "    </tr>\n",
       "    <tr>\n",
       "      <th>3</th>\n",
       "      <td>400</td>\n",
       "      <td>800</td>\n",
       "      <td>1200</td>\n",
       "      <td>Humans</td>\n",
       "    </tr>\n",
       "  </tbody>\n",
       "</table>\n",
       "</div>"
      ],
      "text/plain": [
       "   Col1  Col2  Col3      Col4\n",
       "0   100   500   900    Nature\n",
       "1   200   600  1000  Wildlife\n",
       "2   300   700  1100   Animals\n",
       "3   400   800  1200    Humans"
      ]
     },
     "execution_count": 2,
     "metadata": {},
     "output_type": "execute_result"
    }
   ],
   "source": [
    "data = pd.DataFrame({\"Col1\": [100,200,300,400], \"Col2\":[500,600,700,800], \"Col3\":[900,1000,1100,1200], \"Col4\":[\"Nature\",\"Wildlife\",\"Animals\",\"Humans\"]})\n",
    "data"
   ]
  },
  {
   "cell_type": "code",
   "execution_count": 25,
   "id": "19515b3c",
   "metadata": {},
   "outputs": [
    {
     "name": "stdout",
     "output_type": "stream",
     "text": [
      "0      Beauty\n",
      "1    Wildlife\n",
      "2     Animals\n",
      "3      Humans\n",
      "Name: Col4, dtype: object\n"
     ]
    }
   ],
   "source": [
    "print(data[\"Col4\"].replace(\"Nature\",\"Beauty\", inplace=False)) #replace (temporarily) the word “Nature” in \n",
    "                                                              #column 4 with the word “Beauty”.\n",
    "\n"
   ]
  },
  {
   "cell_type": "code",
   "execution_count": 27,
   "id": "b9c798b4",
   "metadata": {},
   "outputs": [
    {
     "name": "stdout",
     "output_type": "stream",
     "text": [
      "0      Beauty\n",
      "1    Wildlife\n",
      "2     Animals\n",
      "3      Humans\n",
      "Name: Col4, dtype: object\n"
     ]
    }
   ],
   "source": [
    "print(data[\"Col4\"].str.replace(\"Nature\",\"Beauty\")) #replace (temporarily) the word “Nature” in \n",
    "                                                   #column 4 with the word “Beauty”."
   ]
  },
  {
   "cell_type": "code",
   "execution_count": 28,
   "id": "c2576969",
   "metadata": {},
   "outputs": [
    {
     "data": {
      "text/html": [
       "<div>\n",
       "<style scoped>\n",
       "    .dataframe tbody tr th:only-of-type {\n",
       "        vertical-align: middle;\n",
       "    }\n",
       "\n",
       "    .dataframe tbody tr th {\n",
       "        vertical-align: top;\n",
       "    }\n",
       "\n",
       "    .dataframe thead th {\n",
       "        text-align: right;\n",
       "    }\n",
       "</style>\n",
       "<table border=\"1\" class=\"dataframe\">\n",
       "  <thead>\n",
       "    <tr style=\"text-align: right;\">\n",
       "      <th></th>\n",
       "      <th>Col1</th>\n",
       "      <th>Col2</th>\n",
       "      <th>Col3</th>\n",
       "      <th>Col4</th>\n",
       "      <th>Col5</th>\n",
       "      <th>Col6</th>\n",
       "    </tr>\n",
       "  </thead>\n",
       "  <tbody>\n",
       "    <tr>\n",
       "      <th>0</th>\n",
       "      <td>100</td>\n",
       "      <td>500</td>\n",
       "      <td>900</td>\n",
       "      <td>Nature</td>\n",
       "      <td>1500</td>\n",
       "      <td>800</td>\n",
       "    </tr>\n",
       "    <tr>\n",
       "      <th>1</th>\n",
       "      <td>200</td>\n",
       "      <td>600</td>\n",
       "      <td>1000</td>\n",
       "      <td>Wildlife</td>\n",
       "      <td>1800</td>\n",
       "      <td>800</td>\n",
       "    </tr>\n",
       "    <tr>\n",
       "      <th>2</th>\n",
       "      <td>300</td>\n",
       "      <td>700</td>\n",
       "      <td>1100</td>\n",
       "      <td>Animals</td>\n",
       "      <td>2100</td>\n",
       "      <td>800</td>\n",
       "    </tr>\n",
       "    <tr>\n",
       "      <th>3</th>\n",
       "      <td>400</td>\n",
       "      <td>800</td>\n",
       "      <td>1200</td>\n",
       "      <td>Humans</td>\n",
       "      <td>2400</td>\n",
       "      <td>800</td>\n",
       "    </tr>\n",
       "  </tbody>\n",
       "</table>\n",
       "</div>"
      ],
      "text/plain": [
       "   Col1  Col2  Col3      Col4  Col5  Col6\n",
       "0   100   500   900    Nature  1500   800\n",
       "1   200   600  1000  Wildlife  1800   800\n",
       "2   300   700  1100   Animals  2100   800\n",
       "3   400   800  1200    Humans  2400   800"
      ]
     },
     "execution_count": 28,
     "metadata": {},
     "output_type": "execute_result"
    }
   ],
   "source": [
    "data[\"Col5\"] = data[[\"Col1\",\"Col2\",\"Col3\"]].sum(axis=1) #add a new column ‘Col5’ to the dataframe that \n",
    "                                                        #will take the values of the horizontal sum of \n",
    "                                                        #‘Col1’, ‘Col2’, and ‘Col3’\n",
    "data"
   ]
  },
  {
   "cell_type": "code",
   "execution_count": 18,
   "id": "64ba75bf",
   "metadata": {},
   "outputs": [
    {
     "data": {
      "text/html": [
       "<div>\n",
       "<style scoped>\n",
       "    .dataframe tbody tr th:only-of-type {\n",
       "        vertical-align: middle;\n",
       "    }\n",
       "\n",
       "    .dataframe tbody tr th {\n",
       "        vertical-align: top;\n",
       "    }\n",
       "\n",
       "    .dataframe thead th {\n",
       "        text-align: right;\n",
       "    }\n",
       "</style>\n",
       "<table border=\"1\" class=\"dataframe\">\n",
       "  <thead>\n",
       "    <tr style=\"text-align: right;\">\n",
       "      <th></th>\n",
       "      <th>Col1</th>\n",
       "      <th>Col2</th>\n",
       "      <th>Col3</th>\n",
       "      <th>Col4</th>\n",
       "      <th>Col5</th>\n",
       "      <th>Col6</th>\n",
       "    </tr>\n",
       "  </thead>\n",
       "  <tbody>\n",
       "    <tr>\n",
       "      <th>0</th>\n",
       "      <td>100</td>\n",
       "      <td>500</td>\n",
       "      <td>900</td>\n",
       "      <td>Nature</td>\n",
       "      <td>1500</td>\n",
       "      <td>800</td>\n",
       "    </tr>\n",
       "    <tr>\n",
       "      <th>1</th>\n",
       "      <td>200</td>\n",
       "      <td>600</td>\n",
       "      <td>1000</td>\n",
       "      <td>Wildlife</td>\n",
       "      <td>1800</td>\n",
       "      <td>800</td>\n",
       "    </tr>\n",
       "    <tr>\n",
       "      <th>2</th>\n",
       "      <td>300</td>\n",
       "      <td>700</td>\n",
       "      <td>1100</td>\n",
       "      <td>Animals</td>\n",
       "      <td>2100</td>\n",
       "      <td>800</td>\n",
       "    </tr>\n",
       "    <tr>\n",
       "      <th>3</th>\n",
       "      <td>400</td>\n",
       "      <td>800</td>\n",
       "      <td>1200</td>\n",
       "      <td>Humans</td>\n",
       "      <td>2400</td>\n",
       "      <td>800</td>\n",
       "    </tr>\n",
       "  </tbody>\n",
       "</table>\n",
       "</div>"
      ],
      "text/plain": [
       "   Col1  Col2  Col3      Col4  Col5  Col6\n",
       "0   100   500   900    Nature  1500   800\n",
       "1   200   600  1000  Wildlife  1800   800\n",
       "2   300   700  1100   Animals  2100   800\n",
       "3   400   800  1200    Humans  2400   800"
      ]
     },
     "execution_count": 18,
     "metadata": {},
     "output_type": "execute_result"
    }
   ],
   "source": [
    "data[\"Col6\"] = data[\"Col3\"] - data[\"Col1\"] #add a new column ‘Col6’ to the dataframe that will take the values \n",
    "                                           #of the difference between ‘Col3’ and ‘Col1’\n",
    "data"
   ]
  },
  {
   "cell_type": "code",
   "execution_count": 22,
   "id": "a63c9e60",
   "metadata": {},
   "outputs": [
    {
     "data": {
      "text/html": [
       "<div>\n",
       "<style scoped>\n",
       "    .dataframe tbody tr th:only-of-type {\n",
       "        vertical-align: middle;\n",
       "    }\n",
       "\n",
       "    .dataframe tbody tr th {\n",
       "        vertical-align: top;\n",
       "    }\n",
       "\n",
       "    .dataframe thead th {\n",
       "        text-align: right;\n",
       "    }\n",
       "</style>\n",
       "<table border=\"1\" class=\"dataframe\">\n",
       "  <thead>\n",
       "    <tr style=\"text-align: right;\">\n",
       "      <th></th>\n",
       "      <th>Col1</th>\n",
       "      <th>Col3</th>\n",
       "      <th>Col4</th>\n",
       "      <th>Col5</th>\n",
       "      <th>Col6</th>\n",
       "    </tr>\n",
       "  </thead>\n",
       "  <tbody>\n",
       "    <tr>\n",
       "      <th>0</th>\n",
       "      <td>100</td>\n",
       "      <td>900</td>\n",
       "      <td>Nature</td>\n",
       "      <td>1500</td>\n",
       "      <td>800</td>\n",
       "    </tr>\n",
       "    <tr>\n",
       "      <th>1</th>\n",
       "      <td>200</td>\n",
       "      <td>1000</td>\n",
       "      <td>Wildlife</td>\n",
       "      <td>1800</td>\n",
       "      <td>800</td>\n",
       "    </tr>\n",
       "    <tr>\n",
       "      <th>2</th>\n",
       "      <td>300</td>\n",
       "      <td>1100</td>\n",
       "      <td>Animals</td>\n",
       "      <td>2100</td>\n",
       "      <td>800</td>\n",
       "    </tr>\n",
       "    <tr>\n",
       "      <th>3</th>\n",
       "      <td>400</td>\n",
       "      <td>1200</td>\n",
       "      <td>Humans</td>\n",
       "      <td>2400</td>\n",
       "      <td>800</td>\n",
       "    </tr>\n",
       "  </tbody>\n",
       "</table>\n",
       "</div>"
      ],
      "text/plain": [
       "   Col1  Col3      Col4  Col5  Col6\n",
       "0   100   900    Nature  1500   800\n",
       "1   200  1000  Wildlife  1800   800\n",
       "2   300  1100   Animals  2100   800\n",
       "3   400  1200    Humans  2400   800"
      ]
     },
     "execution_count": 22,
     "metadata": {},
     "output_type": "execute_result"
    }
   ],
   "source": [
    "data.drop([\"Col2\"],axis=1) #Choose the correct code(s) that will drop the column (temporarily) ‘Col2’ from the data."
   ]
  },
  {
   "cell_type": "code",
   "execution_count": 29,
   "id": "862e7691",
   "metadata": {},
   "outputs": [
    {
     "data": {
      "text/plain": [
       "200    1\n",
       "300    1\n",
       "100    1\n",
       "400    1\n",
       "Name: Col1, dtype: int64"
      ]
     },
     "execution_count": 29,
     "metadata": {},
     "output_type": "execute_result"
    }
   ],
   "source": [
    "data['Col1'].value_counts(dropna = False) #return the summary of the column along with the count of \n",
    "                                          #unique categories in a column"
   ]
  },
  {
   "cell_type": "code",
   "execution_count": 30,
   "id": "b57e5530",
   "metadata": {},
   "outputs": [
    {
     "data": {
      "text/plain": [
       "<seaborn.axisgrid.PairGrid at 0x7fcf0b4149a0>"
      ]
     },
     "execution_count": 30,
     "metadata": {},
     "output_type": "execute_result"
    },
    {
     "data": {
      "image/png": "[encoded data removed]",
      "text/plain": [
       "<Figure size 900x900 with 30 Axes>"
      ]
     },
     "metadata": {
      "needs_background": "light"
     },
     "output_type": "display_data"
    }
   ],
   "source": [
    "sns.pairplot(data)"
   ]
  },
  {
   "cell_type": "code",
   "execution_count": 39,
   "id": "48838360",
   "metadata": {},
   "outputs": [
    {
     "name": "stdout",
     "output_type": "stream",
     "text": [
      "0     500\n",
      "1    1000\n",
      "2    1500\n",
      "3    2000\n",
      "Name: Col1, dtype: int64\n"
     ]
    }
   ],
   "source": [
    "barry = data['Col1'] * 5 #multiply 'Col 1' by 5.\n",
    "print(barry)"
   ]
  },
  {
   "cell_type": "code",
   "execution_count": 38,
   "id": "757c94ca",
   "metadata": {},
   "outputs": [
    {
     "name": "stdout",
     "output_type": "stream",
     "text": [
      "0     500\n",
      "1    1000\n",
      "2    1500\n",
      "3    2000\n",
      "Name: Col1, dtype: int64\n"
     ]
    }
   ],
   "source": [
    "jerry = data['Col1'].apply(lambda x : x*5) #multiply 'Col 1' by 5.\n",
    "print(jerry)"
   ]
  },
  {
   "cell_type": "code",
   "execution_count": 41,
   "id": "9342f4cc",
   "metadata": {},
   "outputs": [
    {
     "data": {
      "text/plain": [
       "2"
      ]
     },
     "execution_count": 41,
     "metadata": {},
     "output_type": "execute_result"
    }
   ],
   "source": [
    "data['Col4'].str.endswith('s').sum() #give the number of elements that end with ‘s’ in ‘Col4’."
   ]
  },
  {
   "cell_type": "code",
   "execution_count": 42,
   "id": "d3854e36",
   "metadata": {},
   "outputs": [
    {
     "data": {
      "text/plain": [
       "0      NATURE\n",
       "1    WILDLIFE\n",
       "2     ANIMALS\n",
       "3      HUMANS\n",
       "Name: Col4, dtype: object"
      ]
     },
     "execution_count": 42,
     "metadata": {},
     "output_type": "execute_result"
    }
   ],
   "source": [
    "data[\"Col4\"].str.upper() #change the case of strings to upper case."
   ]
  },
  {
   "cell_type": "code",
   "execution_count": 43,
   "id": "2494eb77",
   "metadata": {},
   "outputs": [
    {
     "data": {
      "text/html": [
       "<div>\n",
       "<style scoped>\n",
       "    .dataframe tbody tr th:only-of-type {\n",
       "        vertical-align: middle;\n",
       "    }\n",
       "\n",
       "    .dataframe tbody tr th {\n",
       "        vertical-align: top;\n",
       "    }\n",
       "\n",
       "    .dataframe thead th {\n",
       "        text-align: right;\n",
       "    }\n",
       "</style>\n",
       "<table border=\"1\" class=\"dataframe\">\n",
       "  <thead>\n",
       "    <tr style=\"text-align: right;\">\n",
       "      <th></th>\n",
       "      <th>Col1</th>\n",
       "      <th>Col2</th>\n",
       "      <th>Col3</th>\n",
       "      <th>Col4</th>\n",
       "      <th>Col5</th>\n",
       "      <th>Col6</th>\n",
       "    </tr>\n",
       "  </thead>\n",
       "  <tbody>\n",
       "    <tr>\n",
       "      <th>0</th>\n",
       "      <td>100</td>\n",
       "      <td>500</td>\n",
       "      <td>900</td>\n",
       "      <td>Nature</td>\n",
       "      <td>1500</td>\n",
       "      <td>800</td>\n",
       "    </tr>\n",
       "    <tr>\n",
       "      <th>1</th>\n",
       "      <td>200</td>\n",
       "      <td>600</td>\n",
       "      <td>1000</td>\n",
       "      <td>Wildlife</td>\n",
       "      <td>1800</td>\n",
       "      <td>800</td>\n",
       "    </tr>\n",
       "    <tr>\n",
       "      <th>2</th>\n",
       "      <td>300</td>\n",
       "      <td>700</td>\n",
       "      <td>1100</td>\n",
       "      <td>Animals</td>\n",
       "      <td>2100</td>\n",
       "      <td>800</td>\n",
       "    </tr>\n",
       "    <tr>\n",
       "      <th>3</th>\n",
       "      <td>400</td>\n",
       "      <td>800</td>\n",
       "      <td>1200</td>\n",
       "      <td>Humans</td>\n",
       "      <td>2400</td>\n",
       "      <td>800</td>\n",
       "    </tr>\n",
       "  </tbody>\n",
       "</table>\n",
       "</div>"
      ],
      "text/plain": [
       "   Col1  Col2  Col3      Col4  Col5  Col6\n",
       "0   100   500   900    Nature  1500   800\n",
       "1   200   600  1000  Wildlife  1800   800\n",
       "2   300   700  1100   Animals  2100   800\n",
       "3   400   800  1200    Humans  2400   800"
      ]
     },
     "execution_count": 43,
     "metadata": {},
     "output_type": "execute_result"
    }
   ],
   "source": [
    "data"
   ]
  },
  {
   "cell_type": "code",
   "execution_count": 50,
   "id": "9c3af4b7",
   "metadata": {},
   "outputs": [],
   "source": [
    "df = pd.DataFrame({'A': ['m', 'f', 'm'], 'B': ['b', 'a', 'c'],'Age': [11, 12, 13]})"
   ]
  },
  {
   "cell_type": "code",
   "execution_count": 51,
   "id": "4e789429",
   "metadata": {},
   "outputs": [
    {
     "data": {
      "text/html": [
       "<div>\n",
       "<style scoped>\n",
       "    .dataframe tbody tr th:only-of-type {\n",
       "        vertical-align: middle;\n",
       "    }\n",
       "\n",
       "    .dataframe tbody tr th {\n",
       "        vertical-align: top;\n",
       "    }\n",
       "\n",
       "    .dataframe thead th {\n",
       "        text-align: right;\n",
       "    }\n",
       "</style>\n",
       "<table border=\"1\" class=\"dataframe\">\n",
       "  <thead>\n",
       "    <tr style=\"text-align: right;\">\n",
       "      <th></th>\n",
       "      <th>A</th>\n",
       "      <th>B</th>\n",
       "      <th>Age</th>\n",
       "    </tr>\n",
       "  </thead>\n",
       "  <tbody>\n",
       "    <tr>\n",
       "      <th>0</th>\n",
       "      <td>m</td>\n",
       "      <td>b</td>\n",
       "      <td>11</td>\n",
       "    </tr>\n",
       "    <tr>\n",
       "      <th>1</th>\n",
       "      <td>f</td>\n",
       "      <td>a</td>\n",
       "      <td>12</td>\n",
       "    </tr>\n",
       "    <tr>\n",
       "      <th>2</th>\n",
       "      <td>m</td>\n",
       "      <td>c</td>\n",
       "      <td>13</td>\n",
       "    </tr>\n",
       "  </tbody>\n",
       "</table>\n",
       "</div>"
      ],
      "text/plain": [
       "   A  B  Age\n",
       "0  m  b   11\n",
       "1  f  a   12\n",
       "2  m  c   13"
      ]
     },
     "execution_count": 51,
     "metadata": {},
     "output_type": "execute_result"
    }
   ],
   "source": [
    "df"
   ]
  },
  {
   "cell_type": "code",
   "execution_count": 53,
   "id": "9f9e398b",
   "metadata": {},
   "outputs": [
    {
     "data": {
      "text/html": [
       "<div>\n",
       "<style scoped>\n",
       "    .dataframe tbody tr th:only-of-type {\n",
       "        vertical-align: middle;\n",
       "    }\n",
       "\n",
       "    .dataframe tbody tr th {\n",
       "        vertical-align: top;\n",
       "    }\n",
       "\n",
       "    .dataframe thead th {\n",
       "        text-align: right;\n",
       "    }\n",
       "</style>\n",
       "<table border=\"1\" class=\"dataframe\">\n",
       "  <thead>\n",
       "    <tr style=\"text-align: right;\">\n",
       "      <th></th>\n",
       "      <th>Age</th>\n",
       "      <th>Gender_f</th>\n",
       "      <th>Gender_m</th>\n",
       "      <th>Class_a</th>\n",
       "      <th>Class_b</th>\n",
       "      <th>Class_c</th>\n",
       "    </tr>\n",
       "  </thead>\n",
       "  <tbody>\n",
       "    <tr>\n",
       "      <th>0</th>\n",
       "      <td>11</td>\n",
       "      <td>0</td>\n",
       "      <td>1</td>\n",
       "      <td>0</td>\n",
       "      <td>1</td>\n",
       "      <td>0</td>\n",
       "    </tr>\n",
       "    <tr>\n",
       "      <th>1</th>\n",
       "      <td>12</td>\n",
       "      <td>1</td>\n",
       "      <td>0</td>\n",
       "      <td>1</td>\n",
       "      <td>0</td>\n",
       "      <td>0</td>\n",
       "    </tr>\n",
       "    <tr>\n",
       "      <th>2</th>\n",
       "      <td>13</td>\n",
       "      <td>0</td>\n",
       "      <td>1</td>\n",
       "      <td>0</td>\n",
       "      <td>0</td>\n",
       "      <td>1</td>\n",
       "    </tr>\n",
       "  </tbody>\n",
       "</table>\n",
       "</div>"
      ],
      "text/plain": [
       "   Age  Gender_f  Gender_m  Class_a  Class_b  Class_c\n",
       "0   11         0         1        0        1        0\n",
       "1   12         1         0        1        0        0\n",
       "2   13         0         1        0        0        1"
      ]
     },
     "execution_count": 53,
     "metadata": {},
     "output_type": "execute_result"
    }
   ],
   "source": [
    "pd.get_dummies(df, prefix=['Gender', 'Class']) #code can be used to obtain the desired output from the dataframe df?"
   ]
  },
  {
   "cell_type": "code",
   "execution_count": 68,
   "id": "73cbdec0",
   "metadata": {},
   "outputs": [
    {
     "data": {
      "text/plain": [
       "array([ 7.25, 18.75])"
      ]
     },
     "execution_count": 68,
     "metadata": {},
     "output_type": "execute_result"
    }
   ],
   "source": [
    "values  = [2, 5, 12, 15, 19, 4, 6, 11, 16, 18, 12, 12, 42, 6, 56, 34, 23, 11]\n",
    "np.quantile(values, [0.25,0.75])"
   ]
  },
  {
   "cell_type": "code",
   "execution_count": null,
   "id": "b4cde227",
   "metadata": {},
   "outputs": [],
   "source": []
  }
 ],
 "metadata": {
  "kernelspec": {
   "display_name": "Python 3",
   "language": "python",
   "name": "python3"
  },
  "language_info": {
   "codemirror_mode": {
    "name": "ipython",
    "version": 3
   },
   "file_extension": ".py",
   "mimetype": "text/x-python",
   "name": "python",
   "nbconvert_exporter": "python",
   "pygments_lexer": "ipython3",
   "version": "3.8.8"
  }
 },
 "nbformat": 4,
 "nbformat_minor": 5
}
